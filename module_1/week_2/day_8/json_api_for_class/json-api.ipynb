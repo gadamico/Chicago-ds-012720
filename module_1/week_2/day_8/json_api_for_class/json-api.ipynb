{
 "cells": [
  {
   "cell_type": "markdown",
   "metadata": {},
   "source": [
    "# Using APIs and JSON Data"
   ]
  },
  {
   "cell_type": "markdown",
   "metadata": {},
   "source": [
    "## Objectives\n",
    "You will be able to:\n",
    "* Access and manipulate data inside a JSON file\n",
    "* Pull data from an API and parse/transform the data"
   ]
  },
  {
   "cell_type": "markdown",
   "metadata": {},
   "source": [
    "## Agenda\n",
    "\n",
    "* Review JSON Schemas\n",
    "* Introduce APIs.\n",
    "* Walk through how to make an API request. \n",
    "* Practice making API requests and Parsing the data.\n"
   ]
  },
  {
   "cell_type": "markdown",
   "metadata": {},
   "source": [
    "### What is the difference between a JSON and a python dictionary?"
   ]
  },
  {
   "cell_type": "markdown",
   "metadata": {},
   "source": [
    "## Loading the JSON file\n",
    "\n",
    "As before, we begin by importing the json package, opening a file with python's built in function, and then loading that data in."
   ]
  },
  {
   "cell_type": "code",
   "execution_count": 1,
   "metadata": {},
   "outputs": [],
   "source": [
    "import json\n",
    "f = open('data/output.json')\n",
    "data = json.load(f)\n"
   ]
  },
  {
   "cell_type": "markdown",
   "metadata": {},
   "source": [
    "## Exploring JSON Schemas  \n",
    "\n",
    "Recall that JSON files have a nested structure. The most granular level of raw data will be individual numbers (float/int) and strings. These in turn will be stored in the equivalent of python lists and dictionaries. Because these can be combined, we'll start exploring by checking the type of our root object, and start mapping out the hierarchy of the json file."
   ]
  },
  {
   "cell_type": "code",
   "execution_count": 2,
   "metadata": {},
   "outputs": [
    {
     "data": {
      "text/plain": [
       "dict"
      ]
     },
     "execution_count": 2,
     "metadata": {},
     "output_type": "execute_result"
    }
   ],
   "source": [
    "type(data)"
   ]
  },
  {
   "cell_type": "markdown",
   "metadata": {},
   "source": [
    "As you can see, in this case, the first level of the hierarchy is a dictionary. Let's explore what keys are within this:"
   ]
  },
  {
   "cell_type": "code",
   "execution_count": 3,
   "metadata": {},
   "outputs": [
    {
     "data": {
      "text/plain": [
       "dict_keys(['albums'])"
      ]
     },
     "execution_count": 3,
     "metadata": {},
     "output_type": "execute_result"
    }
   ],
   "source": [
    "data.keys()"
   ]
  },
  {
   "cell_type": "markdown",
   "metadata": {},
   "source": [
    "In this case, there is only a single key, 'albums', so we'll continue on down the pathway exploring and mapping out the hierarchy. Once again, let's start by checking the type of this nested data structure."
   ]
  },
  {
   "cell_type": "code",
   "execution_count": 4,
   "metadata": {},
   "outputs": [
    {
     "data": {
      "text/plain": [
       "dict"
      ]
     },
     "execution_count": 4,
     "metadata": {},
     "output_type": "execute_result"
    }
   ],
   "source": [
    "type(data['albums'])"
   ]
  },
  {
   "cell_type": "markdown",
   "metadata": {},
   "source": [
    "Another dictionary! So thus far, we have a dictionary within a dictionary. Once again, let's investigate what's within this dictionary (JSON calls the equivalent of Python dictionaries Objects.)"
   ]
  },
  {
   "cell_type": "code",
   "execution_count": 5,
   "metadata": {},
   "outputs": [
    {
     "data": {
      "text/plain": [
       "dict_keys(['href', 'items', 'limit', 'next', 'offset', 'previous', 'total'])"
      ]
     },
     "execution_count": 5,
     "metadata": {},
     "output_type": "execute_result"
    }
   ],
   "source": [
    "data['albums'].keys()"
   ]
  },
  {
   "cell_type": "markdown",
   "metadata": {},
   "source": [
    "At this point, things are starting to look something like this: \n",
    "\n",
    "![](images/json_diagram1.JPG)"
   ]
  },
  {
   "cell_type": "code",
   "execution_count": 6,
   "metadata": {},
   "outputs": [
    {
     "data": {
      "text/plain": [
       "[{'album_type': 'single',\n",
       "  'artists': [{'external_urls': {'spotify': 'https://open.spotify.com/artist/2RdwBSPQiwcmiDo9kixcl8'},\n",
       "    'href': 'https://api.spotify.com/v1/artists/2RdwBSPQiwcmiDo9kixcl8',\n",
       "    'id': '2RdwBSPQiwcmiDo9kixcl8',\n",
       "    'name': 'Pharrell Williams',\n",
       "    'type': 'artist',\n",
       "    'uri': 'spotify:artist:2RdwBSPQiwcmiDo9kixcl8'}],\n",
       "  'available_markets': ['AD',\n",
       "   'AR',\n",
       "   'AT',\n",
       "   'AU',\n",
       "   'BE',\n",
       "   'BG',\n",
       "   'BO',\n",
       "   'BR',\n",
       "   'CA',\n",
       "   'CH',\n",
       "   'CL',\n",
       "   'CO',\n",
       "   'CR',\n",
       "   'CY',\n",
       "   'CZ',\n",
       "   'DE',\n",
       "   'DK',\n",
       "   'DO',\n",
       "   'EC',\n",
       "   'EE',\n",
       "   'ES',\n",
       "   'FI',\n",
       "   'FR',\n",
       "   'GB',\n",
       "   'GR',\n",
       "   'GT',\n",
       "   'HK',\n",
       "   'HN',\n",
       "   'HU',\n",
       "   'ID',\n",
       "   'IE',\n",
       "   'IS',\n",
       "   'IT',\n",
       "   'JP',\n",
       "   'LI',\n",
       "   'LT',\n",
       "   'LU',\n",
       "   'LV',\n",
       "   'MC',\n",
       "   'MT',\n",
       "   'MX',\n",
       "   'MY',\n",
       "   'NI',\n",
       "   'NL',\n",
       "   'NO',\n",
       "   'NZ',\n",
       "   'PA',\n",
       "   'PE',\n",
       "   'PH',\n",
       "   'PL',\n",
       "   'PT',\n",
       "   'PY',\n",
       "   'SE',\n",
       "   'SG',\n",
       "   'SK',\n",
       "   'SV',\n",
       "   'TR',\n",
       "   'TW',\n",
       "   'US',\n",
       "   'UY'],\n",
       "  'external_urls': {'spotify': 'https://open.spotify.com/album/5ZX4m5aVSmWQ5iHAPQpT71'},\n",
       "  'href': 'https://api.spotify.com/v1/albums/5ZX4m5aVSmWQ5iHAPQpT71',\n",
       "  'id': '5ZX4m5aVSmWQ5iHAPQpT71',\n",
       "  'images': [{'height': 640,\n",
       "    'url': 'https://i.scdn.co/image/e6b635ebe3ef4ba22492f5698a7b5d417f78b88a',\n",
       "    'width': 640},\n",
       "   {'height': 300,\n",
       "    'url': 'https://i.scdn.co/image/92ae5b0fe64870c09004dd2e745a4fb1bf7de39d',\n",
       "    'width': 300},\n",
       "   {'height': 64,\n",
       "    'url': 'https://i.scdn.co/image/8a7ab6fc2c9f678308ba0f694ecd5718dc6bc930',\n",
       "    'width': 64}],\n",
       "  'name': \"Runnin'\",\n",
       "  'type': 'album',\n",
       "  'uri': 'spotify:album:5ZX4m5aVSmWQ5iHAPQpT71'},\n",
       " {'album_type': 'single',\n",
       "  'artists': [{'external_urls': {'spotify': 'https://open.spotify.com/artist/3TVXtAsR1Inumwj472S9r4'},\n",
       "    'href': 'https://api.spotify.com/v1/artists/3TVXtAsR1Inumwj472S9r4',\n",
       "    'id': '3TVXtAsR1Inumwj472S9r4',\n",
       "    'name': 'Drake',\n",
       "    'type': 'artist',\n",
       "    'uri': 'spotify:artist:3TVXtAsR1Inumwj472S9r4'}],\n",
       "  'available_markets': ['AD',\n",
       "   'AR',\n",
       "   'AT',\n",
       "   'AU',\n",
       "   'BE',\n",
       "   'BG',\n",
       "   'BO',\n",
       "   'BR',\n",
       "   'CH',\n",
       "   'CL',\n",
       "   'CO',\n",
       "   'CR',\n",
       "   'CY',\n",
       "   'CZ',\n",
       "   'DE',\n",
       "   'DK',\n",
       "   'DO',\n",
       "   'EC',\n",
       "   'EE',\n",
       "   'ES',\n",
       "   'FI',\n",
       "   'FR',\n",
       "   'GB',\n",
       "   'GR',\n",
       "   'GT',\n",
       "   'HK',\n",
       "   'HN',\n",
       "   'HU',\n",
       "   'ID',\n",
       "   'IE',\n",
       "   'IS',\n",
       "   'IT',\n",
       "   'JP',\n",
       "   'LI',\n",
       "   'LT',\n",
       "   'LU',\n",
       "   'LV',\n",
       "   'MC',\n",
       "   'MT',\n",
       "   'MY',\n",
       "   'NI',\n",
       "   'NL',\n",
       "   'NO',\n",
       "   'NZ',\n",
       "   'PA',\n",
       "   'PE',\n",
       "   'PH',\n",
       "   'PL',\n",
       "   'PT',\n",
       "   'PY',\n",
       "   'SE',\n",
       "   'SG',\n",
       "   'SK',\n",
       "   'SV',\n",
       "   'TR',\n",
       "   'TW',\n",
       "   'UY'],\n",
       "  'external_urls': {'spotify': 'https://open.spotify.com/album/0geTzdk2InlqIoB16fW9Nd'},\n",
       "  'href': 'https://api.spotify.com/v1/albums/0geTzdk2InlqIoB16fW9Nd',\n",
       "  'id': '0geTzdk2InlqIoB16fW9Nd',\n",
       "  'images': [{'height': 640,\n",
       "    'url': 'https://i.scdn.co/image/d40e9c3d22bde2fbdb2ecc03cccd7a0e77f42e4c',\n",
       "    'width': 640},\n",
       "   {'height': 300,\n",
       "    'url': 'https://i.scdn.co/image/dff06a3375f6d9b32ecb081eb9a60bbafecb5731',\n",
       "    'width': 300},\n",
       "   {'height': 64,\n",
       "    'url': 'https://i.scdn.co/image/808a02bd7fc59b0652c9df9f68675edbffe07a79',\n",
       "    'width': 64}],\n",
       "  'name': 'Sneakin’',\n",
       "  'type': 'album',\n",
       "  'uri': 'spotify:album:0geTzdk2InlqIoB16fW9Nd'}]"
      ]
     },
     "execution_count": 6,
     "metadata": {},
     "output_type": "execute_result"
    }
   ],
   "source": [
    "data['albums']['items']"
   ]
  },
  {
   "cell_type": "markdown",
   "metadata": {},
   "source": [
    "At this point, if we were to continue checking individual data types, we have a lot to go through. To simplify this, let's use a for loop:"
   ]
  },
  {
   "cell_type": "code",
   "execution_count": 7,
   "metadata": {},
   "outputs": [
    {
     "name": "stdout",
     "output_type": "stream",
     "text": [
      "href <class 'str'>\n",
      "items <class 'list'>\n",
      "limit <class 'int'>\n",
      "next <class 'str'>\n",
      "offset <class 'int'>\n",
      "previous <class 'NoneType'>\n",
      "total <class 'int'>\n"
     ]
    }
   ],
   "source": [
    "for key in data['albums'].keys():\n",
    "    print(key, type(data['albums'][key]))\n",
    "    "
   ]
  },
  {
   "cell_type": "code",
   "execution_count": 8,
   "metadata": {},
   "outputs": [
    {
     "name": "stdout",
     "output_type": "stream",
     "text": [
      "href <class 'str'>\n",
      "items <class 'list'>\n",
      "limit <class 'int'>\n",
      "next <class 'str'>\n",
      "offset <class 'int'>\n",
      "previous <class 'NoneType'>\n",
      "total <class 'int'>\n"
     ]
    }
   ],
   "source": [
    "for key,value in data['albums'].items():\n",
    "    print(key, type(value))"
   ]
  },
  {
   "cell_type": "code",
   "execution_count": 9,
   "metadata": {},
   "outputs": [
    {
     "data": {
      "text/plain": [
       "[{'album_type': 'single',\n",
       "  'artists': [{'external_urls': {'spotify': 'https://open.spotify.com/artist/2RdwBSPQiwcmiDo9kixcl8'},\n",
       "    'href': 'https://api.spotify.com/v1/artists/2RdwBSPQiwcmiDo9kixcl8',\n",
       "    'id': '2RdwBSPQiwcmiDo9kixcl8',\n",
       "    'name': 'Pharrell Williams',\n",
       "    'type': 'artist',\n",
       "    'uri': 'spotify:artist:2RdwBSPQiwcmiDo9kixcl8'}],\n",
       "  'available_markets': ['AD',\n",
       "   'AR',\n",
       "   'AT',\n",
       "   'AU',\n",
       "   'BE',\n",
       "   'BG',\n",
       "   'BO',\n",
       "   'BR',\n",
       "   'CA',\n",
       "   'CH',\n",
       "   'CL',\n",
       "   'CO',\n",
       "   'CR',\n",
       "   'CY',\n",
       "   'CZ',\n",
       "   'DE',\n",
       "   'DK',\n",
       "   'DO',\n",
       "   'EC',\n",
       "   'EE',\n",
       "   'ES',\n",
       "   'FI',\n",
       "   'FR',\n",
       "   'GB',\n",
       "   'GR',\n",
       "   'GT',\n",
       "   'HK',\n",
       "   'HN',\n",
       "   'HU',\n",
       "   'ID',\n",
       "   'IE',\n",
       "   'IS',\n",
       "   'IT',\n",
       "   'JP',\n",
       "   'LI',\n",
       "   'LT',\n",
       "   'LU',\n",
       "   'LV',\n",
       "   'MC',\n",
       "   'MT',\n",
       "   'MX',\n",
       "   'MY',\n",
       "   'NI',\n",
       "   'NL',\n",
       "   'NO',\n",
       "   'NZ',\n",
       "   'PA',\n",
       "   'PE',\n",
       "   'PH',\n",
       "   'PL',\n",
       "   'PT',\n",
       "   'PY',\n",
       "   'SE',\n",
       "   'SG',\n",
       "   'SK',\n",
       "   'SV',\n",
       "   'TR',\n",
       "   'TW',\n",
       "   'US',\n",
       "   'UY'],\n",
       "  'external_urls': {'spotify': 'https://open.spotify.com/album/5ZX4m5aVSmWQ5iHAPQpT71'},\n",
       "  'href': 'https://api.spotify.com/v1/albums/5ZX4m5aVSmWQ5iHAPQpT71',\n",
       "  'id': '5ZX4m5aVSmWQ5iHAPQpT71',\n",
       "  'images': [{'height': 640,\n",
       "    'url': 'https://i.scdn.co/image/e6b635ebe3ef4ba22492f5698a7b5d417f78b88a',\n",
       "    'width': 640},\n",
       "   {'height': 300,\n",
       "    'url': 'https://i.scdn.co/image/92ae5b0fe64870c09004dd2e745a4fb1bf7de39d',\n",
       "    'width': 300},\n",
       "   {'height': 64,\n",
       "    'url': 'https://i.scdn.co/image/8a7ab6fc2c9f678308ba0f694ecd5718dc6bc930',\n",
       "    'width': 64}],\n",
       "  'name': \"Runnin'\",\n",
       "  'type': 'album',\n",
       "  'uri': 'spotify:album:5ZX4m5aVSmWQ5iHAPQpT71'},\n",
       " {'album_type': 'single',\n",
       "  'artists': [{'external_urls': {'spotify': 'https://open.spotify.com/artist/3TVXtAsR1Inumwj472S9r4'},\n",
       "    'href': 'https://api.spotify.com/v1/artists/3TVXtAsR1Inumwj472S9r4',\n",
       "    'id': '3TVXtAsR1Inumwj472S9r4',\n",
       "    'name': 'Drake',\n",
       "    'type': 'artist',\n",
       "    'uri': 'spotify:artist:3TVXtAsR1Inumwj472S9r4'}],\n",
       "  'available_markets': ['AD',\n",
       "   'AR',\n",
       "   'AT',\n",
       "   'AU',\n",
       "   'BE',\n",
       "   'BG',\n",
       "   'BO',\n",
       "   'BR',\n",
       "   'CH',\n",
       "   'CL',\n",
       "   'CO',\n",
       "   'CR',\n",
       "   'CY',\n",
       "   'CZ',\n",
       "   'DE',\n",
       "   'DK',\n",
       "   'DO',\n",
       "   'EC',\n",
       "   'EE',\n",
       "   'ES',\n",
       "   'FI',\n",
       "   'FR',\n",
       "   'GB',\n",
       "   'GR',\n",
       "   'GT',\n",
       "   'HK',\n",
       "   'HN',\n",
       "   'HU',\n",
       "   'ID',\n",
       "   'IE',\n",
       "   'IS',\n",
       "   'IT',\n",
       "   'JP',\n",
       "   'LI',\n",
       "   'LT',\n",
       "   'LU',\n",
       "   'LV',\n",
       "   'MC',\n",
       "   'MT',\n",
       "   'MY',\n",
       "   'NI',\n",
       "   'NL',\n",
       "   'NO',\n",
       "   'NZ',\n",
       "   'PA',\n",
       "   'PE',\n",
       "   'PH',\n",
       "   'PL',\n",
       "   'PT',\n",
       "   'PY',\n",
       "   'SE',\n",
       "   'SG',\n",
       "   'SK',\n",
       "   'SV',\n",
       "   'TR',\n",
       "   'TW',\n",
       "   'UY'],\n",
       "  'external_urls': {'spotify': 'https://open.spotify.com/album/0geTzdk2InlqIoB16fW9Nd'},\n",
       "  'href': 'https://api.spotify.com/v1/albums/0geTzdk2InlqIoB16fW9Nd',\n",
       "  'id': '0geTzdk2InlqIoB16fW9Nd',\n",
       "  'images': [{'height': 640,\n",
       "    'url': 'https://i.scdn.co/image/d40e9c3d22bde2fbdb2ecc03cccd7a0e77f42e4c',\n",
       "    'width': 640},\n",
       "   {'height': 300,\n",
       "    'url': 'https://i.scdn.co/image/dff06a3375f6d9b32ecb081eb9a60bbafecb5731',\n",
       "    'width': 300},\n",
       "   {'height': 64,\n",
       "    'url': 'https://i.scdn.co/image/808a02bd7fc59b0652c9df9f68675edbffe07a79',\n",
       "    'width': 64}],\n",
       "  'name': 'Sneakin’',\n",
       "  'type': 'album',\n",
       "  'uri': 'spotify:album:0geTzdk2InlqIoB16fW9Nd'}]"
      ]
     },
     "execution_count": 9,
     "metadata": {},
     "output_type": "execute_result"
    }
   ],
   "source": [
    "data['albums']['items']"
   ]
  },
  {
   "cell_type": "code",
   "execution_count": 10,
   "metadata": {},
   "outputs": [],
   "source": [
    "import pandas as pd\n",
    "\n",
    "df = pd.DataFrame.from_dict(data['albums']['items'])\n"
   ]
  },
  {
   "cell_type": "markdown",
   "metadata": {},
   "source": [
    "Adding this to our diagram we now have something like this:\n",
    "![](images/json_diagram2.JPG)\n"
   ]
  },
  {
   "cell_type": "markdown",
   "metadata": {},
   "source": [
    "Normally, you may not draw out the full diagram as done here, but its a useful picture to have in mind, and in complex schemas, can be useful to map out. At this point, you also probably have a good idea of the general structure of the json file. However, there is still the list of items, which we could investigate further:"
   ]
  },
  {
   "cell_type": "markdown",
   "metadata": {},
   "source": [
    "## What is an API?"
   ]
  },
  {
   "cell_type": "markdown",
   "metadata": {},
   "source": [
    "**Application Program Interfaces**, or APIs, are commonly used to retrieve data from remote websites. Sites like Reddit, Twitter, and Facebook all offer certain data through their APIs. \n",
    "\n",
    "To use an API, you make a request to a remote web server, and retrieve the data you need."
   ]
  },
  {
   "cell_type": "markdown",
   "metadata": {},
   "source": [
    "Python has two built-in modules, `urllib` and `urllib2` to handle these requests but these could be very confusing  and the documentation is not clear.\n",
    "\n",
    "To make these things simpler, one easy-to-use third-party library, known as` Requests`, is what most developers prefer to use it instead or urllib/urllib2. With this library, you can access content like web page headers, form data, files, and parameters via simple Python commands. It also allows you to access the response data in a simple way."
   ]
  },
  {
   "cell_type": "markdown",
   "metadata": {},
   "source": [
    "![](images/logo.png)"
   ]
  },
  {
   "cell_type": "markdown",
   "metadata": {},
   "source": [
    "Below is how you would install and import the requests library before making any requests. \n",
    "```python\n",
    "# Uncomment and install requests if you dont have it already\n",
    "# !pip install requests\n",
    "\n",
    "# Import requests to working environment\n",
    "import requests\n",
    "```"
   ]
  },
  {
   "cell_type": "code",
   "execution_count": 11,
   "metadata": {},
   "outputs": [],
   "source": [
    "#importing requests method\n",
    "import requests"
   ]
  },
  {
   "cell_type": "markdown",
   "metadata": {},
   "source": [
    "\n",
    "## The `.get()` Method\n",
    "\n",
    "Now we have requests library ready in our working environment, we can start making some requests using the `.get()` method as shown below:\n",
    "\n",
    "\n",
    "We can use a simple GET request to retrieve information from the OpenNotify API.\n",
    "\n",
    "\n",
    "\n",
    "\n",
    "OpenNotify has several API endpoints. An endpoint is a server route that is used to retrieve different data from the API. For example, the /comments endpoint on the Reddit API might retrieve information about comments, whereas the /users endpoint might retrieve data about users. To access them, you would add the endpoint to the base url of the API.\n",
    "\n"
   ]
  },
  {
   "cell_type": "code",
   "execution_count": 12,
   "metadata": {},
   "outputs": [],
   "source": [
    "# Make a get request to get the latest position of the international space station from the opennotify api.\n",
    "url = 'http://api.open-notify.org/iss-now.json'\n",
    "response = requests.get(url)\n",
    "# Print the status code of the response."
   ]
  },
  {
   "cell_type": "code",
   "execution_count": 13,
   "metadata": {},
   "outputs": [
    {
     "data": {
      "text/plain": [
       "200"
      ]
     },
     "execution_count": 13,
     "metadata": {},
     "output_type": "execute_result"
    }
   ],
   "source": [
    "response.status_code"
   ]
  },
  {
   "cell_type": "code",
   "execution_count": 14,
   "metadata": {},
   "outputs": [
    {
     "data": {
      "text/plain": [
       "b'{\"message\": \"success\", \"iss_position\": {\"longitude\": \"-128.0635\", \"latitude\": \"-10.9258\"}, \"timestamp\": 1588706630}'"
      ]
     },
     "execution_count": 14,
     "metadata": {},
     "output_type": "execute_result"
    }
   ],
   "source": [
    "response.content"
   ]
  },
  {
   "cell_type": "code",
   "execution_count": 15,
   "metadata": {},
   "outputs": [
    {
     "name": "stdout",
     "output_type": "stream",
     "text": [
      "200\n"
     ]
    },
    {
     "data": {
      "text/plain": [
       "dict_keys(['number', 'message', 'people'])"
      ]
     },
     "execution_count": 15,
     "metadata": {},
     "output_type": "execute_result"
    }
   ],
   "source": [
    "# Let's check out who is in space right now!\n",
    "url = 'http://api.open-notify.org/astros.json'\n",
    "response = requests.get(url)\n",
    "print(response.status_code)\n",
    "data = response.json()\n",
    "data.keys()"
   ]
  },
  {
   "cell_type": "code",
   "execution_count": 16,
   "metadata": {},
   "outputs": [],
   "source": [
    "# Let's use a list comprehension to get the names of the people in space "
   ]
  },
  {
   "cell_type": "code",
   "execution_count": 20,
   "metadata": {},
   "outputs": [
    {
     "data": {
      "text/plain": [
       "[{'craft': 'ISS', 'name': 'Chris Cassidy'},\n",
       " {'craft': 'ISS', 'name': 'Anatoly Ivanishin'},\n",
       " {'craft': 'ISS', 'name': 'Ivan Vagner'}]"
      ]
     },
     "execution_count": 20,
     "metadata": {},
     "output_type": "execute_result"
    }
   ],
   "source": [
    "data['people']"
   ]
  },
  {
   "cell_type": "code",
   "execution_count": 21,
   "metadata": {},
   "outputs": [
    {
     "name": "stdout",
     "output_type": "stream",
     "text": [
      "There are 3 people in the space station right now!\n",
      "Their names are Chris Cassidy, Anatoly Ivanishin, Ivan Vagner\n"
     ]
    }
   ],
   "source": [
    "print(f\"There are {data['number']} people in the space station right now!\")\n",
    "print(\"Their names are {}\".format(', '.join(person['name'] for person in data['people'])))"
   ]
  },
  {
   "cell_type": "markdown",
   "metadata": {},
   "source": [
    "\n",
    "GET is by far the most used HTTP method. We can use GET request to retrieve data from any destination. \n",
    "GET is by far the most used HTTP method. We can use GET request to retrieve data from any destination. \n",
    "\n",
    "## Status Codes\n",
    "The request we make may not be always successful. The best way is to check the status code which gets returned with the response. Here is how you would do this. \n"
   ]
  },
  {
   "cell_type": "code",
   "execution_count": 24,
   "metadata": {},
   "outputs": [
    {
     "data": {
      "text/plain": [
       "True"
      ]
     },
     "execution_count": 24,
     "metadata": {},
     "output_type": "execute_result"
    }
   ],
   "source": [
    "# Code here \n",
    "response.status_code == requests.codes.ok"
   ]
  },
  {
   "cell_type": "code",
   "execution_count": 25,
   "metadata": {},
   "outputs": [],
   "source": [
    "# https://httpstatusdogs.com/"
   ]
  },
  {
   "cell_type": "markdown",
   "metadata": {},
   "source": [
    "So this is a good check to see if our request was successful. Depending on the status of the web server, the access rights of the clients and availibility of requested information. A web server may return a number of status codes within the response. Wikipedia has an exhaustive details on all these codes. [Check them out here](https://en.wikipedia.org/wiki/List_of_HTTP_status_codes)"
   ]
  },
  {
   "cell_type": "markdown",
   "metadata": {},
   "source": [
    "### Common status codes\n",
    "\n",
    "* 200 — everything went okay, and the result has been returned (if any)\n",
    "* 301 — the server is redirecting you to a different endpoint. This can happen when a company switches domain names, or an endpoint name is changed.\n",
    "* 401 — the server thinks you’re not authenticated. This happens when you don’t send the right credentials to access an API (we’ll talk about authentication in a later post).\n",
    "* 400 — the server thinks you made a bad request. This can happen when you don’t send along the right data, among other things.\n",
    "* 403 — the resource you’re trying to access is forbidden — you don’t have the right permissions to see it.\n",
    "* 404 — the resource you tried to access wasn’t found on the server."
   ]
  },
  {
   "cell_type": "markdown",
   "metadata": {},
   "source": [
    "### Hitting the right endpoint\n",
    "\n",
    "We’ll now make a GET request to http://api.open-notify.org/iss-pass.json."
   ]
  },
  {
   "cell_type": "code",
   "execution_count": 26,
   "metadata": {},
   "outputs": [
    {
     "data": {
      "text/plain": [
       "400"
      ]
     },
     "execution_count": 26,
     "metadata": {},
     "output_type": "execute_result"
    }
   ],
   "source": [
    "url =  'http://api.open-notify.org/iss-pass.json'\n",
    "response = requests.get(url)\n",
    "response.status_code"
   ]
  },
  {
   "cell_type": "markdown",
   "metadata": {},
   "source": [
    "\n",
    "## Response Contents\n",
    "We can check the returned information using `.text` property of the response object. \n",
    "```python\n",
    "print (resp.text)\n",
    "```"
   ]
  },
  {
   "cell_type": "code",
   "execution_count": 27,
   "metadata": {},
   "outputs": [],
   "source": [
    "response = requests.get(\"http://api.open-notify.org/iss-pass.json\")"
   ]
  },
  {
   "cell_type": "code",
   "execution_count": 28,
   "metadata": {},
   "outputs": [
    {
     "data": {
      "text/plain": [
       "'{\\n  \"message\": \"failure\", \\n  \"reason\": \"Latitude must be specified\"\\n}\\n'"
      ]
     },
     "execution_count": 28,
     "metadata": {},
     "output_type": "execute_result"
    }
   ],
   "source": [
    "# In this case, the text gives us a failure message and a reason\n",
    "response.text\n"
   ]
  },
  {
   "cell_type": "markdown",
   "metadata": {},
   "source": [
    "### Query parameters\n",
    "\n",
    "If you look at the documentation for the OpenNotify API, we see that the ISS Pass endpoint requires two parameters.\n",
    "\n",
    "We can do this by adding an optional keyword argument, params, to our request. In this case, there are two parameters we need to pass:\n",
    "\n",
    "* lat — The latitude of the location we want.\n",
    "* lon — The longitude of the location we want.\n",
    "We can make a dictionary with these parameters, and then pass them into the requests.get function.\n",
    "\n",
    "We can also do the same thing directly by adding the query parameters to the url, like this: http://api.open-notify.org/iss-pass.json?lat=40.71&lon=-74.\n",
    "\n",
    "It’s almost always preferable to setup the parameters as a dictionary, because requests takes care of some things that come up, like properly formatting the query parameters.\n",
    "\n",
    "We’ll make a request using the coordinates of New York City, and see what response we get."
   ]
  },
  {
   "cell_type": "code",
   "execution_count": 29,
   "metadata": {},
   "outputs": [
    {
     "name": "stdout",
     "output_type": "stream",
     "text": [
      "b'{\\n  \"message\": \"success\", \\n  \"request\": {\\n    \"altitude\": 100, \\n    \"datetime\": 1588712959, \\n    \"latitude\": 40.71, \\n    \"longitude\": -74.0, \\n    \"passes\": 5\\n  }, \\n  \"response\": [\\n    {\\n      \"duration\": 449, \\n      \"risetime\": 1588737478\\n    }, \\n    {\\n      \"duration\": 651, \\n      \"risetime\": 1588743146\\n    }, \\n    {\\n      \"duration\": 616, \\n      \"risetime\": 1588748986\\n    }, \\n    {\\n      \"duration\": 561, \\n      \"risetime\": 1588754877\\n    }, \\n    {\\n      \"duration\": 606, \\n      \"risetime\": 1588760720\\n    }\\n  ]\\n}\\n'\n"
     ]
    }
   ],
   "source": [
    "from datetime import datetime\n",
    "# Set up the parameters we want to pass to the API.\n",
    "# This is the latitude and longitude of New York City.\n",
    "parameters = {\"lat\": 40.71, \"lon\": -74}\n",
    "\n",
    "\n",
    "# Make a get request with the parameters.\n",
    "response = requests.get(\"http://api.open-notify.org/iss-pass.json\", params = parameters)\n",
    "\n",
    "\n",
    "# Print the content of the response (the data the server returned)\n",
    "print(response.content)\n",
    "# This gets the same data as the command above\n",
    "# response = requests.get(\"http://api.open-notify.org/iss-pass.json?lat=40.71&lon=-74\")\n"
   ]
  },
  {
   "cell_type": "code",
   "execution_count": 30,
   "metadata": {},
   "outputs": [
    {
     "data": {
      "text/plain": [
       "datetime.datetime(2020, 5, 6, 1, 47, 57)"
      ]
     },
     "execution_count": 30,
     "metadata": {},
     "output_type": "execute_result"
    }
   ],
   "source": [
    "datetime.fromtimestamp(response.json()['response'][3]['risetime'])"
   ]
  },
  {
   "cell_type": "markdown",
   "metadata": {},
   "source": [
    "So this returns a lot of information which by default is not really human understandable due to data encoding, HTML tags and other styling information that only a web browser can truly translate. In later lessons we shall look at how we can use ** Regular Expressions**  to clean this information and extract the required bits and pieces for analysis. \n",
    "\n",
    "## Response Headers\n",
    "The response of an HTTP request can contain many headers that holds different bits of information. We can use `.headers` property of the response object to access the header information as shown below:\n"
   ]
  },
  {
   "cell_type": "code",
   "execution_count": 31,
   "metadata": {},
   "outputs": [
    {
     "data": {
      "text/plain": [
       "{'Server': 'nginx/1.10.3', 'Date': 'Tue, 05 May 2020 22:06:58 GMT', 'Content-Type': 'application/json', 'Content-Length': '519', 'Connection': 'keep-alive', 'Via': '1.1 vegur'}"
      ]
     },
     "execution_count": 31,
     "metadata": {},
     "output_type": "execute_result"
    }
   ],
   "source": [
    "# Code here \n",
    "response.headers"
   ]
  },
  {
   "cell_type": "markdown",
   "metadata": {},
   "source": [
    "The content of the headers is our required element. You can see the key-value pairs holding various pieces of  information about the resource and request. Let's try to parse some of these values using the requests library:\n",
    "\n",
    "```python\n",
    "print(response.headers['Content-Length'])  # length of the response\n",
    "print(response.headers['Date'])  # Date the response was sent\n",
    "print(response.headers['server'])   # Server type (google web service - GWS)\n",
    "```"
   ]
  },
  {
   "cell_type": "markdown",
   "metadata": {},
   "source": [
    "\n",
    "## Generating Access Tokens\n",
    "\n",
    "As discussed, in order to use many APIs, one needs to use OAuth which requires an access token. As such, our first step will be to generate this login information so that we can start making some requests.  \n",
    "\n",
    "With that, lets go grab an access token from an API site and make some API calls!\n",
    "Point your browser over to this [yelp page](https://www.yelp.com/developers/v3/manage_app) and start creating an app in order to obtain and api access token:"
   ]
  },
  {
   "cell_type": "markdown",
   "metadata": {},
   "source": [
    "\n",
    "![](./images/yelp_app.png)"
   ]
  },
  {
   "cell_type": "markdown",
   "metadata": {},
   "source": [
    "You can either sign in to an existing Yelp account, or create a new one, if needed.\n",
    "\n",
    "On the page you see above, simply fill out some sample information such as \"Flatiron Edu API Example\" for the app name, or whatever floats your boat. Afterwards, you should be presented with an API key that you can use to make requests!\n",
    "\n",
    "With that, it's time to start making some api calls!"
   ]
  },
  {
   "cell_type": "code",
   "execution_count": 32,
   "metadata": {},
   "outputs": [],
   "source": [
    "#As a general rule of thumb, don't store passwords in a main file like this!\n",
    "#Instead, you would normally store those passwords under a sub file like passwords.py which you would then import.\n",
    "#Or even better, as an environment variable that could then be imported!\n",
    "#For now, we'll simply hardcode them into our notebook for simplicity.\n",
    "client_id = 'o1rcVE0vBo8fCmGTi_c8OA' #Your client ID goes here (as a string)\n",
    "api_key =  'YDi0Grfs4gJ3HmWgoMflmzEQJJKo45ZiOe7y7aN-zblpEGDXQg29ZYL-186s9OSBRCB5pVNW6LqFPf0E7TDldo6R6aXrLwh-cHgxqnVhnr8uHI_UFTYAaoWTHuSxXnYx'#Your api key goes here (as a string)\n",
    "\n"
   ]
  },
  {
   "cell_type": "markdown",
   "metadata": {},
   "source": [
    "## An Example Request with OAuth <a id=\"oauth_request\"></a>\n",
    "https://www.yelp.com/developers/documentation/v3/get_started\n",
    "\n",
    "Let's look at an example request and dissect it into its consituent parts:"
   ]
  },
  {
   "cell_type": "code",
   "execution_count": 33,
   "metadata": {},
   "outputs": [
    {
     "name": "stdout",
     "output_type": "stream",
     "text": [
      "<Response [200]>\n"
     ]
    },
    {
     "data": {
      "text/plain": [
       "dict_keys(['businesses', 'total', 'region'])"
      ]
     },
     "execution_count": 33,
     "metadata": {},
     "output_type": "execute_result"
    }
   ],
   "source": [
    "term = 'Hamburgers'\n",
    "location = 'Chicago IL'\n",
    "SEARCH_LIMIT = 10\n",
    "\n",
    "url = 'https://api.yelp.com/v3/businesses/search'\n",
    "\n",
    "headers = {\n",
    "    'Authorization': 'Bearer {}'.format(api_key),\n",
    "}\n",
    "\n",
    "url_params = {\n",
    "    'term': term.replace(' ', '+'),\n",
    "    'location': location.replace(' ', '+'),\n",
    "    'limit': SEARCH_LIMIT,\n",
    "    'offset': 0\n",
    "}\n",
    "response = requests.get(url, headers=headers, params=url_params)\n",
    "print(response)\n",
    "data = response.json()\n",
    "data.keys()\n",
    "# print(type(response.text))\n",
    "# print(response.text[:1000])"
   ]
  },
  {
   "cell_type": "code",
   "execution_count": 34,
   "metadata": {},
   "outputs": [
    {
     "data": {
      "text/plain": [
       "[{'id': '7Es7EbTy_s1btAdowLeiPQ',\n",
       "  'alias': 'small-cheval-chicago-2',\n",
       "  'name': 'Small Cheval',\n",
       "  'image_url': 'https://s3-media2.fl.yelpcdn.com/bphoto/trovJn8N69SnqlaQyLfdUQ/o.jpg',\n",
       "  'is_closed': False,\n",
       "  'url': 'https://www.yelp.com/biz/small-cheval-chicago-2?adjust_creative=o1rcVE0vBo8fCmGTi_c8OA&utm_campaign=yelp_api_v3&utm_medium=api_v3_business_search&utm_source=o1rcVE0vBo8fCmGTi_c8OA',\n",
       "  'review_count': 1091,\n",
       "  'categories': [{'alias': 'burgers', 'title': 'Burgers'},\n",
       "   {'alias': 'tradamerican', 'title': 'American (Traditional)'}],\n",
       "  'rating': 4.5,\n",
       "  'coordinates': {'latitude': 41.91282, 'longitude': -87.6815699},\n",
       "  'transactions': ['delivery', 'pickup'],\n",
       "  'price': '$$',\n",
       "  'location': {'address1': '1732 N Milwaukee Ave',\n",
       "   'address2': None,\n",
       "   'address3': '',\n",
       "   'city': 'Chicago',\n",
       "   'zip_code': '60647',\n",
       "   'country': 'US',\n",
       "   'state': 'IL',\n",
       "   'display_address': ['1732 N Milwaukee Ave', 'Chicago, IL 60647']},\n",
       "  'phone': '+13129294580',\n",
       "  'display_phone': '(312) 929-4580',\n",
       "  'distance': 904.5895233591364},\n",
       " {'id': 'xoi7Cw7FoknAx5p880RtWQ',\n",
       "  'alias': 'au-cheval-chicago',\n",
       "  'name': 'Au Cheval',\n",
       "  'image_url': 'https://s3-media4.fl.yelpcdn.com/bphoto/a0yhvSJX_6i28iwS9egDFg/o.jpg',\n",
       "  'is_closed': False,\n",
       "  'url': 'https://www.yelp.com/biz/au-cheval-chicago?adjust_creative=o1rcVE0vBo8fCmGTi_c8OA&utm_campaign=yelp_api_v3&utm_medium=api_v3_business_search&utm_source=o1rcVE0vBo8fCmGTi_c8OA',\n",
       "  'review_count': 7085,\n",
       "  'categories': [{'alias': 'bars', 'title': 'Bars'},\n",
       "   {'alias': 'tradamerican', 'title': 'American (Traditional)'}],\n",
       "  'rating': 4.5,\n",
       "  'coordinates': {'latitude': 41.88466, 'longitude': -87.647668},\n",
       "  'transactions': ['delivery', 'pickup'],\n",
       "  'price': '$$',\n",
       "  'location': {'address1': '800 W Randolph St',\n",
       "   'address2': '',\n",
       "   'address3': '',\n",
       "   'city': 'Chicago',\n",
       "   'zip_code': '60607',\n",
       "   'country': 'US',\n",
       "   'state': 'IL',\n",
       "   'display_address': ['800 W Randolph St', 'Chicago, IL 60607']},\n",
       "  'phone': '+13129294580',\n",
       "  'display_phone': '(312) 929-4580',\n",
       "  'distance': 3376.5984269738638},\n",
       " {'id': 'GbC6XO60SlLnlIOTbJE-Ew',\n",
       "  'alias': 'fatsos-last-stand-chicago-2',\n",
       "  'name': \"Fatso's Last Stand\",\n",
       "  'image_url': 'https://s3-media2.fl.yelpcdn.com/bphoto/QLIfu26RCBMKnIQgyJ0uuQ/o.jpg',\n",
       "  'is_closed': False,\n",
       "  'url': 'https://www.yelp.com/biz/fatsos-last-stand-chicago-2?adjust_creative=o1rcVE0vBo8fCmGTi_c8OA&utm_campaign=yelp_api_v3&utm_medium=api_v3_business_search&utm_source=o1rcVE0vBo8fCmGTi_c8OA',\n",
       "  'review_count': 789,\n",
       "  'categories': [{'alias': 'hotdog', 'title': 'Hot Dogs'},\n",
       "   {'alias': 'burgers', 'title': 'Burgers'},\n",
       "   {'alias': 'hotdogs', 'title': 'Fast Food'}],\n",
       "  'rating': 4.0,\n",
       "  'coordinates': {'latitude': 41.8959792096669,\n",
       "   'longitude': -87.6842580932541},\n",
       "  'transactions': ['delivery', 'pickup'],\n",
       "  'price': '$$',\n",
       "  'location': {'address1': '2258 W Chicago Ave',\n",
       "   'address2': '',\n",
       "   'address3': '',\n",
       "   'city': 'Chicago',\n",
       "   'zip_code': '60622',\n",
       "   'country': 'US',\n",
       "   'state': 'IL',\n",
       "   'display_address': ['2258 W Chicago Ave', 'Chicago, IL 60622']},\n",
       "  'phone': '+17732453287',\n",
       "  'display_phone': '(773) 245-3287',\n",
       "  'distance': 1153.59118627344},\n",
       " {'id': 'zEBMoH7ibF3YZrlowkv88A',\n",
       "  'alias': 'brgrbelly-chicago-3',\n",
       "  'name': 'BRGRBELLY',\n",
       "  'image_url': 'https://s3-media1.fl.yelpcdn.com/bphoto/ymFcfcJTQ0uVWvnCRWk4lQ/o.jpg',\n",
       "  'is_closed': False,\n",
       "  'url': 'https://www.yelp.com/biz/brgrbelly-chicago-3?adjust_creative=o1rcVE0vBo8fCmGTi_c8OA&utm_campaign=yelp_api_v3&utm_medium=api_v3_business_search&utm_source=o1rcVE0vBo8fCmGTi_c8OA',\n",
       "  'review_count': 541,\n",
       "  'categories': [{'alias': 'burgers', 'title': 'Burgers'},\n",
       "   {'alias': 'bars', 'title': 'Bars'}],\n",
       "  'rating': 4.5,\n",
       "  'coordinates': {'latitude': 41.9530335, 'longitude': -87.7709816},\n",
       "  'transactions': ['delivery', 'pickup'],\n",
       "  'price': '$$',\n",
       "  'location': {'address1': '5739 W Irving Park Rd',\n",
       "   'address2': '',\n",
       "   'address3': '',\n",
       "   'city': 'Chicago',\n",
       "   'zip_code': '60634',\n",
       "   'country': 'US',\n",
       "   'state': 'IL',\n",
       "   'display_address': ['5739 W Irving Park Rd', 'Chicago, IL 60634']},\n",
       "  'phone': '+17732837880',\n",
       "  'display_phone': '(773) 283-7880',\n",
       "  'distance': 9370.400182708248},\n",
       " {'id': 'Ydf5dgFsGhMSP61Ht7TekA',\n",
       "  'alias': 'butcher-and-the-burger-chicago',\n",
       "  'name': 'Butcher & The Burger',\n",
       "  'image_url': 'https://s3-media2.fl.yelpcdn.com/bphoto/XrovZl-f81Uzau4R3tegaQ/o.jpg',\n",
       "  'is_closed': False,\n",
       "  'url': 'https://www.yelp.com/biz/butcher-and-the-burger-chicago?adjust_creative=o1rcVE0vBo8fCmGTi_c8OA&utm_campaign=yelp_api_v3&utm_medium=api_v3_business_search&utm_source=o1rcVE0vBo8fCmGTi_c8OA',\n",
       "  'review_count': 1017,\n",
       "  'categories': [{'alias': 'burgers', 'title': 'Burgers'},\n",
       "   {'alias': 'breakfast_brunch', 'title': 'Breakfast & Brunch'}],\n",
       "  'rating': 4.0,\n",
       "  'coordinates': {'latitude': 41.91787, 'longitude': -87.65423},\n",
       "  'transactions': ['delivery', 'pickup'],\n",
       "  'price': '$$',\n",
       "  'location': {'address1': '1021 W Armitage Ave',\n",
       "   'address2': '',\n",
       "   'address3': '',\n",
       "   'city': 'Chicago',\n",
       "   'zip_code': '60614',\n",
       "   'country': 'US',\n",
       "   'state': 'IL',\n",
       "   'display_address': ['1021 W Armitage Ave', 'Chicago, IL 60614']},\n",
       "  'phone': '+17736973735',\n",
       "  'display_phone': '(773) 697-3735',\n",
       "  'distance': 2403.833029555007},\n",
       " {'id': 'pVPyt3TugMd8FW5LGznkQQ',\n",
       "  'alias': 'kumas-corner-belmont-chicago',\n",
       "  'name': \"Kuma's Corner - Belmont\",\n",
       "  'image_url': 'https://s3-media2.fl.yelpcdn.com/bphoto/tczjU01MzXiOMPKY1CEQ0Q/o.jpg',\n",
       "  'is_closed': False,\n",
       "  'url': 'https://www.yelp.com/biz/kumas-corner-belmont-chicago?adjust_creative=o1rcVE0vBo8fCmGTi_c8OA&utm_campaign=yelp_api_v3&utm_medium=api_v3_business_search&utm_source=o1rcVE0vBo8fCmGTi_c8OA',\n",
       "  'review_count': 5018,\n",
       "  'categories': [{'alias': 'pubs', 'title': 'Pubs'},\n",
       "   {'alias': 'burgers', 'title': 'Burgers'}],\n",
       "  'rating': 4.0,\n",
       "  'coordinates': {'latitude': 41.939640045166, 'longitude': -87.7004470825195},\n",
       "  'transactions': ['delivery'],\n",
       "  'price': '$$',\n",
       "  'location': {'address1': '2900 W Belmont Ave',\n",
       "   'address2': None,\n",
       "   'address3': '',\n",
       "   'city': 'Chicago',\n",
       "   'zip_code': '60618',\n",
       "   'country': 'US',\n",
       "   'state': 'IL',\n",
       "   'display_address': ['2900 W Belmont Ave', 'Chicago, IL 60618']},\n",
       "  'phone': '+17736048769',\n",
       "  'display_phone': '(773) 604-8769',\n",
       "  'distance': 4258.440036134816},\n",
       " {'id': 'WJ4ItKGo5Ri2OU6inWMwyQ',\n",
       "  'alias': 'top-notch-beef-burgers-chicago',\n",
       "  'name': 'Top Notch Beef Burgers',\n",
       "  'image_url': 'https://s3-media3.fl.yelpcdn.com/bphoto/rYafq5iJvngKL3ldVNfwyg/o.jpg',\n",
       "  'is_closed': False,\n",
       "  'url': 'https://www.yelp.com/biz/top-notch-beef-burgers-chicago?adjust_creative=o1rcVE0vBo8fCmGTi_c8OA&utm_campaign=yelp_api_v3&utm_medium=api_v3_business_search&utm_source=o1rcVE0vBo8fCmGTi_c8OA',\n",
       "  'review_count': 244,\n",
       "  'categories': [{'alias': 'burgers', 'title': 'Burgers'}],\n",
       "  'rating': 4.0,\n",
       "  'coordinates': {'latitude': 41.7212043666829,\n",
       "   'longitude': -87.6754340702493},\n",
       "  'transactions': ['delivery', 'pickup'],\n",
       "  'price': '$$',\n",
       "  'location': {'address1': '2116 W 95th St',\n",
       "   'address2': '',\n",
       "   'address3': '',\n",
       "   'city': 'Chicago',\n",
       "   'zip_code': '60643',\n",
       "   'country': 'US',\n",
       "   'state': 'IL',\n",
       "   'display_address': ['2116 W 95th St', 'Chicago, IL 60643']},\n",
       "  'phone': '+17734457218',\n",
       "  'display_phone': '(773) 445-7218',\n",
       "  'distance': 20455.739850496397},\n",
       " {'id': 'mspxW1oelEoo6YJskI5cJg',\n",
       "  'alias': 'burger-bar-chicago-south-loop-chicago-6',\n",
       "  'name': 'Burger Bar Chicago - South Loop',\n",
       "  'image_url': 'https://s3-media1.fl.yelpcdn.com/bphoto/D9oOHJY1EJ5DsUZBujf0OQ/o.jpg',\n",
       "  'is_closed': False,\n",
       "  'url': 'https://www.yelp.com/biz/burger-bar-chicago-south-loop-chicago-6?adjust_creative=o1rcVE0vBo8fCmGTi_c8OA&utm_campaign=yelp_api_v3&utm_medium=api_v3_business_search&utm_source=o1rcVE0vBo8fCmGTi_c8OA',\n",
       "  'review_count': 636,\n",
       "  'categories': [{'alias': 'burgers', 'title': 'Burgers'},\n",
       "   {'alias': 'beerbar', 'title': 'Beer Bar'}],\n",
       "  'rating': 4.0,\n",
       "  'coordinates': {'latitude': 41.867902, 'longitude': -87.62438},\n",
       "  'transactions': ['delivery', 'pickup'],\n",
       "  'price': '$$',\n",
       "  'location': {'address1': '1150 S Michigan Ave',\n",
       "   'address2': None,\n",
       "   'address3': '',\n",
       "   'city': 'Chicago',\n",
       "   'zip_code': '60605',\n",
       "   'country': 'US',\n",
       "   'state': 'IL',\n",
       "   'display_address': ['1150 S Michigan Ave', 'Chicago, IL 60605']},\n",
       "  'phone': '+13129880162',\n",
       "  'display_phone': '(312) 988-0162',\n",
       "  'distance': 6057.452136400409},\n",
       " {'id': 'sZ0f3qAYuF9WkHMGD8hBVg',\n",
       "  'alias': 'lola-s-coney-island-chicago',\n",
       "  'name': 'Lola’s Coney Island',\n",
       "  'image_url': 'https://s3-media3.fl.yelpcdn.com/bphoto/Uwa-Y2DaS1sGS4BffYsHTw/o.jpg',\n",
       "  'is_closed': False,\n",
       "  'url': 'https://www.yelp.com/biz/lola-s-coney-island-chicago?adjust_creative=o1rcVE0vBo8fCmGTi_c8OA&utm_campaign=yelp_api_v3&utm_medium=api_v3_business_search&utm_source=o1rcVE0vBo8fCmGTi_c8OA',\n",
       "  'review_count': 74,\n",
       "  'categories': [{'alias': 'hotdog', 'title': 'Hot Dogs'},\n",
       "   {'alias': 'salad', 'title': 'Salad'},\n",
       "   {'alias': 'burgers', 'title': 'Burgers'}],\n",
       "  'rating': 5.0,\n",
       "  'coordinates': {'latitude': 41.8958011238183,\n",
       "   'longitude': -87.6989533379674},\n",
       "  'transactions': ['delivery', 'pickup'],\n",
       "  'price': '$',\n",
       "  'location': {'address1': '2858 W Chicago Ave',\n",
       "   'address2': '',\n",
       "   'address3': None,\n",
       "   'city': 'Chicago',\n",
       "   'zip_code': '60622',\n",
       "   'country': 'US',\n",
       "   'state': 'IL',\n",
       "   'display_address': ['2858 W Chicago Ave', 'Chicago, IL 60622']},\n",
       "  'phone': '+17736879459',\n",
       "  'display_phone': '(773) 687-9459',\n",
       "  'distance': 2039.11131286979},\n",
       " {'id': '9mhqcimD0CYvqxzfj_VXnQ',\n",
       "  'alias': 'little-bad-wolf-chicago',\n",
       "  'name': 'Little Bad Wolf',\n",
       "  'image_url': 'https://s3-media3.fl.yelpcdn.com/bphoto/Cf_ZeAt323eQv83zdhxASA/o.jpg',\n",
       "  'is_closed': False,\n",
       "  'url': 'https://www.yelp.com/biz/little-bad-wolf-chicago?adjust_creative=o1rcVE0vBo8fCmGTi_c8OA&utm_campaign=yelp_api_v3&utm_medium=api_v3_business_search&utm_source=o1rcVE0vBo8fCmGTi_c8OA',\n",
       "  'review_count': 1526,\n",
       "  'categories': [{'alias': 'tradamerican', 'title': 'American (Traditional)'},\n",
       "   {'alias': 'beerbar', 'title': 'Beer Bar'},\n",
       "   {'alias': 'cocktailbars', 'title': 'Cocktail Bars'}],\n",
       "  'rating': 4.5,\n",
       "  'coordinates': {'latitude': 41.9833823855364,\n",
       "   'longitude': -87.6690510144549},\n",
       "  'transactions': ['delivery', 'pickup'],\n",
       "  'price': '$$',\n",
       "  'location': {'address1': '1541 W Bryn Mawr Ave',\n",
       "   'address2': '',\n",
       "   'address3': '',\n",
       "   'city': 'Chicago',\n",
       "   'zip_code': '60660',\n",
       "   'country': 'US',\n",
       "   'state': 'IL',\n",
       "   'display_address': ['1541 W Bryn Mawr Ave', 'Chicago, IL 60660']},\n",
       "  'phone': '+17739426399',\n",
       "  'display_phone': '(773) 942-6399',\n",
       "  'distance': 8727.811602460897}]"
      ]
     },
     "execution_count": 34,
     "metadata": {},
     "output_type": "execute_result"
    }
   ],
   "source": [
    "data['businesses']"
   ]
  },
  {
   "cell_type": "markdown",
   "metadata": {},
   "source": [
    "## Breaking Down the Request\n",
    "\n",
    "As you can see, there are three main parts to our request.  \n",
    "  \n",
    "They are:\n",
    "* The url\n",
    "* The header\n",
    "* The parameters\n",
    "  \n",
    "The url is fairly straightforward and is simply the base url as described in the documentation.\n",
    "\n",
    "The header is a dictionary of key-value pairs. In this case, we are using a fairly standard header used by many APIs. It has a strict form where 'Authorization' is the key and 'Bearer YourApiKey' is the value.\n",
    "\n",
    "The parameters are the filters which we wish to pass into the query. These will be embedded into the url when the request is made to the api. Similar to the header, they form key-value pairs. Valid key parameters by which to structure your queries, are described in the API documentation which we'll look at further shortly. A final important note however, is the need to replace spaces with \"+\". This is standard to many requests as URLs cannot contain spaces. (Note that the header itself isn't directly embedded into the url itself and as such, the space between 'Bearer' and YourApiKey is valid.)"
   ]
  },
  {
   "cell_type": "markdown",
   "metadata": {},
   "source": [
    "\n",
    "## The Response\n",
    "\n",
    "As before, our response object has both a status code, as well as the data itself. With that, let's start with a little data exploration!"
   ]
  },
  {
   "cell_type": "code",
   "execution_count": 35,
   "metadata": {},
   "outputs": [
    {
     "data": {
      "text/plain": [
       "dict_keys(['businesses', 'total', 'region'])"
      ]
     },
     "execution_count": 35,
     "metadata": {},
     "output_type": "execute_result"
    }
   ],
   "source": [
    "response.json().keys()"
   ]
  },
  {
   "cell_type": "markdown",
   "metadata": {},
   "source": [
    "Now let's go a bit further and start to preview what's stored in each of the values for these keys.\n"
   ]
  },
  {
   "cell_type": "code",
   "execution_count": 36,
   "metadata": {},
   "outputs": [
    {
     "name": "stdout",
     "output_type": "stream",
     "text": [
      "businesses\n",
      "<class 'list'>\n",
      "total\n",
      "<class 'int'>\n",
      "region\n",
      "<class 'dict'>\n"
     ]
    }
   ],
   "source": [
    "for key in response.json().keys():\n",
    "    print(key)\n",
    "    value = response.json()[key] \n",
    "    print(type(value), sep=\"\\n\\n\")"
   ]
  },
  {
   "cell_type": "markdown",
   "metadata": {},
   "source": [
    "Let's continue to preview these further to get a little better acquainted.\n"
   ]
  },
  {
   "cell_type": "code",
   "execution_count": 37,
   "metadata": {
    "scrolled": true
   },
   "outputs": [
    {
     "data": {
      "text/plain": [
       "{'id': '7Es7EbTy_s1btAdowLeiPQ',\n",
       " 'alias': 'small-cheval-chicago-2',\n",
       " 'name': 'Small Cheval',\n",
       " 'image_url': 'https://s3-media2.fl.yelpcdn.com/bphoto/trovJn8N69SnqlaQyLfdUQ/o.jpg',\n",
       " 'is_closed': False,\n",
       " 'url': 'https://www.yelp.com/biz/small-cheval-chicago-2?adjust_creative=o1rcVE0vBo8fCmGTi_c8OA&utm_campaign=yelp_api_v3&utm_medium=api_v3_business_search&utm_source=o1rcVE0vBo8fCmGTi_c8OA',\n",
       " 'review_count': 1091,\n",
       " 'categories': [{'alias': 'burgers', 'title': 'Burgers'},\n",
       "  {'alias': 'tradamerican', 'title': 'American (Traditional)'}],\n",
       " 'rating': 4.5,\n",
       " 'coordinates': {'latitude': 41.91282, 'longitude': -87.6815699},\n",
       " 'transactions': ['delivery', 'pickup'],\n",
       " 'price': '$$',\n",
       " 'location': {'address1': '1732 N Milwaukee Ave',\n",
       "  'address2': None,\n",
       "  'address3': '',\n",
       "  'city': 'Chicago',\n",
       "  'zip_code': '60647',\n",
       "  'country': 'US',\n",
       "  'state': 'IL',\n",
       "  'display_address': ['1732 N Milwaukee Ave', 'Chicago, IL 60647']},\n",
       " 'phone': '+13129294580',\n",
       " 'display_phone': '(312) 929-4580',\n",
       " 'distance': 904.5895233591364}"
      ]
     },
     "execution_count": 37,
     "metadata": {},
     "output_type": "execute_result"
    }
   ],
   "source": [
    "yelp_data =response.json()\n",
    "\n",
    "yelp_data['businesses'][0]"
   ]
  },
  {
   "cell_type": "code",
   "execution_count": 44,
   "metadata": {},
   "outputs": [],
   "source": [
    "# Let's work with offset \n",
    "offset = 0\n",
    "ham_rest = yelp_data['businesses']\n",
    "\n"
   ]
  },
  {
   "cell_type": "code",
   "execution_count": 45,
   "metadata": {},
   "outputs": [
    {
     "data": {
      "text/plain": [
       "['Small Cheval',\n",
       " 'Au Cheval',\n",
       " \"Fatso's Last Stand\",\n",
       " 'BRGRBELLY',\n",
       " 'Butcher & The Burger',\n",
       " \"Kuma's Corner - Belmont\",\n",
       " 'Top Notch Beef Burgers',\n",
       " 'Burger Bar Chicago - South Loop',\n",
       " 'Lola’s Coney Island',\n",
       " 'Little Bad Wolf']"
      ]
     },
     "execution_count": 45,
     "metadata": {},
     "output_type": "execute_result"
    }
   ],
   "source": [
    "names = [ham['name'] for ham in ham_rest]\n",
    "names"
   ]
  },
  {
   "cell_type": "code",
   "execution_count": 48,
   "metadata": {},
   "outputs": [],
   "source": [
    "with open('data/burgers.json', 'w') as outfile:\n",
    "    json.dump(ham_rest, outfile)"
   ]
  },
  {
   "cell_type": "code",
   "execution_count": null,
   "metadata": {},
   "outputs": [],
   "source": []
  }
 ],
 "metadata": {
  "kernelspec": {
   "display_name": "Python 3",
   "language": "python",
   "name": "python3"
  },
  "language_info": {
   "codemirror_mode": {
    "name": "ipython",
    "version": 3
   },
   "file_extension": ".py",
   "mimetype": "text/x-python",
   "name": "python",
   "nbconvert_exporter": "python",
   "pygments_lexer": "ipython3",
   "version": "3.7.2"
  }
 },
 "nbformat": 4,
 "nbformat_minor": 4
}
