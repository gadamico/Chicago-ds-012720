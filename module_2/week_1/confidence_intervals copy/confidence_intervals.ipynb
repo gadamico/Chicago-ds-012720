{
 "cells": [
  {
   "cell_type": "code",
   "execution_count": 1,
   "metadata": {
    "ExecuteTime": {
     "end_time": "2020-02-19T23:20:33.326986Z",
     "start_time": "2020-02-19T23:20:32.335702Z"
    }
   },
   "outputs": [],
   "source": [
    "import numpy as np\n",
    "import pandas as pd\n",
    "import math\n",
    "import scipy.stats as stats\n",
    "import matplotlib.pyplot as plt"
   ]
  },
  {
   "cell_type": "code",
   "execution_count": 2,
   "metadata": {
    "ExecuteTime": {
     "end_time": "2020-02-19T23:20:33.380574Z",
     "start_time": "2020-02-19T23:20:33.328373Z"
    }
   },
   "outputs": [
    {
     "name": "stdout",
     "output_type": "stream",
     "text": [
      "–––––––––––––––––––––––––––––––––––––––\n",
      "Number of twitter accounts:   | 15374\n",
      "Mean status count:            | 14170.0\n",
      "–––––––––––––––––––––––––––––––––––––––\n"
     ]
    },
    {
     "data": {
      "text/html": [
       "<div>\n",
       "<style scoped>\n",
       "    .dataframe tbody tr th:only-of-type {\n",
       "        vertical-align: middle;\n",
       "    }\n",
       "\n",
       "    .dataframe tbody tr th {\n",
       "        vertical-align: top;\n",
       "    }\n",
       "\n",
       "    .dataframe thead th {\n",
       "        text-align: right;\n",
       "    }\n",
       "</style>\n",
       "<table border=\"1\" class=\"dataframe\">\n",
       "  <thead>\n",
       "    <tr style=\"text-align: right;\">\n",
       "      <th></th>\n",
       "      <th>screen_name</th>\n",
       "      <th>statuses_count</th>\n",
       "    </tr>\n",
       "  </thead>\n",
       "  <tbody>\n",
       "    <tr>\n",
       "      <td>0</td>\n",
       "      <td>CriticSean</td>\n",
       "      <td>23681.0</td>\n",
       "    </tr>\n",
       "    <tr>\n",
       "      <td>1</td>\n",
       "      <td>DashDeCosta</td>\n",
       "      <td>22933.0</td>\n",
       "    </tr>\n",
       "    <tr>\n",
       "      <td>2</td>\n",
       "      <td>annaleahines</td>\n",
       "      <td>4748.0</td>\n",
       "    </tr>\n",
       "    <tr>\n",
       "      <td>3</td>\n",
       "      <td>cmpatco88</td>\n",
       "      <td>4565.0</td>\n",
       "    </tr>\n",
       "    <tr>\n",
       "      <td>4</td>\n",
       "      <td>mymuddylife</td>\n",
       "      <td>8857.0</td>\n",
       "    </tr>\n",
       "  </tbody>\n",
       "</table>\n",
       "</div>"
      ],
      "text/plain": [
       "    screen_name  statuses_count\n",
       "0    CriticSean         23681.0\n",
       "1   DashDeCosta         22933.0\n",
       "2  annaleahines          4748.0\n",
       "3     cmpatco88          4565.0\n",
       "4   mymuddylife          8857.0"
      ]
     },
     "execution_count": 2,
     "metadata": {},
     "output_type": "execute_result"
    }
   ],
   "source": [
    "df = pd.read_csv('twitter.csv').iloc[:,1:]\n",
    "\n",
    "print('–––––––––––––––––––––––––––––––––––––––')\n",
    "\n",
    "\n",
    "print(\"Number of twitter accounts:   |\",len(df))\n",
    "\n",
    "print(\"Mean status count:            |\", np.round(df.statuses_count.mean()))\n",
    "\n",
    "print('–––––––––––––––––––––––––––––––––––––––')\n",
    "\n",
    "df.head()"
   ]
  },
  {
   "cell_type": "markdown",
   "metadata": {},
   "source": [
    "# Let's plot the distribution of our statuses_count column"
   ]
  },
  {
   "cell_type": "code",
   "execution_count": 3,
   "metadata": {
    "ExecuteTime": {
     "end_time": "2020-02-19T23:20:33.559995Z",
     "start_time": "2020-02-19T23:20:33.382292Z"
    }
   },
   "outputs": [
    {
     "data": {
      "image/png": "[encoded data removed]",
      "text/plain": [
       "<Figure size 432x288 with 1 Axes>"
      ]
     },
     "metadata": {
      "needs_background": "light"
     },
     "output_type": "display_data"
    }
   ],
   "source": [
    "plt.hist(df.statuses_count);"
   ]
  },
  {
   "cell_type": "markdown",
   "metadata": {},
   "source": [
    "### What can we say about this distribution?"
   ]
  },
  {
   "cell_type": "markdown",
   "metadata": {},
   "source": [
    "Not symmetric\n"
   ]
  },
  {
   "cell_type": "markdown",
   "metadata": {},
   "source": [
    "### Let's draw some samples from our statuses_count column, collect the means of each sample and plot a sampling distribution"
   ]
  },
  {
   "cell_type": "code",
   "execution_count": 4,
   "metadata": {
    "ExecuteTime": {
     "end_time": "2020-02-19T23:20:34.492760Z",
     "start_time": "2020-02-19T23:20:34.489076Z"
    }
   },
   "outputs": [
    {
     "data": {
      "text/plain": [
       "1537.4"
      ]
     },
     "execution_count": 4,
     "metadata": {},
     "output_type": "execute_result"
    }
   ],
   "source": [
    ".1*len(df)"
   ]
  },
  {
   "cell_type": "code",
   "execution_count": 5,
   "metadata": {
    "ExecuteTime": {
     "end_time": "2020-02-19T23:20:34.980989Z",
     "start_time": "2020-02-19T23:20:34.772117Z"
    }
   },
   "outputs": [
    {
     "data": {
      "image/png": "[encoded data removed]",
      "text/plain": [
       "<Figure size 432x288 with 1 Axes>"
      ]
     },
     "metadata": {
      "needs_background": "light"
     },
     "output_type": "display_data"
    }
   ],
   "source": [
    "samples = np.asarray([np.random.choice(df.statuses_count, size = 800) for x in range(800)])\n",
    "sample_means = [sample.mean() for sample in samples]\n",
    "plt.hist(sample_means);"
   ]
  },
  {
   "cell_type": "markdown",
   "metadata": {},
   "source": [
    "### What can we say about this distribution?"
   ]
  },
  {
   "cell_type": "markdown",
   "metadata": {},
   "source": [
    "The distribution approximates a normal distribution, but there seem to be some very significant outliers."
   ]
  },
  {
   "cell_type": "markdown",
   "metadata": {},
   "source": [
    "Let's see if by removing outliers for our raw data, we can create a more normal distribution"
   ]
  },
  {
   "cell_type": "code",
   "execution_count": 6,
   "metadata": {
    "ExecuteTime": {
     "end_time": "2020-02-19T23:20:35.995981Z",
     "start_time": "2020-02-19T23:20:35.854964Z"
    }
   },
   "outputs": [
    {
     "data": {
      "image/png": "[encoded data removed]",
      "text/plain": [
       "<Figure size 432x288 with 1 Axes>"
      ]
     },
     "metadata": {
      "needs_background": "light"
     },
     "output_type": "display_data"
    }
   ],
   "source": [
    "plt.hist(df[df.statuses_count < 100000].statuses_count);"
   ]
  },
  {
   "cell_type": "code",
   "execution_count": 7,
   "metadata": {
    "ExecuteTime": {
     "end_time": "2020-02-19T23:20:36.341908Z",
     "start_time": "2020-02-19T23:20:36.095981Z"
    }
   },
   "outputs": [
    {
     "data": {
      "image/png": "[encoded data removed]",
      "text/plain": [
       "<Figure size 432x288 with 1 Axes>"
      ]
     },
     "metadata": {
      "needs_background": "light"
     },
     "output_type": "display_data"
    }
   ],
   "source": [
    "df = df[df.statuses_count < 100000]\n",
    "\n",
    "sample = np.asarray([np.random.choice(df.statuses_count, size = 500).mean() for x in range(800)])\n",
    "\n",
    "plt.hist(sample);"
   ]
  },
  {
   "cell_type": "markdown",
   "metadata": {},
   "source": [
    "# Confidence Intervals"
   ]
  },
  {
   "cell_type": "markdown",
   "metadata": {},
   "source": [
    "Confidence intervals = Sample mean +- margin of error\n",
    "\n",
    "ie: The range from sample mean - margin of error to sample mean + margin of error"
   ]
  },
  {
   "cell_type": "markdown",
   "metadata": {},
   "source": [
    "## Calculating margin of error when the population mean and std are known"
   ]
  },
  {
   "cell_type": "markdown",
   "metadata": {},
   "source": [
    "#### Varience"
   ]
  },
  {
   "cell_type": "markdown",
   "metadata": {},
   "source": [
    "<img src=\"https://images.deepai.org/glossary-terms/variance-6302132.jpg\" alt=\"varience\" width=\"400\"/>"
   ]
  },
  {
   "cell_type": "markdown",
   "metadata": {},
   "source": [
    "#### Standard Deviation"
   ]
  },
  {
   "cell_type": "markdown",
   "metadata": {},
   "source": [
    "![std](https://www.standarddeviationcalculator.net/images/population-standard-deviation-formula.PNG)"
   ]
  },
  {
   "cell_type": "markdown",
   "metadata": {
    "ExecuteTime": {
     "end_time": "2020-02-19T20:21:15.156902Z",
     "start_time": "2020-02-19T20:21:15.153878Z"
    }
   },
   "source": [
    ">**Equation walkthrough:**\n",
    "1. The difference between every datapoint and the mean is found\n",
    "    - When datapoints are smaller than the mean, the difference results in a negative value. We want to add all of our differences, and if there are negative values the positive and negative differences will cancel each other out. We don't want that so we square the difference between a data point and the mean to make the positive.\n",
    "2. We find the sum of all the differences\n",
    "3. Divide the sum by the total number of data points\n",
    "4. Lastly take the square root of the result to essentially undo the squaring of differences."
   ]
  },
  {
   "cell_type": "markdown",
   "metadata": {},
   "source": [
    "### Using the Z Critical Value\n",
    "\n",
    "The Z critical value is used when the mean and standard deviation of our population is known."
   ]
  },
  {
   "cell_type": "markdown",
   "metadata": {},
   "source": [
    "![Margin of error](https://cdn.smassets.net/assets/cms/cc/uploads/mp-marginoferror-formula.png)"
   ]
  },
  {
   "cell_type": "markdown",
   "metadata": {},
   "source": [
    ">**Equation Key**\n",
    "    - σ = Standard Deviation\n",
    "    - n = number of data points\n",
    "    - z = z-critical threshold\n",
    "\n",
    ">**Equation Walk Through**\n",
    "    1. We divide the standard deviation of our sample by the square root of our sample size\n",
    "    2. We then multiple by the z critical value\n",
    "    \n",
    "*Why Do We Divide by the Square Root of N?*"
   ]
  },
  {
   "cell_type": "markdown",
   "metadata": {},
   "source": [
    ">The standard deviation divided by the square root of n is known as **Standard Error**.\n",
    "\n",
    ">The Standard Error is the standard deviation of a sampling distribution.\n",
    "\n",
    ">More Sample Size = Lower Standard Error = Lower Margin of Error\n",
    "\n",
    ">Note in the graphic below that when N is small, the spread of the data is much wider and less normally distributed than the the spread of data when N is larger.\n",
    "\n",
    "![sampling std](https://lh3.googleusercontent.com/proxy/EUm-S8cQAn7WVw4QdWwkLODM77MZopcu590zNf3WIDNFcMkN-z264b-xftdsanxbjkxN9LvNQW1LzAOCf4qyFJRdT1ZzQoCzAManrbrRQ0tcfQctIhsG6NoH86HSVfg-)"
   ]
  },
  {
   "cell_type": "markdown",
   "metadata": {},
   "source": [
    "When the population mean and standard deviation are known, we use z critical values\n",
    "\n",
    ">Z critical values can be calculated using scipy.stats.norm.ppf(q=CONFIDENCE PERCENTAGE)"
   ]
  },
  {
   "cell_type": "code",
   "execution_count": 8,
   "metadata": {
    "ExecuteTime": {
     "end_time": "2020-02-19T23:20:41.054159Z",
     "start_time": "2020-02-19T23:20:41.050070Z"
    }
   },
   "outputs": [
    {
     "data": {
      "text/plain": [
       "1.959963984540054"
      ]
     },
     "execution_count": 8,
     "metadata": {},
     "output_type": "execute_result"
    }
   ],
   "source": [
    "z_critical_value = stats.norm.ppf(q=.975)\n",
    "z_critical_value"
   ]
  },
  {
   "cell_type": "markdown",
   "metadata": {},
   "source": [
    "Our Z critical score is 1.64. What does this mean?\n",
    ">Answer here"
   ]
  },
  {
   "cell_type": "markdown",
   "metadata": {},
   "source": [
    "If we know the mean, standard deviation, and z critical value. We can now calculate our margin of error."
   ]
  },
  {
   "cell_type": "code",
   "execution_count": 9,
   "metadata": {
    "ExecuteTime": {
     "end_time": "2020-02-19T23:20:43.225663Z",
     "start_time": "2020-02-19T23:20:43.220665Z"
    }
   },
   "outputs": [
    {
     "data": {
      "text/plain": [
       "261.4082827668757"
      ]
     },
     "execution_count": 9,
     "metadata": {},
     "output_type": "execute_result"
    }
   ],
   "source": [
    "mean = df.statuses_count.mean()\n",
    "std = df.statuses_count.std()\n",
    "n = len(df.statuses_count)\n",
    "standard_error = std/np.sqrt(n)\n",
    "margin_of_error = z_critical_value * standard_error\n",
    "margin_of_error"
   ]
  },
  {
   "cell_type": "code",
   "execution_count": 10,
   "metadata": {
    "ExecuteTime": {
     "end_time": "2020-02-19T23:20:44.008480Z",
     "start_time": "2020-02-19T23:20:44.004867Z"
    }
   },
   "outputs": [
    {
     "data": {
      "text/plain": [
       "(11225.076846116139, 11747.89341164989)"
      ]
     },
     "execution_count": 10,
     "metadata": {},
     "output_type": "execute_result"
    }
   ],
   "source": [
    "confidence_interval = (mean-margin_of_error, mean+margin_of_error)\n",
    "confidence_interval"
   ]
  },
  {
   "cell_type": "markdown",
   "metadata": {},
   "source": [
    "We can say with 95% confidence that the population mean falls between 11267 and 11705\n",
    "Or put another way, if we were to draw 100 samples from our population, approximately 95 of the sample means would fall within our confidence interval."
   ]
  },
  {
   "cell_type": "markdown",
   "metadata": {},
   "source": [
    "# When do we know the mean of our population?"
   ]
  },
  {
   "cell_type": "markdown",
   "metadata": {},
   "source": [
    "![never](never.png)"
   ]
  },
  {
   "cell_type": "markdown",
   "metadata": {
    "ExecuteTime": {
     "end_time": "2020-02-19T22:03:51.501748Z",
     "start_time": "2020-02-19T22:03:51.498317Z"
    }
   },
   "source": [
    "When we do not know the mean of our population, we use the t critical score instead of the z critical score."
   ]
  },
  {
   "cell_type": "markdown",
   "metadata": {},
   "source": [
    "The z and t scores revolve around the z and t distributions."
   ]
  },
  {
   "cell_type": "markdown",
   "metadata": {
    "ExecuteTime": {
     "end_time": "2020-02-19T22:04:34.789429Z",
     "start_time": "2020-02-19T22:04:34.662114Z"
    }
   },
   "source": [
    "![z-t-distribution](https://andyjconnelly.files.wordpress.com/2017/05/distributions1.png)"
   ]
  },
  {
   "cell_type": "markdown",
   "metadata": {},
   "source": [
    "T distributions have fatter tails than z distributions which makes it more difficult to make confident assertions.\n",
    "\n",
    "This makes sense. If we are trying to make a claim about an entire population based on a smaller sample of that population, it should be more difficult to have high confidence in the results."
   ]
  },
  {
   "cell_type": "markdown",
   "metadata": {},
   "source": [
    "Calculating the standard deviation of a population sample is different than calculating the standard deviation for the population as a whole"
   ]
  },
  {
   "cell_type": "markdown",
   "metadata": {},
   "source": [
    "![std-sample](https://usercontent2.hubstatic.com/6951521_f520.jpg)"
   ]
  },
  {
   "cell_type": "markdown",
   "metadata": {
    "ExecuteTime": {
     "end_time": "2020-02-19T22:11:15.645840Z",
     "start_time": "2020-02-19T22:11:15.641541Z"
    }
   },
   "source": [
    "To calculate the t critical value, we use scipy.stats.t.ppf(q=CONFIDENCE, df=NUMBER OF SAMPLES)"
   ]
  },
  {
   "cell_type": "code",
   "execution_count": 22,
   "metadata": {
    "ExecuteTime": {
     "end_time": "2020-02-19T23:22:27.396114Z",
     "start_time": "2020-02-19T23:22:27.391842Z"
    }
   },
   "outputs": [
    {
     "data": {
      "text/plain": [
       "1.9629374611056056"
      ]
     },
     "execution_count": 22,
     "metadata": {},
     "output_type": "execute_result"
    }
   ],
   "source": [
    "## We set the confidence level to .975 because we want our threshold on each\n",
    "## Side of the distribution to total up to 5% of the data in our distribution\n",
    "## If we set our confidence to .95 we will have five percent of data beyond our threshold\n",
    "## On both sides of our distribution. This means our actual confidence threshold would be 90%\n",
    "t_critical_value = stats.t.ppf(q=.975, df=799)\n",
    "t_critical_value"
   ]
  },
  {
   "cell_type": "code",
   "execution_count": 23,
   "metadata": {
    "ExecuteTime": {
     "end_time": "2020-02-19T23:22:28.603268Z",
     "start_time": "2020-02-19T23:22:28.599725Z"
    }
   },
   "outputs": [
    {
     "data": {
      "text/plain": [
       "800"
      ]
     },
     "execution_count": 23,
     "metadata": {},
     "output_type": "execute_result"
    }
   ],
   "source": [
    "sample_n"
   ]
  },
  {
   "cell_type": "markdown",
   "metadata": {},
   "source": [
    "**Calculate our margin of error**"
   ]
  },
  {
   "cell_type": "code",
   "execution_count": 24,
   "metadata": {
    "ExecuteTime": {
     "end_time": "2020-02-19T23:22:30.348024Z",
     "start_time": "2020-02-19T23:22:30.342662Z"
    }
   },
   "outputs": [
    {
     "data": {
      "text/plain": [
       "48.923086039104156"
      ]
     },
     "execution_count": 24,
     "metadata": {},
     "output_type": "execute_result"
    }
   ],
   "source": [
    "sample_mean = sample.mean()\n",
    "sample_std = sample.std(ddof=1)\n",
    "sample_n = len(sample)\n",
    "standard_error = sample_std/np.sqrt(sample_n)\n",
    "\n",
    "\n",
    "\n",
    "sample_margin_of_error = t_critical_value * standard_error\n",
    "\n",
    "sample_margin_of_error"
   ]
  },
  {
   "cell_type": "code",
   "execution_count": 25,
   "metadata": {
    "ExecuteTime": {
     "end_time": "2020-02-19T23:22:33.262588Z",
     "start_time": "2020-02-19T23:22:33.260188Z"
    }
   },
   "outputs": [],
   "source": [
    "sample_confidence_interval = (sample_mean-sample_margin_of_error, \n",
    "                       sample_mean+sample_margin_of_error)"
   ]
  },
  {
   "cell_type": "code",
   "execution_count": 26,
   "metadata": {
    "ExecuteTime": {
     "end_time": "2020-02-19T23:22:35.897011Z",
     "start_time": "2020-02-19T23:22:35.893343Z"
    }
   },
   "outputs": [],
   "source": [
    "confidence_interval_t = stats.t.interval(alpha = 0.975,              # Confidence level\n",
    "                                         df= sample_n,                     # Degrees of freedom\n",
    "                                         loc = sample_mean,                # Sample mean\n",
    "                                         scale = standard_error)"
   ]
  },
  {
   "cell_type": "code",
   "execution_count": 27,
   "metadata": {
    "ExecuteTime": {
     "end_time": "2020-02-19T23:22:36.291508Z",
     "start_time": "2020-02-19T23:22:36.288202Z"
    }
   },
   "outputs": [
    {
     "data": {
      "text/plain": [
       "(11462.475006460896, 11560.321178539103)"
      ]
     },
     "execution_count": 27,
     "metadata": {},
     "output_type": "execute_result"
    }
   ],
   "source": [
    "sample_confidence_interval"
   ]
  },
  {
   "cell_type": "code",
   "execution_count": 28,
   "metadata": {
    "ExecuteTime": {
     "end_time": "2020-02-19T23:22:36.867517Z",
     "start_time": "2020-02-19T23:22:36.864258Z"
    }
   },
   "outputs": [
    {
     "data": {
      "text/plain": [
       "(11455.42935208139, 11567.36683291861)"
      ]
     },
     "execution_count": 28,
     "metadata": {},
     "output_type": "execute_result"
    }
   ],
   "source": [
    "confidence_interval_t"
   ]
  },
  {
   "cell_type": "code",
   "execution_count": 29,
   "metadata": {
    "ExecuteTime": {
     "end_time": "2020-02-19T23:22:49.378998Z",
     "start_time": "2020-02-19T23:22:49.374300Z"
    }
   },
   "outputs": [],
   "source": [
    "def conf_interval(sample):\n",
    "    '''\n",
    "    Input:  sample \n",
    "    Output: Confidence interval\n",
    "    '''\n",
    "    n = len(sample)\n",
    "    x_hat = sample.mean()\n",
    "    # Calculate the z-critical value using stats.norm.ppf()\n",
    "    # Note that we use stats.t.ppf with q = 0.975 to get the desired t-critical value \n",
    "    # instead of q = 0.95 because the distribution has two tails.\n",
    "\n",
    "    t = stats.t.ppf(q = 0.975, df=24)  #  t-critical value for 95% confidence\n",
    "    \n",
    "    sigma = sample.std()/math.sqrt(n) \n",
    "\n",
    "    # Calculate the margin of error using formula given above\n",
    "    moe = t * sigma\n",
    "\n",
    "    # Calculate the confidence interval by applying margin of error to sample mean \n",
    "    # (mean - margin of error, mean+ margin of error)\n",
    "    conf = (x_hat - moe, x_hat + moe)\n",
    "    \n",
    "    return conf"
   ]
  },
  {
   "cell_type": "code",
   "execution_count": 40,
   "metadata": {
    "ExecuteTime": {
     "end_time": "2020-02-19T23:24:45.636797Z",
     "start_time": "2020-02-19T23:24:45.620670Z"
    }
   },
   "outputs": [],
   "source": [
    "sample_size = 500\n",
    "\n",
    "# Initialize lists to store interval and mean values\n",
    "intervals = []\n",
    "sample_means = []\n",
    "\n",
    "# Run a for loop for sampling 25 times and calculate + store confidence interval and sample mean values in lists initialised above\n",
    "\n",
    "for sample in range(25):\n",
    "    # Take a random sample of chosen size \n",
    "    sample = np.random.choice(a= df.statuses_count, size = sample_size)\n",
    "    \n",
    "    # Calculate confidence_interval from function above\n",
    "    confidence_interval = conf_interval(sample)    \n",
    "\n",
    "    # Calculate the sample mean \n",
    "    sample_mean = sample.mean()\n",
    "    \n",
    "    # Calculate and append sample means and conf intervals for each iteration\n",
    "    sample_means.append(sample_mean)\n",
    "    intervals.append(confidence_interval)\n"
   ]
  },
  {
   "cell_type": "code",
   "execution_count": 41,
   "metadata": {
    "ExecuteTime": {
     "end_time": "2020-02-19T23:24:46.189238Z",
     "start_time": "2020-02-19T23:24:46.016014Z"
    }
   },
   "outputs": [
    {
     "data": {
      "text/plain": [
       "<matplotlib.collections.LineCollection at 0x7ff860177ed0>"
      ]
     },
     "execution_count": 41,
     "metadata": {},
     "output_type": "execute_result"
    },
    {
     "data": {
      "image/png": "[encoded data removed]",
      "text/plain": [
       "<Figure size 1080x648 with 1 Axes>"
      ]
     },
     "metadata": {
      "needs_background": "light"
     },
     "output_type": "display_data"
    }
   ],
   "source": [
    "plt.figure(figsize=(15,9))\n",
    "\n",
    "# Draw the mean and confidence interval for each sample\n",
    "plt.errorbar(x=np.arange(0.1, 25, 1), \n",
    "             y=sample_means, \n",
    "             yerr=[(top-bot)/2 for top,bot in intervals],\n",
    "             fmt='o')\n",
    "\n",
    "# Draw the population mean \n",
    "plt.hlines(xmin=0, xmax=25,\n",
    "           y=df.statuses_count.mean(), \n",
    "           linewidth=2.0,\n",
    "           color=\"red\")"
   ]
  },
  {
   "cell_type": "code",
   "execution_count": 42,
   "metadata": {
    "ExecuteTime": {
     "end_time": "2020-02-19T23:24:47.510524Z",
     "start_time": "2020-02-19T23:24:47.505068Z"
    }
   },
   "outputs": [
    {
     "data": {
      "text/plain": [
       "0.88"
      ]
     },
     "execution_count": 42,
     "metadata": {},
     "output_type": "execute_result"
    }
   ],
   "source": [
    "count = 0\n",
    "m = df.statuses_count.mean() \n",
    "for c1, c2 in intervals:\n",
    "    if (m>c1) & (m<c2):\n",
    "        count +=1\n",
    "        \n",
    "count/25"
   ]
  },
  {
   "cell_type": "code",
   "execution_count": null,
   "metadata": {},
   "outputs": [],
   "source": []
  }
 ],
 "metadata": {
  "kernelspec": {
   "display_name": "Python 3",
   "language": "python",
   "name": "python3"
  },
  "language_info": {
   "codemirror_mode": {
    "name": "ipython",
    "version": 3
   },
   "file_extension": ".py",
   "mimetype": "text/x-python",
   "name": "python",
   "nbconvert_exporter": "python",
   "pygments_lexer": "ipython3",
   "version": "3.7.4"
  },
  "toc": {
   "base_numbering": 1,
   "nav_menu": {},
   "number_sections": false,
   "sideBar": true,
   "skip_h1_title": false,
   "title_cell": "Table of Contents",
   "title_sidebar": "Contents",
   "toc_cell": false,
   "toc_position": {
    "height": "calc(100% - 180px)",
    "left": "10px",
    "top": "150px",
    "width": "315.625px"
   },
   "toc_section_display": true,
   "toc_window_display": false
  }
 },
 "nbformat": 4,
 "nbformat_minor": 2
}
