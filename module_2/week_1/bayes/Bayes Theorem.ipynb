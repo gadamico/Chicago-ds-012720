{
 "cells": [
  {
   "cell_type": "markdown",
   "metadata": {},
   "source": [
    "## Bayes Theorem Examples"
   ]
  },
  {
   "cell_type": "markdown",
   "metadata": {},
   "source": [
    "#### The Fish\n",
    "\n",
    "Walk into a fancy restaurant, see two tanks you can order fresh fish from\n",
    "\n",
    "Small tank has 10 Betta fish\n",
    "\n",
    "Large tank has 200 goldfish and 35 Betta fish\n",
    "\n",
    "You order a fish for dinner.  Given it’s a Betta fish, what is the probability it came from the small tank?"
   ]
  },
  {
   "cell_type": "code",
   "execution_count": 2,
   "metadata": {},
   "outputs": [
    {
     "data": {
      "text/plain": [
       "0.22222222222222224"
      ]
     },
     "execution_count": 2,
     "metadata": {},
     "output_type": "execute_result"
    }
   ],
   "source": [
    "# P(Betta | sm) * p(sm) / (P(Betta | sm) * p(sm) +\n",
    "#                         P(Betta |lg ) * p(lg)\n",
    "#                         )\n",
    "\n",
    "# Betta_sm = 10\n",
    "# sm = 10\n",
    "# Betta_Lg = 35\n",
    "# lg = 235\n",
    "\n",
    "(10/10) * (10/(235+10)) / ((10/10) * (10/(235+10)) + (35/235)*(235/245))"
   ]
  },
  {
   "cell_type": "code",
   "execution_count": null,
   "metadata": {},
   "outputs": [],
   "source": [
    "22.2%"
   ]
  },
  {
   "cell_type": "markdown",
   "metadata": {},
   "source": [
    "#### The Spam\n",
    "\n",
    "The word  “offer” is in 73% of spam emails\n",
    "\n",
    "But it’s in only 10% of actual, non-spam emails (ie, “ham” email; spam is “fake ham”, get it?)\n",
    "\n",
    "If 20% of email is spam overall, what is the probability that an incoming email with the word “offer” is spam?\n"
   ]
  },
  {
   "cell_type": "code",
   "execution_count": 3,
   "metadata": {},
   "outputs": [
    {
     "data": {
      "text/plain": [
       "0.6460176991150441"
      ]
     },
     "execution_count": 3,
     "metadata": {},
     "output_type": "execute_result"
    }
   ],
   "source": [
    "# P(B|A) = P(spam|'offer')\n",
    "\n",
    "# P(spam|'offer') = P('offer' | spam) * p(spam) / (P('offer'))\n",
    "                                                 \n",
    "#                 = P('offer' | spam) * p(spam) / (P('offer'|spam)*P(spam)+\n",
    "#                                                  P('offer'|not spam) * P(not spam)\n",
    "                                                 \n",
    "(.73*.2) / ((.73*.2)+.1*.8)"
   ]
  },
  {
   "cell_type": "code",
   "execution_count": null,
   "metadata": {},
   "outputs": [],
   "source": [
    "64.6%"
   ]
  },
  {
   "cell_type": "markdown",
   "metadata": {},
   "source": [
    "#### The Family Riven By Preference\n",
    "\n",
    "In a given family, there is an 80% chance a family member is a Democrat and a 20% chance a family member is a Republican\n",
    "\n",
    "If the family member is a Republican, there is a 35% they're favorite food is cheese, a 5% chance it's ham, and a 60% chance it's caviar\n",
    "\n",
    "If the family member is a Democrat, there is a 75% chance their favorite food is cheese, a 10% chance it's ham, and a 15% chance it's caviar\n",
    "\n",
    "a) What is the chance that a family member has a favorite food of ham?\n",
    "\n",
    "b) Given that a family member's favorite food is caviar, what is the probability they're a Republican?\n",
    "\n",
    "c) Given that a family member's favorite food is ham, is it more likely they're a Republican or Democrat?\n",
    "\n",
    "d) What are the prior, posterior, and likelihood for the calculation you made in part c?"
   ]
  },
  {
   "cell_type": "code",
   "execution_count": null,
   "metadata": {},
   "outputs": [],
   "source": [
    "#your calculations"
   ]
  },
  {
   "cell_type": "code",
   "execution_count": null,
   "metadata": {},
   "outputs": [],
   "source": [
    "#your answers"
   ]
  },
  {
   "cell_type": "markdown",
   "metadata": {},
   "source": [
    "#### The Disease\n",
    "\n",
    "Suppose a patient exhibits symptoms that make her physician concerned that she may have a particular disease\n",
    "\n",
    "The disease has a prevalence of 0.2% (meaning it affects 2 out of every 1,000 persons)\n",
    "\n",
    "The physician recommends a screening test.   This test is correct 85% of the time if given to a patient with the disease.  Overall, 92% of the people who take the test have it give a negative result. \n",
    "\n",
    "Given a positive test result, what is the likelihood the patient has the disease?  Using that information, what is the likelihood of a false positive?"
   ]
  },
  {
   "cell_type": "code",
   "execution_count": null,
   "metadata": {},
   "outputs": [],
   "source": [
    "#your calculations"
   ]
  },
  {
   "cell_type": "code",
   "execution_count": null,
   "metadata": {},
   "outputs": [],
   "source": [
    "#your answers"
   ]
  },
  {
   "cell_type": "markdown",
   "metadata": {},
   "source": [
    "#### The Vote\n",
    "\n",
    "A congressman voted no on providing aid to El Salvador. Given that 61% of the congress were Democrats, 74.9% of whom voted no for providing aid to El Salvador, and only 4.8% of Republicans voted no to the proposal, what is the conditional probability that this individual is a Democrat?"
   ]
  },
  {
   "cell_type": "code",
   "execution_count": null,
   "metadata": {},
   "outputs": [],
   "source": [
    "#your calculations"
   ]
  },
  {
   "cell_type": "code",
   "execution_count": null,
   "metadata": {},
   "outputs": [],
   "source": [
    "#your answers"
   ]
  }
 ],
 "metadata": {
  "kernelspec": {
   "display_name": "Python 3",
   "language": "python",
   "name": "python3"
  },
  "language_info": {
   "codemirror_mode": {
    "name": "ipython",
    "version": 3
   },
   "file_extension": ".py",
   "mimetype": "text/x-python",
   "name": "python",
   "nbconvert_exporter": "python",
   "pygments_lexer": "ipython3",
   "version": "3.7.4"
  }
 },
 "nbformat": 4,
 "nbformat_minor": 4
}
