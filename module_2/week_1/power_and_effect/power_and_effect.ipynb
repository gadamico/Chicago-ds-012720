{
 "cells": [
  {
   "cell_type": "markdown",
   "metadata": {},
   "source": [
    "# Statistical *Power*, Effect Size, and Error\n",
    "![Arnold S. demonstrating power](https://media.giphy.com/media/TIvv7HIMVzbZm/giphy.gif)"
   ]
  },
  {
   "cell_type": "markdown",
   "metadata": {},
   "source": [
    "## Review: \n",
    "    \n",
    "    1. Null hypothesis: the mean of the sample is not different from the mean of the population.\n",
    "    \n",
    "    2. Alternative hypothesis: the mean of the sample is different (two tail), is greater/less than the mean (one-tail). \n",
    "    \n",
    "    3. alpha: the probability of encountering the sample population test statistic when the null hypothesis is assumed to be true. .05 is generally accepted level.\n",
    "    \n",
    "    4. Z-test: used when population mean and standard deviation are known, and the sample size is large (>30).\n",
    "    \n",
    "    5. T-test: used when the population standard deviation is not known, the sample size is small."
   ]
  },
  {
   "cell_type": "markdown",
   "metadata": {},
   "source": [
    "## Part 1. Effect Size\n",
    "Effect size is used to quantify the size of the difference between two groups under observation. Since during this mod, we primarily compare means of populations, the effect size we will be most interested in is the difference between two means.  We will learn about Cohen's d, a unitless variable which helps generalize effect size across domains.  We will also learn how effect size relates to power, and how we can use it within power calculations.  \n"
   ]
  },
  {
   "cell_type": "markdown",
   "metadata": {},
   "source": [
    "### Where does gender have a larger effect?\n",
    "\n",
    "![effect size demonstrated with sealions and pugs](img/effect_size.png)"
   ]
  },
  {
   "cell_type": "markdown",
   "metadata": {},
   "source": [
    "### Effect size and perspective \n",
    "\n",
    "Calculating effect size on your experiment puts things in perspective for you - in the context of your experiment, you are more likely to learn why and how you achieved significant conclusions as a result of effect size. For example, if you performed an A/B test on examining whether changing the like button on instagram resulted in people liking more post, you want to be cautious on the effect size of the samples you are comparing. "
   ]
  },
  {
   "cell_type": "markdown",
   "metadata": {},
   "source": [
    "### Cohen's $d$, standardized metrics for effect size\n",
    "Cohen’s $d$ is one of the most common ways to measure effect size. As an effect size, Cohen's d is typically used to represent the magnitude of differences between two (or more) groups on a given variable, with larger values representing a greater differentiation between the two groups on that variable.\n",
    "\n",
    "$d$ = effect size (difference of means) / pooled standard deviation;\n",
    "\n",
    "$d = \\frac{\\mu1 - \\mu2}{\\sigma pooled}$\n",
    "\n",
    "note: power, which is covered below, is __not__ the same as $d$, but you can use d to look up power on a power table:\n",
    "http://www.pilesofvariance.com/Chapter13/Cohen_Power_Tables.pdf"
   ]
  },
  {
   "cell_type": "code",
   "execution_count": 4,
   "metadata": {},
   "outputs": [],
   "source": [
    "def cohen_d(group1, group2):\n",
    "\n",
    "    # Compute Cohen's d.\n",
    "\n",
    "    # group1: Series or NumPy array\n",
    "    # group2: Series or NumPy array\n",
    "\n",
    "    # returns a floating point number\n",
    "\n",
    "    diff = group1.mean() - group2.mean()\n",
    "\n",
    "    n1 = len(group1)\n",
    "    n2 = len(group2)\n",
    "    var1 = group1.var()\n",
    "    var2 = group2.var()\n",
    "\n",
    "    # Calculate the pooled threshold as shown earlier\n",
    "    pooled_var = (n1 * var1 + n2 * var2) / (n1 + n2)\n",
    "\n",
    "    # Calculate Cohen's d statistic\n",
    "    d = diff / np.sqrt(pooled_var)\n",
    "\n",
    "    return d"
   ]
  },
  {
   "cell_type": "markdown",
   "metadata": {},
   "source": [
    "#### Evaluating Effect Size\n",
    "\n",
    "[good demo here](https://rpsychologist.com/d3/cohend/)\n",
    "\n",
    "Small effect = 0.2\n",
    "\n",
    "Medium Effect = 0.5\n",
    "\n",
    "Large Effect = 0.8"
   ]
  },
  {
   "cell_type": "markdown",
   "metadata": {},
   "source": [
    "### Example\n",
    "Compare effect size of gender in height"
   ]
  },
  {
   "cell_type": "code",
   "execution_count": 5,
   "metadata": {},
   "outputs": [],
   "source": [
    "import numpy as np\n",
    "import matplotlib.pyplot as plt\n",
    "%matplotlib inline\n",
    "import pandas as pd\n",
    "import seaborn as sns\n",
    "import warnings\n",
    "from scipy import stats\n",
    "from statsmodels.stats.power import TTestIndPower\n",
    "\n",
    "warnings.filterwarnings(\"ignore\")\n",
    "np.random.seed(10)"
   ]
  },
  {
   "cell_type": "code",
   "execution_count": 6,
   "metadata": {},
   "outputs": [],
   "source": [
    "#Mean height and sd for males\n",
    "male_mean = 178\n",
    "male_sd = 7.7\n",
    "\n",
    "# Generate a normal distribution for male heights \n",
    "male_height = stats.norm(male_mean, male_sd)\n",
    "\n",
    "female_mean = 163\n",
    "female_sd = 7.3\n",
    "female_height = stats.norm(female_mean, female_sd)\n"
   ]
  },
  {
   "cell_type": "code",
   "execution_count": 7,
   "metadata": {},
   "outputs": [
    {
     "data": {
      "text/plain": [
       "scipy.stats._distn_infrastructure.rv_frozen"
      ]
     },
     "execution_count": 7,
     "metadata": {},
     "output_type": "execute_result"
    }
   ],
   "source": [
    "type(male_height)"
   ]
  },
  {
   "cell_type": "code",
   "execution_count": 8,
   "metadata": {},
   "outputs": [],
   "source": [
    "def evaluate_pdf(rv, x=4):\n",
    "    '''\n",
    "    Input: a random variable object, standard deviation\n",
    "    output : x and y values for the normal distribution\n",
    "    '''\n",
    "\n",
    "    mean = rv.mean()\n",
    "    std = rv.std()\n",
    "\n",
    "    # Use numpy to calculate evenly spaced numbers over the specified interval (4 sd) and generate 100 samples.\n",
    "    xs = np.linspace(mean - x*std, mean + x*std, 100)\n",
    "\n",
    "    # Calculate the peak of normal distribution i.e. probability density.\n",
    "    ys = rv.pdf(xs)\n",
    "\n",
    "    return xs, ys"
   ]
  },
  {
   "cell_type": "code",
   "execution_count": 9,
   "metadata": {},
   "outputs": [
    {
     "data": {
      "image/png": "[encoded data removed]",
      "text/plain": [
       "<Figure size 432x288 with 1 Axes>"
      ]
     },
     "metadata": {
      "needs_background": "light"
     },
     "output_type": "display_data"
    }
   ],
   "source": [
    "# Male height\n",
    "xs, ys = evaluate_pdf(male_height)\n",
    "plt.plot(xs, ys, label='male', linewidth=4, color='#beaed4') \n",
    "\n",
    "#Female height \n",
    "xs, ys = evaluate_pdf(female_height)\n",
    "plt.plot(xs, ys, label='female', linewidth=4, color='#fdc086')\n",
    "\n",
    "plt.xlabel('height (cm)')\n",
    "plt.ylabel('probability density')\n",
    "plt.legend()\n",
    "plt.show()"
   ]
  },
  {
   "cell_type": "code",
   "execution_count": 10,
   "metadata": {},
   "outputs": [
    {
     "name": "stdout",
     "output_type": "stream",
     "text": [
      "2.0405441680589274\n"
     ]
    }
   ],
   "source": [
    "np.random.seed(10)\n",
    "\n",
    "female_sample = female_height.rvs(100)\n",
    "male_sample = male_height.rvs(100)\n",
    "\n",
    "effect = cohen_d(male_sample, female_sample)\n",
    "print(effect)"
   ]
  },
  {
   "cell_type": "code",
   "execution_count": 11,
   "metadata": {},
   "outputs": [],
   "source": [
    "def plot_pdfs(cohen_d=2):\n",
    "    \"\"\"Plot PDFs for distributions that differ by some number of stds.\n",
    "    \n",
    "    cohen_d: number of standard deviations between the means\n",
    "    \"\"\"\n",
    "    group1 = stats.norm(0, 1)\n",
    "    group2 = stats.norm(cohen_d, 1)\n",
    "    xs, ys = evaluate_pdf(group1)\n",
    "    plt.fill_between(xs, ys, label='Female', color='#ff2289', alpha=0.7)\n",
    "\n",
    "    xs, ys = evaluate_pdf(group2)\n",
    "    plt.fill_between(xs, ys, label='Male', color='#376cb0', alpha=0.7)\n",
    "    plt.legend()"
   ]
  },
  {
   "cell_type": "code",
   "execution_count": 12,
   "metadata": {},
   "outputs": [
    {
     "data": {
      "image/png": "[encoded data removed]",
      "text/plain": [
       "<Figure size 432x288 with 1 Axes>"
      ]
     },
     "metadata": {
      "needs_background": "light"
     },
     "output_type": "display_data"
    }
   ],
   "source": [
    "plot_pdfs(effect)"
   ]
  },
  {
   "cell_type": "markdown",
   "metadata": {},
   "source": [
    "## Type 1 Errors (False Positives) and Type 2 Errors (False Negatives)"
   ]
  },
  {
   "cell_type": "markdown",
   "metadata": {},
   "source": [
    "Predicting the presence of some factor (i.e. counter to the null hypothesis) when in fact it is not there (i.e. the null hypothesis is true) is called a **\"false positive\"**. Failing to predict the presence of some factor (i.e. in accord with the null hypothesis) when in fact it is there (i.e. the null hypothesis is false) is called a **\"false negative\"**."
   ]
  },
  {
   "cell_type": "markdown",
   "metadata": {},
   "source": [
    "#### Type I error\n",
    "Type I error is usually represented as $\\alpha$, which is the probability of rejecting the null hypothesis when it is in fact true. "
   ]
  },
  {
   "cell_type": "markdown",
   "metadata": {},
   "source": [
    "Probability of type I error = $\\alpha$ =  P(Rejecting $H_{0}$ | $H_{0}$ is true)"
   ]
  },
  {
   "cell_type": "markdown",
   "metadata": {},
   "source": [
    "For example, if we compare the height of males and females in a sample, with $\\mu$m = 175cm, $\\sigma$m = 4cm, and $\\mu$f = 170 cm, $\\sigma$f = 2.5cm, the __null hypothesis__ would be: there is no difference of heights in two genders. After conducting the appropriate statistical testing and attaining a p-value of .04, we conclude that there is a significant difference in gender. However, the reality is there is no difference. "
   ]
  },
  {
   "cell_type": "markdown",
   "metadata": {},
   "source": [
    "#### Type II Error\n",
    "Type II error is represented as $\\beta$. It is the probability of failing to reject the null when it is in fact false. Applying to our case above, we would have said that the two genders do not differ in heights when they in fact do."
   ]
  },
  {
   "cell_type": "markdown",
   "metadata": {},
   "source": [
    "Probability of type II error = $\\beta$ = P(Accepting $H_{0}$ | $H_{a}$ is true)"
   ]
  },
  {
   "cell_type": "markdown",
   "metadata": {},
   "source": [
    "Define the null and alternative hypotheses for the scenarios below, along with type I and type II errors:\n",
    "\n",
    "> - We gathered data about a sample of feral cats and a sample of house cats from Chicago. We want to study whether, based on that sample, feral cats have less teeth than house cats.\n",
    "\n",
    "> - We gather data about El ridership on rainy days vs sunny days. We want to study whether ridership differs between sunny and rainy days.\n",
    "\n"
   ]
  },
  {
   "cell_type": "markdown",
   "metadata": {},
   "source": [
    "## Part 3. Power\n",
    "How does statistical power relate to two types of error? Power is defined as the __probability of not making a Type\n",
    "II error__ (i.e., probability of correctly rejecting H0 when it is in fact false)."
   ]
  },
  {
   "cell_type": "markdown",
   "metadata": {},
   "source": [
    "![errors](img/error_chart.png)"
   ]
  },
  {
   "cell_type": "markdown",
   "metadata": {},
   "source": [
    "__<center>Power visualized </center>__"
   ]
  },
  {
   "cell_type": "markdown",
   "metadata": {},
   "source": [
    "![](img/beta_1.png)"
   ]
  },
  {
   "cell_type": "markdown",
   "metadata": {},
   "source": [
    "![beta_2](img/beta_2.png)"
   ]
  },
  {
   "cell_type": "markdown",
   "metadata": {},
   "source": [
    "Relevance of Power?\n",
    "- Low Statistical Power: Large risk of committing Type II errors, e.g. a false negative.\n",
    "- High Statistical Power: Small risk of committing Type II errors."
   ]
  },
  {
   "cell_type": "markdown",
   "metadata": {},
   "source": [
    "Elements that affect power:\n",
    "- Effect Size\n",
    "- Sample Size (and thus Standard Error)\n",
    "- Alpha"
   ]
  },
  {
   "cell_type": "markdown",
   "metadata": {},
   "source": [
    "One doesn't really have control over effect size, but sample size and alpha can possibly be adjusted."
   ]
  },
  {
   "cell_type": "markdown",
   "metadata": {},
   "source": [
    "how does sample size affect power?"
   ]
  },
  {
   "cell_type": "code",
   "execution_count": 13,
   "metadata": {},
   "outputs": [
    {
     "data": {
      "image/png": "[encoded data removed]",
      "text/plain": [
       "<Figure size 432x288 with 2 Axes>"
      ]
     },
     "metadata": {
      "needs_background": "light"
     },
     "output_type": "display_data"
    }
   ],
   "source": [
    "fig = plt.figure()\n",
    "ax = fig.add_subplot(2,1,1)\n",
    "fig = TTestIndPower().plot_power(dep_var='nobs',\n",
    "                                 nobs= np.arange(2, 200),\n",
    "                                 effect_size=np.array([0.2, 0.5, 0.8]),\n",
    "                                 alpha=0.01,\n",
    "                                 ax=ax, title='Power of t-Test' + '\\n' + r'$\\alpha = 0.01$')\n",
    "ax.get_legend().remove()\n",
    "ax = fig.add_subplot(2,1,2)\n",
    "fig = TTestIndPower().plot_power(dep_var='nobs',\n",
    "                                 nobs= np.arange(2, 200),\n",
    "                                 effect_size=np.array([0.2, 0.5, 0.8]),\n",
    "                                 alpha=0.05,\n",
    "                                 ax=ax, title=r'$\\alpha = 0.05$') \n"
   ]
  },
  {
   "cell_type": "markdown",
   "metadata": {},
   "source": [
    "### Very good visualization showing how effect size, nobs, alpha, and power relate to one-another.\n",
    "https://rpsychologist.com/d3/NHST/"
   ]
  },
  {
   "cell_type": "markdown",
   "metadata": {},
   "source": [
    "## Part 4. Case Study \n",
    "Suppose you are launching a pilot study with Instagram and you want to examine if the new feature (making the heart when you \"like\" someone's photo red instead of white) developed by the frontend engineer attracted more likes __given__ other variables being held constant. You have collected two datasets. "
   ]
  },
  {
   "cell_type": "code",
   "execution_count": 14,
   "metadata": {},
   "outputs": [
    {
     "data": {
      "text/html": [
       "<div>\n",
       "<style scoped>\n",
       "    .dataframe tbody tr th:only-of-type {\n",
       "        vertical-align: middle;\n",
       "    }\n",
       "\n",
       "    .dataframe tbody tr th {\n",
       "        vertical-align: top;\n",
       "    }\n",
       "\n",
       "    .dataframe thead th {\n",
       "        text-align: right;\n",
       "    }\n",
       "</style>\n",
       "<table border=\"1\" class=\"dataframe\">\n",
       "  <thead>\n",
       "    <tr style=\"text-align: right;\">\n",
       "      <th></th>\n",
       "      <th>Unnamed: 0</th>\n",
       "      <th>ID_Exp</th>\n",
       "      <th>Likes_Given_Exp</th>\n",
       "      <th>Avg_Likes_Given_Exp</th>\n",
       "    </tr>\n",
       "  </thead>\n",
       "  <tbody>\n",
       "    <tr>\n",
       "      <th>0</th>\n",
       "      <td>0</td>\n",
       "      <td>1</td>\n",
       "      <td>47</td>\n",
       "      <td>50</td>\n",
       "    </tr>\n",
       "    <tr>\n",
       "      <th>1</th>\n",
       "      <td>1</td>\n",
       "      <td>2</td>\n",
       "      <td>54</td>\n",
       "      <td>54</td>\n",
       "    </tr>\n",
       "    <tr>\n",
       "      <th>2</th>\n",
       "      <td>2</td>\n",
       "      <td>3</td>\n",
       "      <td>52</td>\n",
       "      <td>59</td>\n",
       "    </tr>\n",
       "    <tr>\n",
       "      <th>3</th>\n",
       "      <td>3</td>\n",
       "      <td>4</td>\n",
       "      <td>54</td>\n",
       "      <td>45</td>\n",
       "    </tr>\n",
       "    <tr>\n",
       "      <th>4</th>\n",
       "      <td>4</td>\n",
       "      <td>5</td>\n",
       "      <td>45</td>\n",
       "      <td>55</td>\n",
       "    </tr>\n",
       "  </tbody>\n",
       "</table>\n",
       "</div>"
      ],
      "text/plain": [
       "   Unnamed: 0  ID_Exp  Likes_Given_Exp  Avg_Likes_Given_Exp\n",
       "0           0       1               47                   50\n",
       "1           1       2               54                   54\n",
       "2           2       3               52                   59\n",
       "3           3       4               54                   45\n",
       "4           4       5               45                   55"
      ]
     },
     "execution_count": 14,
     "metadata": {},
     "output_type": "execute_result"
    }
   ],
   "source": [
    "experiment = pd.read_csv('ig_experiment.csv')\n",
    "control = pd.read_csv('ig_control.csv')\n",
    "experiment.head()"
   ]
  },
  {
   "cell_type": "code",
   "execution_count": 15,
   "metadata": {},
   "outputs": [
    {
     "data": {
      "text/plain": [
       "(35, 4)"
      ]
     },
     "execution_count": 15,
     "metadata": {},
     "output_type": "execute_result"
    }
   ],
   "source": [
    "experiment.shape"
   ]
  },
  {
   "cell_type": "markdown",
   "metadata": {},
   "source": [
    "### Look at the data"
   ]
  },
  {
   "cell_type": "code",
   "execution_count": 16,
   "metadata": {},
   "outputs": [
    {
     "data": {
      "text/plain": [
       "50.97142857142857"
      ]
     },
     "execution_count": 16,
     "metadata": {},
     "output_type": "execute_result"
    }
   ],
   "source": [
    "experiment['Likes_Given_Exp'].mean()"
   ]
  },
  {
   "cell_type": "code",
   "execution_count": 17,
   "metadata": {},
   "outputs": [
    {
     "data": {
      "text/plain": [
       "56.08571428571429"
      ]
     },
     "execution_count": 17,
     "metadata": {},
     "output_type": "execute_result"
    }
   ],
   "source": [
    "control['Likes_Given_Con'].mean()"
   ]
  },
  {
   "cell_type": "code",
   "execution_count": 18,
   "metadata": {},
   "outputs": [
    {
     "data": {
      "text/plain": [
       "(35, 4)"
      ]
     },
     "execution_count": 18,
     "metadata": {},
     "output_type": "execute_result"
    }
   ],
   "source": [
    "control.shape"
   ]
  },
  {
   "cell_type": "code",
   "execution_count": 19,
   "metadata": {},
   "outputs": [
    {
     "data": {
      "text/plain": [
       "(35, 4)"
      ]
     },
     "execution_count": 19,
     "metadata": {},
     "output_type": "execute_result"
    }
   ],
   "source": [
    "experiment.shape"
   ]
  },
  {
   "cell_type": "code",
   "execution_count": 20,
   "metadata": {},
   "outputs": [
    {
     "data": {
      "text/plain": [
       "-0.9924643738965597"
      ]
     },
     "execution_count": 20,
     "metadata": {},
     "output_type": "execute_result"
    }
   ],
   "source": [
    "cohens_d = cohen_d(experiment['Likes_Given_Exp'],control['Likes_Given_Con'])\n",
    "cohens_d"
   ]
  },
  {
   "cell_type": "code",
   "execution_count": 21,
   "metadata": {},
   "outputs": [
    {
     "data": {
      "text/plain": [
       "25.52457250047935"
      ]
     },
     "execution_count": 21,
     "metadata": {},
     "output_type": "execute_result"
    }
   ],
   "source": [
    "# before we even start the experiment, we want to know in order to attain a power of .8 given an alpha of .05,\n",
    "# how many observations we need \n",
    "effect_size = 0.8\n",
    "alpha = 0.05 # significance level\n",
    "power = 0.8\n",
    "\n",
    "power_analysis = TTestIndPower()\n",
    "sample_size = power_analysis.solve_power(effect_size = effect_size, \n",
    "                                         power = power, \n",
    "                                         alpha = alpha)\n",
    "sample_size"
   ]
  },
  {
   "cell_type": "markdown",
   "metadata": {},
   "source": [
    "Luckily, we do have enough observations to conduct this experiment!"
   ]
  },
  {
   "cell_type": "code",
   "execution_count": 22,
   "metadata": {},
   "outputs": [
    {
     "data": {
      "text/plain": [
       "Ttest_indResult(statistic=-4.151776346992102, pvalue=9.403361597139248e-05)"
      ]
     },
     "execution_count": 22,
     "metadata": {},
     "output_type": "execute_result"
    }
   ],
   "source": [
    "# conducting a T Test\n",
    "stats.ttest_ind(experiment['Likes_Given_Exp'],control['Likes_Given_Con'])"
   ]
  },
  {
   "cell_type": "code",
   "execution_count": 23,
   "metadata": {},
   "outputs": [
    {
     "data": {
      "text/plain": [
       "<matplotlib.axes._subplots.AxesSubplot at 0x1a24c361d0>"
      ]
     },
     "execution_count": 23,
     "metadata": {},
     "output_type": "execute_result"
    },
    {
     "data": {
      "image/png": "[encoded data removed]",
      "text/plain": [
       "<Figure size 432x288 with 1 Axes>"
      ]
     },
     "metadata": {
      "needs_background": "light"
     },
     "output_type": "display_data"
    }
   ],
   "source": [
    "sns.kdeplot(experiment['Likes_Given_Exp'], shade = True)\n",
    "sns.kdeplot(control['Likes_Given_Con'], shade = True)"
   ]
  },
  {
   "cell_type": "code",
   "execution_count": 24,
   "metadata": {},
   "outputs": [
    {
     "data": {
      "text/plain": [
       "-0.9924643738965597"
      ]
     },
     "execution_count": 24,
     "metadata": {},
     "output_type": "execute_result"
    }
   ],
   "source": [
    "d = cohen_d(experiment['Likes_Given_Exp'],control['Likes_Given_Con'])\n",
    "d"
   ]
  },
  {
   "cell_type": "code",
   "execution_count": 25,
   "metadata": {},
   "outputs": [],
   "source": [
    "# now, use d to solve for power."
   ]
  },
  {
   "cell_type": "code",
   "execution_count": 26,
   "metadata": {},
   "outputs": [
    {
     "data": {
      "text/plain": [
       "0.9302822550652173"
      ]
     },
     "execution_count": 26,
     "metadata": {},
     "output_type": "execute_result"
    }
   ],
   "source": [
    "power_analysis = TTestIndPower()\n",
    "power = power_analysis.solve_power(effect_size = d, \n",
    "                                         nobs1 = 25, \n",
    "                                         alpha = .05)\n",
    "power"
   ]
  },
  {
   "cell_type": "code",
   "execution_count": 31,
   "metadata": {},
   "outputs": [
    {
     "data": {
      "text/plain": [
       "0.015019655775779748"
      ]
     },
     "execution_count": 31,
     "metadata": {},
     "output_type": "execute_result"
    }
   ],
   "source": [
    "power_analysis.solve_power(power = .8, \n",
    "                                         nobs1 = 35, \n",
    "                                         effect_size = .8, alternative='two-sided')"
   ]
  },
  {
   "cell_type": "code",
   "execution_count": 52,
   "metadata": {},
   "outputs": [],
   "source": [
    "# that is a very high power, almost 1, meaning no type II errors.  \n",
    "# However, the negative cohen's d suggests there is a negative effect on likes."
   ]
  }
 ],
 "metadata": {
  "kernelspec": {
   "display_name": "Python 3",
   "language": "python",
   "name": "python3"
  },
  "language_info": {
   "codemirror_mode": {
    "name": "ipython",
    "version": 3
   },
   "file_extension": ".py",
   "mimetype": "text/x-python",
   "name": "python",
   "nbconvert_exporter": "python",
   "pygments_lexer": "ipython3",
   "version": "3.7.3"
  }
 },
 "nbformat": 4,
 "nbformat_minor": 4
}
