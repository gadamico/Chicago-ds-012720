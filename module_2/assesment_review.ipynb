{
 "cells": [
  {
   "cell_type": "markdown",
   "metadata": {},
   "source": [
    "## Mod 2 Review"
   ]
  },
  {
   "cell_type": "markdown",
   "metadata": {},
   "source": [
    "Example: We are asked by a business that sells pet food in mulitple stores to take a look at some of their sales data, specifically sales of doggy chow.  These sales happen to be normally distributed.  The mean value of a packet of doggy chow they sell is \\\\$80 dollars.  \n",
    "\n",
    "One day they sample of X number of stores, and find the sample is selling a mean of \\\\$110 / bag of doggy chow.  They sample again, this time Y number of stores, and find in the second sample the mean is \\\\$25 / bag.  Now, they're wondering if either of those sample means differ significantly from the population mean."
   ]
  },
  {
   "cell_type": "markdown",
   "metadata": {},
   "source": [
    "#### Conceptual: What is a population?  What is a sample?"
   ]
  },
  {
   "cell_type": "markdown",
   "metadata": {},
   "source": [
    "A population is the collection of all the items of interest in a study. The numbers you obtain when using a population are called parameters.\n",
    "\n",
    "A sample is a subset of the population. The numbers you obtain when working with a sample are called statistics."
   ]
  },
  {
   "cell_type": "markdown",
   "metadata": {},
   "source": [
    "#### Example: What is the population in the example?  What are samples?  What is the parameter in the example?  What are the statistics?"
   ]
  },
  {
   "cell_type": "markdown",
   "metadata": {},
   "source": [
    "The population is the total number of stores; parameter is a measure of the total population, so //$80 / bag mean is a parameter\n",
    "\n",
    "The first sample, with X stores, has a statstic of a \\\\$110 / bag mean of doggy chow.\n",
    "\n",
    "The second sample, with Y stores, has a statistic of a \\\\$25 / bag mean of doggy chow."
   ]
  },
  {
   "cell_type": "markdown",
   "metadata": {},
   "source": [
    "### Hypothesis testing"
   ]
  },
  {
   "cell_type": "markdown",
   "metadata": {},
   "source": [
    "#### Conceptual: What is a hypothesis?  What is a null hypothesis?  What is an alternative hypothesis?"
   ]
  },
  {
   "cell_type": "markdown",
   "metadata": {
    "jupyter": {
     "source_hidden": true
    }
   },
   "source": [
    "A hypothesis is a statement about what might be true.  The \"null\" hypothesis is that there is no relationship, or no statistical evidence, about what we're comparing.  The \"alternative\" hypothesis is that there is a relationship, or that there is statistical evidence, about what we're comparing.  This could be that a statistic we are looking at is \"greater\" or \"less\" than another statistic, or it could be that two statistics are \"different\""
   ]
  },
  {
   "cell_type": "markdown",
   "metadata": {},
   "source": [
    "#### Example: In our pet food example, if we're comparing the \\\\$110 / bag in the first sample to the population mean, what is the null hypothesis?  What is the alternative hypothesis?  \n",
    "\n",
    "If we're comparing the \\\\$25 / bag in the second sample to the population mean, what is the null hypothesis and alternative hypothesis?"
   ]
  },
  {
   "cell_type": "markdown",
   "metadata": {},
   "source": [
    "For first sample: \n",
    "\n",
    "- **H<sub>o</sub>**: there is no significant difference between the \\\\$80 / bag population mean and the \\\\$110 / bag sample statistic\n",
    "- **H<sub>a</sub>**: the \\\\$110 / bag mean of the sample is a significantly larger price than the \\\\$80 / bag mean of the population\n",
    "\n",
    "For the second sample: \n",
    "\n",
    "- **H<sub>o</sub>**: there is no significant difference between the \\\\$80 / bag population mean and the \\\\$25 / bag sample statistic\n",
    "- **H<sub>a</sub>**: the \\\\$25 / bag mean of the sample is a significantly larger price than the \\\\$80 / bag mean of the population "
   ]
  },
  {
   "cell_type": "markdown",
   "metadata": {},
   "source": [
    "#### Conceptual: What is a signficiance level?  What is alpha, and what does it have to do with significance levels?"
   ]
  },
  {
   "cell_type": "markdown",
   "metadata": {},
   "source": [
    "A significance level is, assuming the null hypothesis is true, the probability of observing a test statistic at least as large as the one we observed in the data, **just through random chance**. \n",
    "\n",
    "Therefore, if the test statistic from our data is below the level of significance, we can't rule out the possiblity that the comparison we're looking at is soley due to chance, and we can't rule out **H<sub>o</sub>**\n",
    "\n",
    "Alpha is the level of significance, chosen before running any tests, that will be the cut-off between what we decide is 'significant' or 'not siginficant'"
   ]
  },
  {
   "cell_type": "markdown",
   "metadata": {},
   "source": [
    "#### Example: let's choose an alpha of .8 for our example.  "
   ]
  },
  {
   "cell_type": "markdown",
   "metadata": {},
   "source": [
    "#### Conceptual: How do we calculate a p-value for a comparison between a population mean and a sample mean?"
   ]
  },
  {
   "cell_type": "markdown",
   "metadata": {},
   "source": [
    "First , we generate a z-score"
   ]
  },
  {
   "cell_type": "code",
   "execution_count": null,
   "metadata": {},
   "outputs": [],
   "source": []
  },
  {
   "cell_type": "markdown",
   "metadata": {},
   "source": [
    "Next, we calculate how much of the population distribution is equal to or more extreme than the z-score"
   ]
  },
  {
   "cell_type": "code",
   "execution_count": null,
   "metadata": {},
   "outputs": [],
   "source": [
    "![alt text](https://github.com/adam-p/markdown-here/raw/master/src/common/images/icon48.png \"Logo Title Text 1\")"
   ]
  },
  {
   "cell_type": "markdown",
   "metadata": {},
   "source": [
    "![title](ztable.GIF)"
   ]
  },
  {
   "cell_type": "markdown",
   "metadata": {},
   "source": [
    "We generate a p-value off of that calculation"
   ]
  },
  {
   "cell_type": "code",
   "execution_count": 11,
   "metadata": {},
   "outputs": [
    {
     "name": "stdout",
     "output_type": "stream",
     "text": [
      "/bin/sh: -c: line 0: syntax error near unexpected token `('\n",
      "/bin/sh: -c: line 0: `[alt text]('ztable.gif' \"Logo Title Text 1\")'\n"
     ]
    }
   ],
   "source": [
    "![til]('ztable.gif' \"Logo Title Text 1\")"
   ]
  },
  {
   "cell_type": "markdown",
   "metadata": {},
   "source": [
    "Finally, we compare the p-value to our alpha and see whether our observed data meets our standard for significance levels"
   ]
  },
  {
   "cell_type": "code",
   "execution_count": null,
   "metadata": {},
   "outputs": [],
   "source": []
  },
  {
   "cell_type": "markdown",
   "metadata": {},
   "source": [
    "#### Example: generating a p-value for the first sample, between the \\\\$110 / bag sample mean vs the population mean of \\\\$80 / bag "
   ]
  },
  {
   "cell_type": "markdown",
   "metadata": {},
   "source": [
    "generating a z-score:"
   ]
  },
  {
   "cell_type": "code",
   "execution_count": null,
   "metadata": {},
   "outputs": [],
   "source": []
  },
  {
   "cell_type": "markdown",
   "metadata": {},
   "source": [
    "#### Coding exercise together: generating a p-value for the \\\\$25 bag"
   ]
  },
  {
   "cell_type": "code",
   "execution_count": null,
   "metadata": {},
   "outputs": [],
   "source": []
  },
  {
   "cell_type": "code",
   "execution_count": null,
   "metadata": {},
   "outputs": [],
   "source": []
  },
  {
   "cell_type": "code",
   "execution_count": null,
   "metadata": {},
   "outputs": [],
   "source": []
  },
  {
   "cell_type": "markdown",
   "metadata": {},
   "source": [
    "#### Z-scores"
   ]
  },
  {
   "cell_type": "markdown",
   "metadata": {},
   "source": [
    "Conceptually: What is a z-score?"
   ]
  },
  {
   "cell_type": "markdown",
   "metadata": {},
   "source": [
    "A z-score is a point on a student"
   ]
  }
 ],
 "metadata": {
  "kernelspec": {
   "display_name": "Python 3",
   "language": "python",
   "name": "python3"
  },
  "language_info": {
   "codemirror_mode": {
    "name": "ipython",
    "version": 3
   },
   "file_extension": ".py",
   "mimetype": "text/x-python",
   "name": "python",
   "nbconvert_exporter": "python",
   "pygments_lexer": "ipython3",
   "version": "3.7.4"
  }
 },
 "nbformat": 4,
 "nbformat_minor": 4
}
