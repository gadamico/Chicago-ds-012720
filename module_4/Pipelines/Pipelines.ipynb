{
 "cells": [
  {
   "cell_type": "markdown",
   "metadata": {},
   "source": [
    "# Pipelines\n",
    "\n",
    "A data science projects is an interative process that often leads to messy notebooks, and messy code.\n",
    "\n",
    "It can feel a little chaotic, and during kaggle competitions and flatiron bakeoffs, the last thing many data scientists want to do is write the code from scratch that would compile their preprocessing and modeling steps into a single pipeline.\n",
    "\n",
    "**That is where Sklearn Pipelines become useful.**\n",
    "\n",
    "In this notebook, we will \n",
    "- Import data containing the policies written by the Bernie Sanders and Elizabeth Warren Presidential Campaigns. \n",
    "- Engineer numerical features\n",
    "- Create a pipeline that scales numerical features and vectorizes text features\n",
    "- Run the pipeline through a Gridsearch\n",
    "- Run test data through our pipeline to develop predictions"
   ]
  },
  {
   "cell_type": "markdown",
   "metadata": {},
   "source": [
    "## What is a pipeline?\n",
    "\n",
    "- A pipeline is a general term that at its core means an automated transfer  of data\n",
    "- All data pipelines have two required steps\n",
    "    1. Extraction\n",
    "    2. Load\n",
    "- In Data Sciencee it is common for an addition step to be added.\n",
    "    1. Extraction\n",
    "    2. Transformation\n",
    "    3. Load\n",
    "    "
   ]
  },
  {
   "cell_type": "code",
   "execution_count": 1,
   "metadata": {
    "ExecuteTime": {
     "end_time": "2020-04-05T22:52:09.283258Z",
     "start_time": "2020-04-05T22:52:07.338610Z"
    }
   },
   "outputs": [],
   "source": [
    "# Base Libraries\n",
    "import pandas as pd\n",
    "import numpy as np\n",
    "import pickle\n",
    "import warnings\n",
    "warnings.filterwarnings(\"ignore\", category=FutureWarning)\n",
    "\n",
    "# Data Processing\n",
    "import string\n",
    "from nltk import word_tokenize\n",
    "from nltk.corpus import stopwords\n",
    "from sklearn.feature_extraction.text import TfidfVectorizer\n",
    "from sklearn.preprocessing import StandardScaler\n",
    "from Transformers import TextSelector, NumberSelector\n",
    "\n",
    "# Machine Learning\n",
    "from sklearn.model_selection import train_test_split\n",
    "from sklearn.pipeline import Pipeline, FeatureUnion\n",
    "from sklearn.ensemble import RandomForestClassifier\n",
    "from sklearn.model_selection import GridSearchCV\n",
    "from sklearn.metrics import accuracy_score, precision_score, recall_score,f1_score, confusion_matrix, classification_report\n",
    "\n",
    "# Visualization\n",
    "import seaborn as sns\n",
    "import matplotlib.pyplot as plt"
   ]
  },
  {
   "cell_type": "markdown",
   "metadata": {},
   "source": [
    "In the cell below, three functions are written to\n",
    "- Remove stopwords\n",
    "- Calculate the average word length of a document\n",
    "- Evaluate a classification model"
   ]
  },
  {
   "cell_type": "code",
   "execution_count": 2,
   "metadata": {
    "ExecuteTime": {
     "end_time": "2020-04-05T22:52:09.295020Z",
     "start_time": "2020-04-05T22:52:09.285146Z"
    },
    "code_folding": [
     1,
     9,
     18
    ]
   },
   "outputs": [],
   "source": [
    "stops = stopwords.words('english')\n",
    "def remove_stopwords(text):\n",
    "    '''removes stopwords for a string using a \n",
    "       previously loaded stops dataset'''\n",
    "    split = word_tokenize(text)\n",
    "    stopped = [word for word in split if word not in stops]\n",
    "    joined = ' '.join(stopped)\n",
    "    return joined\n",
    "\n",
    "def average_word_length(text):\n",
    "    '''counts the average word length for a given document'''\n",
    "    split = word_tokenize(text)\n",
    "    lengths = []\n",
    "    for word in split:\n",
    "        lengths.append(len(word))\n",
    "    \n",
    "    return np.mean(lengths)\n",
    "\n",
    "def evaluation(y, y_hat, title = 'Confusion Matrix'):\n",
    "    '''takes in predicted and true values.\n",
    "    The function then prints out a classifcation report\n",
    "    as well as a confusion matrix using seaborn's heatmap.'''\n",
    "    cm = confusion_matrix(y, y_hat)\n",
    "    precision = precision_score(y, y_hat, average = 'weighted')\n",
    "    recall = recall_score(y, y_hat, average = 'weighted')\n",
    "    accuracy = accuracy_score(y,y_hat)\n",
    "    print(classification_report(y, y_hat))\n",
    "    print('Accurancy: ', accuracy)\n",
    "    sns.heatmap(cm,  cmap= 'Greens', annot=True)\n",
    "    plt.xlabel('predicted')\n",
    "    plt.ylabel('actual')\n",
    "    plt.title(title)\n",
    "    plt.show()"
   ]
  },
  {
   "cell_type": "markdown",
   "metadata": {},
   "source": [
    "The features for our training data are saved in this repo with the path \n",
    "\n",
    "\n",
    "```'data/train_data.csv'```\n",
    "\n"
   ]
  },
  {
   "cell_type": "markdown",
   "metadata": {},
   "source": [
    "And our target path:\n",
    "\n",
    "```'data/train_labels.csv'```"
   ]
  },
  {
   "cell_type": "code",
   "execution_count": 3,
   "metadata": {
    "ExecuteTime": {
     "end_time": "2020-04-05T22:52:09.343703Z",
     "start_time": "2020-04-05T22:52:09.297022Z"
    },
    "code_folding": []
   },
   "outputs": [
    {
     "name": "stdout",
     "output_type": "stream",
     "text": [
      "---------------------------------------------------------------------\n",
      "                              Features\n",
      "---------------------------------------------------------------------\n",
      "   Unnamed: 0  id                                          name  \\\n",
      "0          49  49  My Plan to Fight Global Financial Corruption   \n",
      "1          33  33                                Foreign Policy   \n",
      "2          16  16      Comprehensive Debt Relief to Puerto Rico   \n",
      "\n",
      "                                              policy candidate  \n",
      "0  When the Panama Papers were released in 2016, ...    warren  \n",
      "1  From endless wars that strain military familie...    warren  \n",
      "2  As published on Medium on May 2nd, 2019:\\nI’ve...    warren  \n",
      "---------------------------------------------------------------------\n",
      "                               Target\n",
      "---------------------------------------------------------------------\n",
      "   Unnamed: 0  id  target\n",
      "0           0  49       1\n",
      "1           1  33       1\n",
      "2           2  16       1\n"
     ]
    }
   ],
   "source": [
    "# Import data\n",
    "df = pd.read_csv('data/train_data.csv')\n",
    "target = pd.read_csv('data/train_labels.csv')\n",
    "print('---------------------------------------------------------------------')\n",
    "print('                              Features')\n",
    "print('---------------------------------------------------------------------')\n",
    "print(df.head(3))\n",
    "print('---------------------------------------------------------------------')\n",
    "print('                               Target')\n",
    "print('---------------------------------------------------------------------')\n",
    "print(target.head(3))"
   ]
  },
  {
   "cell_type": "markdown",
   "metadata": {},
   "source": [
    "The id column is the join column for our training features and training labels. \n",
    "\n",
    "**Let's set that as the index for both data frames.**"
   ]
  },
  {
   "cell_type": "code",
   "execution_count": 4,
   "metadata": {
    "ExecuteTime": {
     "end_time": "2020-04-05T22:52:09.354123Z",
     "start_time": "2020-04-05T22:52:09.345830Z"
    }
   },
   "outputs": [],
   "source": [
    "df.set_index('id', inplace = True)\n",
    "df = df[['name', 'policy', 'candidate']]\n",
    "\n",
    "target = target[['id', 'target']]\n",
    "target.set_index('id', inplace = True)"
   ]
  },
  {
   "cell_type": "markdown",
   "metadata": {
    "ExecuteTime": {
     "end_time": "2020-04-05T19:59:28.171658Z",
     "start_time": "2020-04-05T19:59:28.162604Z"
    }
   },
   "source": [
    "Our features look like this:\n",
    "\n",
    "| name                               | policy                      | candidate             |\n",
    "|------------------------------------|-----------------------------|-----------------------|\n",
    "| The published title for the policy | The full text of the policy | Name of the candidate |"
   ]
  },
  {
   "cell_type": "markdown",
   "metadata": {},
   "source": [
    "Let's create a new feature that merges the name and policy columns."
   ]
  },
  {
   "cell_type": "code",
   "execution_count": 5,
   "metadata": {
    "ExecuteTime": {
     "end_time": "2020-04-05T22:52:09.406557Z",
     "start_time": "2020-04-05T22:52:09.355614Z"
    },
    "code_folding": []
   },
   "outputs": [],
   "source": [
    "# Combine Document Title and Document Body\n",
    "df['combined'] = df.name + ' ' + df.policy"
   ]
  },
  {
   "cell_type": "markdown",
   "metadata": {},
   "source": [
    "**Great**, now let's create a column called 'data' that will be the text data that we manipulate and run through our model.\n",
    "\n",
    "In the cell below we will:\n",
    "\n",
    "1. Create the 'data' column\n",
    "2. Lower our text data\n",
    "3. Remove punctuation\n",
    "4. Remove Stop words\n",
    "5. Remove words that contain digits\n",
    "6. Measure the word count for each document\n",
    "7. Measure the average word length for each document\n",
    "8. Isolate our modeling data\n",
    "9. Run a train test split of our modeling data"
   ]
  },
  {
   "cell_type": "code",
   "execution_count": 6,
   "metadata": {
    "ExecuteTime": {
     "end_time": "2020-04-05T22:52:11.639183Z",
     "start_time": "2020-04-05T22:52:09.408415Z"
    },
    "code_folding": []
   },
   "outputs": [],
   "source": [
    "# Lower text\n",
    "df['data'] = df.combined.apply(lambda x: x.lower())\n",
    "\n",
    "# Remove punctuation\n",
    "df.data = df.data.apply(lambda s: s.translate(str.maketrans('', '', string.punctuation)))\n",
    "\n",
    "# Remove stopwords\n",
    "df.data = df.data.apply(remove_stopwords)\n",
    "\n",
    "# Remove words that contain digits\n",
    "df.data = df.data.apply(lambda words: ' '.join(s for s in words.split() if not any(c.isdigit() for c in s)))\n",
    "\n",
    "# Create feature the measures word count\n",
    "df['length'] = df.data.apply(lambda x: len(word_tokenize(x)))\n",
    "\n",
    "# Create feature that measures average word length of document\n",
    "df['av_word_length'] = df.data.apply(average_word_length)\n",
    "\n",
    "\n",
    "# Isolate modeling data\n",
    "features = ['data', 'length', 'av_word_length']\n",
    "X = df[features]\n",
    "y = target.target\n",
    "\n",
    "# Split data for modeling\n",
    "X_train, X_test, y_train, y_test = train_test_split(X, y)"
   ]
  },
  {
   "cell_type": "markdown",
   "metadata": {},
   "source": [
    "# Create a Pipeline for Preprocessing"
   ]
  },
  {
   "cell_type": "markdown",
   "metadata": {},
   "source": [
    "To create a pipeline what we can run test data through, we need to tell the pipeline what to do with each feature.\n",
    "\n",
    "To do this, we will build our own Data Transformer using, Sklearn's **BaseEstimator** & **TransformerMixin**\n",
    ">[Here is an article on BaseEstimator and TransformerMixin](https://towardsdatascience.com/custom-transformers-and-ml-data-pipelines-with-python-20ea2a7adb65)"
   ]
  },
  {
   "cell_type": "markdown",
   "metadata": {},
   "source": [
    "These transformers will return specific columns to the pipeline so we can apply specific transformation. \n",
    "\n",
    "This sounds complicated, but all we are doing is creating a class that when given a column, returns that column name. \n",
    "\n",
    "The custom transformers are saved in a separate .py file in this repo called Transformers.py and imported into the notebook in the first cell. This is done so that our model can be pickled at the end of our project.\n",
    "\n",
    "**For easy reference here is a screenshot of the Transformers.py file**\n",
    "\n",
    "![](images/transformer_code.png)\n",
    "\n",
    "Now all we have to do is create pipelines for each of our columns.\n",
    "\n",
    "To create a pipeline, we instantiate a Sklearn ```Pipeline()``` object and inside that object we add a list of tuples. \n",
    "\n",
    "Each tuple is a step in our pipeline and each tuple contains two items:\n",
    "1. A string describing what is happening in that pipeline step\n",
    "2. The object that runs the code for that step"
   ]
  },
  {
   "cell_type": "code",
   "execution_count": 7,
   "metadata": {
    "ExecuteTime": {
     "end_time": "2020-04-05T22:52:11.645195Z",
     "start_time": "2020-04-05T22:52:11.640946Z"
    }
   },
   "outputs": [],
   "source": [
    "text = Pipeline([\n",
    "                ('selector', TextSelector(key='data')),\n",
    "                ('tfidf', TfidfVectorizer(stop_words='english'))\n",
    "            ])\n",
    "\n",
    "length =  Pipeline([\n",
    "                ('selector', NumberSelector(key='length')),\n",
    "                ('standard', StandardScaler())\n",
    "            ])\n",
    "\n",
    "word_length = Pipeline([\n",
    "                    ('selector', NumberSelector(key='av_word_length')),\n",
    "                     ('standard', StandardScaler())\n",
    "])"
   ]
  },
  {
   "cell_type": "markdown",
   "metadata": {},
   "source": [
    "Now that we have created individual pipelines for our columns, we combine them using Sklearn's **FeatureUnion**"
   ]
  },
  {
   "cell_type": "code",
   "execution_count": 8,
   "metadata": {
    "ExecuteTime": {
     "end_time": "2020-04-05T22:52:11.651212Z",
     "start_time": "2020-04-05T22:52:11.648233Z"
    }
   },
   "outputs": [],
   "source": [
    "feats = FeatureUnion([('text', text), \n",
    "                      ('length', length),\n",
    "                      ('word_length', word_length)])"
   ]
  },
  {
   "cell_type": "markdown",
   "metadata": {
    "ExecuteTime": {
     "end_time": "2020-04-05T20:34:11.764697Z",
     "start_time": "2020-04-05T20:34:11.738963Z"
    }
   },
   "source": [
    "FeatureUnion is not a pipeline, it merely joins the data from each pipeline together.\n",
    "\n",
    "To make our Pipeline actionable, we have to create one last pipeline containing our FeatureUnion."
   ]
  },
  {
   "cell_type": "code",
   "execution_count": 9,
   "metadata": {
    "ExecuteTime": {
     "end_time": "2020-04-05T22:52:11.657507Z",
     "start_time": "2020-04-05T22:52:11.654125Z"
    }
   },
   "outputs": [],
   "source": [
    "feature_processing = Pipeline([('feats', feats)])"
   ]
  },
  {
   "cell_type": "markdown",
   "metadata": {},
   "source": [
    "Now, we can run all of our data transformations at once. \n",
    "\n",
    "Because we used the TfidfVectorizer, the results of our pipeline is a sparse matrix."
   ]
  },
  {
   "cell_type": "code",
   "execution_count": 10,
   "metadata": {
    "ExecuteTime": {
     "end_time": "2020-04-05T22:52:11.769497Z",
     "start_time": "2020-04-05T22:52:11.660205Z"
    }
   },
   "outputs": [
    {
     "data": {
      "text/plain": [
       "<60x9128 sparse matrix of type '<class 'numpy.float64'>'\n",
       "\twith 37652 stored elements in Compressed Sparse Row format>"
      ]
     },
     "execution_count": 10,
     "metadata": {},
     "output_type": "execute_result"
    }
   ],
   "source": [
    "feature_processing.fit_transform(X_train)"
   ]
  },
  {
   "cell_type": "markdown",
   "metadata": {},
   "source": [
    "Adding a machine learning model to our pipeline is as simple as adding another tuple to our pipeline"
   ]
  },
  {
   "cell_type": "code",
   "execution_count": 11,
   "metadata": {
    "ExecuteTime": {
     "end_time": "2020-04-05T22:52:12.126276Z",
     "start_time": "2020-04-05T22:52:11.771174Z"
    }
   },
   "outputs": [
    {
     "name": "stdout",
     "output_type": "stream",
     "text": [
      "              precision    recall  f1-score   support\n",
      "\n",
      "           0       1.00      0.12      0.22         8\n",
      "           1       0.65      1.00      0.79        13\n",
      "\n",
      "    accuracy                           0.67        21\n",
      "   macro avg       0.82      0.56      0.51        21\n",
      "weighted avg       0.78      0.67      0.57        21\n",
      "\n",
      "Accurancy:  0.6666666666666666\n"
     ]
    },
    {
     "data": {
      "image/png": "[encoded data removed]",
      "text/plain": [
       "<Figure size 432x288 with 2 Axes>"
      ]
     },
     "metadata": {
      "needs_background": "light"
     },
     "output_type": "display_data"
    }
   ],
   "source": [
    "pipeline = Pipeline([\n",
    "    ('features',feats),\n",
    "    ('classifier', RandomForestClassifier(random_state = 42)),\n",
    "])\n",
    "\n",
    "pipeline.fit(X_train, y_train)\n",
    "\n",
    "preds = pipeline.predict(X_test)\n",
    "evaluation(y_test, preds)"
   ]
  },
  {
   "cell_type": "markdown",
   "metadata": {},
   "source": [
    "# Grid Search"
   ]
  },
  {
   "cell_type": "markdown",
   "metadata": {},
   "source": [
    "Creating a pipeline is great, but what if we want to tune our model inside the pipeline?\n",
    "\n",
    "What if we want to tune multiple steps in our pipeline?\n",
    "\n",
    "Pipeline objects have a simple way of returning all the parameters that can be tuned."
   ]
  },
  {
   "cell_type": "code",
   "execution_count": 12,
   "metadata": {
    "ExecuteTime": {
     "end_time": "2020-04-05T22:52:12.132917Z",
     "start_time": "2020-04-05T22:52:12.128209Z"
    }
   },
   "outputs": [
    {
     "data": {
      "text/plain": [
       "dict_keys(['memory', 'steps', 'verbose', 'features', 'classifier', 'features__n_jobs', 'features__transformer_list', 'features__transformer_weights', 'features__verbose', 'features__text', 'features__length', 'features__word_length', 'features__text__memory', 'features__text__steps', 'features__text__verbose', 'features__text__selector', 'features__text__tfidf', 'features__text__selector__key', 'features__text__tfidf__analyzer', 'features__text__tfidf__binary', 'features__text__tfidf__decode_error', 'features__text__tfidf__dtype', 'features__text__tfidf__encoding', 'features__text__tfidf__input', 'features__text__tfidf__lowercase', 'features__text__tfidf__max_df', 'features__text__tfidf__max_features', 'features__text__tfidf__min_df', 'features__text__tfidf__ngram_range', 'features__text__tfidf__norm', 'features__text__tfidf__preprocessor', 'features__text__tfidf__smooth_idf', 'features__text__tfidf__stop_words', 'features__text__tfidf__strip_accents', 'features__text__tfidf__sublinear_tf', 'features__text__tfidf__token_pattern', 'features__text__tfidf__tokenizer', 'features__text__tfidf__use_idf', 'features__text__tfidf__vocabulary', 'features__length__memory', 'features__length__steps', 'features__length__verbose', 'features__length__selector', 'features__length__standard', 'features__length__selector__key', 'features__length__standard__copy', 'features__length__standard__with_mean', 'features__length__standard__with_std', 'features__word_length__memory', 'features__word_length__steps', 'features__word_length__verbose', 'features__word_length__selector', 'features__word_length__standard', 'features__word_length__selector__key', 'features__word_length__standard__copy', 'features__word_length__standard__with_mean', 'features__word_length__standard__with_std', 'classifier__bootstrap', 'classifier__ccp_alpha', 'classifier__class_weight', 'classifier__criterion', 'classifier__max_depth', 'classifier__max_features', 'classifier__max_leaf_nodes', 'classifier__max_samples', 'classifier__min_impurity_decrease', 'classifier__min_impurity_split', 'classifier__min_samples_leaf', 'classifier__min_samples_split', 'classifier__min_weight_fraction_leaf', 'classifier__n_estimators', 'classifier__n_jobs', 'classifier__oob_score', 'classifier__random_state', 'classifier__verbose', 'classifier__warm_start'])"
      ]
     },
     "execution_count": 12,
     "metadata": {},
     "output_type": "execute_result"
    }
   ],
   "source": [
    "pipeline.get_params().keys()"
   ]
  },
  {
   "cell_type": "markdown",
   "metadata": {},
   "source": [
    "Notice that the name of these parameters are tied to the descriptions we gave for the steps in our Pipeline.\n",
    "\n",
    "**Example:**\n",
    "\n",
    "```'features__text__tfidf__analyzer'``` is apart of our ```features``` step in our most recent pipeline. The features step contained the step ```text``` which contained the step ```tfidf```. Pipelines inside pipelines, essentially.\n",
    "\n",
    "If you were to look at the documentation for TfidfVectorizer, there is a paremeter called ```analyzer```. GridSearch uses the descriptions we give to each step of our Pipeline to identify which parameter to tune. For this reason it is helpful to use unique descriptions for each step you may be interested in tuning.\n",
    "\n",
    "\n",
    "Let's tune a few parameters"
   ]
  },
  {
   "cell_type": "code",
   "execution_count": 13,
   "metadata": {
    "ExecuteTime": {
     "end_time": "2020-04-05T22:52:37.605874Z",
     "start_time": "2020-04-05T22:52:12.134797Z"
    }
   },
   "outputs": [
    {
     "data": {
      "text/plain": [
       "GridSearchCV(cv=5, error_score=nan,\n",
       "             estimator=Pipeline(memory=None,\n",
       "                                steps=[('features',\n",
       "                                        FeatureUnion(n_jobs=None,\n",
       "                                                     transformer_list=[('text',\n",
       "                                                                        Pipeline(memory=None,\n",
       "                                                                                 steps=[('selector',\n",
       "                                                                                         TextSelector(key='data')),\n",
       "                                                                                        ('tfidf',\n",
       "                                                                                         TfidfVectorizer(analyzer='word',\n",
       "                                                                                                         binary=False,\n",
       "                                                                                                         decode_error='strict',\n",
       "                                                                                                         dtype=<class 'numpy.float64'>,\n",
       "                                                                                                         encoding='utf-8',\n",
       "                                                                                                         input='content',\n",
       "                                                                                                         lowercase=T...\n",
       "                                                               oob_score=False,\n",
       "                                                               random_state=42,\n",
       "                                                               verbose=0,\n",
       "                                                               warm_start=False))],\n",
       "                                verbose=False),\n",
       "             iid='deprecated', n_jobs=None,\n",
       "             param_grid={'classifier__max_depth': [50, 70],\n",
       "                         'classifier__min_samples_leaf': [1, 2],\n",
       "                         'features__text__tfidf__max_df': [0.9, 0.95],\n",
       "                         'features__text__tfidf__ngram_range': [(1, 1),\n",
       "                                                                (1, 2)]},\n",
       "             pre_dispatch='2*n_jobs', refit=True, return_train_score=False,\n",
       "             scoring=None, verbose=0)"
      ]
     },
     "execution_count": 13,
     "metadata": {},
     "output_type": "execute_result"
    }
   ],
   "source": [
    "hyperparameters = { 'features__text__tfidf__max_df': [0.9, 0.95],\n",
    "                    'features__text__tfidf__ngram_range': [(1,1), (1,2)],\n",
    "                   'classifier__max_depth': [50, 70],\n",
    "                    'classifier__min_samples_leaf': [1,2]\n",
    "                  }\n",
    "clf = GridSearchCV(pipeline, hyperparameters, cv=5)\n",
    " \n",
    "\n",
    "clf.fit(X, y)"
   ]
  },
  {
   "cell_type": "markdown",
   "metadata": {},
   "source": [
    "Let's print out the parameter settings that returned the best score."
   ]
  },
  {
   "cell_type": "code",
   "execution_count": 14,
   "metadata": {
    "ExecuteTime": {
     "end_time": "2020-04-05T22:52:37.612055Z",
     "start_time": "2020-04-05T22:52:37.607947Z"
    }
   },
   "outputs": [
    {
     "data": {
      "text/plain": [
       "{'classifier__max_depth': 50,\n",
       " 'classifier__min_samples_leaf': 1,\n",
       " 'features__text__tfidf__max_df': 0.9,\n",
       " 'features__text__tfidf__ngram_range': (1, 1)}"
      ]
     },
     "execution_count": 14,
     "metadata": {},
     "output_type": "execute_result"
    }
   ],
   "source": [
    "clf.best_params_"
   ]
  },
  {
   "cell_type": "markdown",
   "metadata": {},
   "source": [
    "A handy tool is .refit, that immediately retrains our model on the features that have been identified by our GridSearch"
   ]
  },
  {
   "cell_type": "code",
   "execution_count": 15,
   "metadata": {
    "ExecuteTime": {
     "end_time": "2020-04-05T22:52:37.617509Z",
     "start_time": "2020-04-05T22:52:37.614017Z"
    }
   },
   "outputs": [
    {
     "data": {
      "text/plain": [
       "True"
      ]
     },
     "execution_count": 15,
     "metadata": {},
     "output_type": "execute_result"
    }
   ],
   "source": [
    "clf.refit"
   ]
  },
  {
   "cell_type": "markdown",
   "metadata": {},
   "source": [
    "Now, we can make predictions just like we would with any other model."
   ]
  },
  {
   "cell_type": "code",
   "execution_count": 16,
   "metadata": {
    "ExecuteTime": {
     "end_time": "2020-04-05T22:52:37.992574Z",
     "start_time": "2020-04-05T22:52:37.619308Z"
    }
   },
   "outputs": [
    {
     "name": "stdout",
     "output_type": "stream",
     "text": [
      "              precision    recall  f1-score   support\n",
      "\n",
      "           0       1.00      1.00      1.00        24\n",
      "           1       1.00      1.00      1.00        57\n",
      "\n",
      "    accuracy                           1.00        81\n",
      "   macro avg       1.00      1.00      1.00        81\n",
      "weighted avg       1.00      1.00      1.00        81\n",
      "\n",
      "Accurancy:  1.0\n"
     ]
    },
    {
     "data": {
      "image/png": "[encoded data removed]",
      "text/plain": [
       "<Figure size 432x288 with 2 Axes>"
      ]
     },
     "metadata": {
      "needs_background": "light"
     },
     "output_type": "display_data"
    }
   ],
   "source": [
    "preds = clf.predict(X)\n",
    "probs = clf.predict_proba(X)\n",
    "\n",
    "evaluation(y, preds)"
   ]
  },
  {
   "cell_type": "markdown",
   "metadata": {},
   "source": [
    "We can now save our model as a single object.\n",
    "\n",
    "This object contains all the steps of our pipeline.\n",
    "\n",
    "When we use ```.predict``` the model funnels the data through each step of the pipeline before returning predictions."
   ]
  },
  {
   "cell_type": "code",
   "execution_count": 17,
   "metadata": {
    "ExecuteTime": {
     "end_time": "2020-04-05T22:52:38.059953Z",
     "start_time": "2020-04-05T22:52:37.994487Z"
    },
    "code_folding": []
   },
   "outputs": [],
   "source": [
    "filename = 'finalized_model.sav'\n",
    "with open(filename, 'wb') as f:\n",
    "    pickle.dump(clf, f)"
   ]
  },
  {
   "cell_type": "markdown",
   "metadata": {},
   "source": [
    "# Putting it all together"
   ]
  },
  {
   "cell_type": "markdown",
   "metadata": {},
   "source": [
    "Let's put all of our code together, so that we can \n",
    "1. import our test data\n",
    "2. quickly format the data\n",
    "3. Clean our text data\n",
    "3. Repoduce our feature engineering\n",
    "4. Use our Pipeline to produce predictions"
   ]
  },
  {
   "cell_type": "code",
   "execution_count": 18,
   "metadata": {
    "ExecuteTime": {
     "end_time": "2020-04-05T22:52:38.071336Z",
     "start_time": "2020-04-05T22:52:38.061665Z"
    }
   },
   "outputs": [],
   "source": [
    "def remove_stopwords(text):\n",
    "    split = word_tokenize(text)\n",
    "    stopped = [word for word in split if word not in stops]\n",
    "    joined = ' '.join(stopped)\n",
    "    return joined\n",
    "\n",
    "def average_word_length(text):\n",
    "    split = word_tokenize(text)\n",
    "    lengths = []\n",
    "    for word in split:\n",
    "        lengths.append(len(word))\n",
    "    \n",
    "    return np.mean(lengths)\n",
    "\n",
    "def processing(df):\n",
    "\n",
    "    df['combined'] = df.name + ' ' + df.policy\n",
    "\n",
    "    #lower text data\n",
    "    df['data'] = df.combined.apply(lambda x: x.lower())\n",
    "\n",
    "    #remove punctuation\n",
    "    df.data = df.data.apply(lambda s: s.translate(str.maketrans('', '', string.punctuation)))\n",
    "    \n",
    "    #remove stopwords\n",
    "    df.data = df.data.apply(remove_stopwords)\n",
    "    stops = stopwords.words('english')\n",
    "    \n",
    "    #Remove words that contain digits\n",
    "    df.data = df.data.apply(lambda words: \\\n",
    "                            ' '.join(s for s in words.split() if not any(c.isdigit() for c in s)))\n",
    "    \n",
    "    #Length of document\n",
    "    df['length'] = df.data.apply(lambda x: len(word_tokenize(x)))\n",
    "    \n",
    "    #Average Word Length\n",
    "    df['av_word_length'] = df.data.apply(average_word_length)\n",
    "    \n",
    "    features = ['data', 'length', 'av_word_length']\n",
    "    X = df[features]\n",
    "    \n",
    "    return X\n",
    "\n",
    "def predict(data_path, model_path = 'finalized_model.sav'):\n",
    "    \n",
    "    data = pd.read_csv(data_path)\n",
    "    data.set_index('id', inplace = True)\n",
    "    data = data[['name', 'policy', 'candidate']]\n",
    "    \n",
    "    # Preprocessing\n",
    "    data = processing(data)\n",
    "    \n",
    "    # Import Pipeline\n",
    "    with open(model_path, 'rb') as file:\n",
    "        model = pickle.load(file)\n",
    "    \n",
    "    # Predictions\n",
    "    preds = model.predict(data)\n",
    "    \n",
    "    return preds"
   ]
  },
  {
   "cell_type": "code",
   "execution_count": 19,
   "metadata": {
    "ExecuteTime": {
     "end_time": "2020-04-05T22:52:38.990833Z",
     "start_time": "2020-04-05T22:52:38.073242Z"
    }
   },
   "outputs": [],
   "source": [
    "pred = predict('data/test_data.csv')"
   ]
  },
  {
   "cell_type": "markdown",
   "metadata": {},
   "source": [
    "Now let's import the labels for our test data and see how we did."
   ]
  },
  {
   "cell_type": "code",
   "execution_count": 20,
   "metadata": {
    "ExecuteTime": {
     "end_time": "2020-04-05T22:52:38.999769Z",
     "start_time": "2020-04-05T22:52:38.992480Z"
    }
   },
   "outputs": [],
   "source": [
    "y_true = pd.read_csv('data/test_labels.csv')\n",
    "y_true = y_true[['id', 'target']]\n",
    "y_true.set_index('id', inplace = True)"
   ]
  },
  {
   "cell_type": "code",
   "execution_count": 21,
   "metadata": {
    "ExecuteTime": {
     "end_time": "2020-04-05T22:52:39.128543Z",
     "start_time": "2020-04-05T22:52:39.001775Z"
    }
   },
   "outputs": [
    {
     "name": "stdout",
     "output_type": "stream",
     "text": [
      "              precision    recall  f1-score   support\n",
      "\n",
      "           0       1.00      0.70      0.82        10\n",
      "           1       0.86      1.00      0.92        18\n",
      "\n",
      "    accuracy                           0.89        28\n",
      "   macro avg       0.93      0.85      0.87        28\n",
      "weighted avg       0.91      0.89      0.89        28\n",
      "\n",
      "Accurancy:  0.8928571428571429\n"
     ]
    },
    {
     "data": {
      "image/png": "[encoded data removed]",
      "text/plain": [
       "<Figure size 432x288 with 2 Axes>"
      ]
     },
     "metadata": {
      "needs_background": "light"
     },
     "output_type": "display_data"
    }
   ],
   "source": [
    "evaluation(y_true, pred)"
   ]
  },
  {
   "cell_type": "markdown",
   "metadata": {
    "heading_collapsed": true
   },
   "source": [
    "# Documentation"
   ]
  },
  {
   "cell_type": "markdown",
   "metadata": {
    "hidden": true
   },
   "source": [
    "[Sklearn Pipeline](https://scikit-learn.org/stable/modules/generated/sklearn.pipeline.Pipeline.html)\n",
    "\n",
    "[Sklearn BaseEstimator](https://scikit-learn.org/stable/modules/generated/sklearn.base.BaseEstimator.html)\n",
    "\n",
    "[Sklearn TransformerMixin](https://scikit-learn.org/stable/modules/generated/sklearn.base.TransformerMixin.html)"
   ]
  },
  {
   "cell_type": "code",
   "execution_count": null,
   "metadata": {
    "hidden": true
   },
   "outputs": [],
   "source": []
  }
 ],
 "metadata": {
  "gist": {
   "data": {
    "description": "Flatiron/Chicago-ds-012720/module_4/Pipelines/Pipelines.ipynb",
    "public": false
   },
   "id": ""
  },
  "hide_input": false,
  "kernelspec": {
   "display_name": "Python 3",
   "language": "python",
   "name": "python3"
  },
  "language_info": {
   "codemirror_mode": {
    "name": "ipython",
    "version": 3
   },
   "file_extension": ".py",
   "mimetype": "text/x-python",
   "name": "python",
   "nbconvert_exporter": "python",
   "pygments_lexer": "ipython3",
   "version": "3.7.3"
  },
  "toc": {
   "base_numbering": 1,
   "nav_menu": {},
   "number_sections": false,
   "sideBar": true,
   "skip_h1_title": true,
   "title_cell": "Table of Contents",
   "title_sidebar": "Contents",
   "toc_cell": false,
   "toc_position": {},
   "toc_section_display": true,
   "toc_window_display": false
  },
  "varInspector": {
   "cols": {
    "lenName": 16,
    "lenType": 16,
    "lenVar": 40
   },
   "kernels_config": {
    "python": {
     "delete_cmd_postfix": "",
     "delete_cmd_prefix": "del ",
     "library": "var_list.py",
     "varRefreshCmd": "print(var_dic_list())"
    },
    "r": {
     "delete_cmd_postfix": ") ",
     "delete_cmd_prefix": "rm(",
     "library": "var_list.r",
     "varRefreshCmd": "cat(var_dic_list()) "
    }
   },
   "types_to_exclude": [
    "module",
    "function",
    "builtin_function_or_method",
    "instance",
    "_Feature"
   ],
   "window_display": false
  }
 },
 "nbformat": 4,
 "nbformat_minor": 2
}
