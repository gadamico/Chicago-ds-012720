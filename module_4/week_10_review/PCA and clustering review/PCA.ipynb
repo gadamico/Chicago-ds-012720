{
 "cells": [
  {
   "cell_type": "markdown",
   "metadata": {},
   "source": [
    "### PCA"
   ]
  },
  {
   "cell_type": "markdown",
   "metadata": {},
   "source": [
    "#### Theory"
   ]
  },
  {
   "cell_type": "markdown",
   "metadata": {},
   "source": [
    "PCA is solving the equation 𝐴𝑥⃗ =𝜆𝑥⃗ , for some scalar 𝜆.  Another way of writing this equation to make the linear algebra clearer is (𝐴−𝜆𝐼)𝑥⃗ =0\n",
    "\n",
    "IOW: \"What is the set of vectors which, when I multiply them by my matrix of data, results in that same set of vectors just moved in space by a scalar distance\"\n",
    "\n",
    "The idea is that we want to transform our data into a set of mutually-orthoganal vectors which still capture most of the linear variance in the data.  Why?\n",
    "\n",
    "- Dimensionally reduction.  As dimensions increase, observations get further apart and distance calculations, which a lot of techinuqes rely on, get less effective.  Picture trying to cluster 100 data points in 2 dimensions.  Now picture clustering 100 pts in 500.  By reducing dimensions, we're able to avoid the complications that come with spreading points further and further out.  \n",
    "\n",
    "- By making the features in our data orthogonal, we're ensuring that values for observations in one dimension aren't dependent on information in another dimension.  This is large advantage in constructing models, since information in a given feature is soley about that feature, and not incorporating information from other features; models have an easier time distinguishing what information is coming from which feature.  When we go to predict off of orthogonal features, our techniques are able to make better predictions.\n",
    "\n",
    "𝑥⃗ is a matrix of \"eigenvectors\", which we interpret as \"principal components\", the vectors along which there is linear variance in the data.  \n",
    "\n",
    "The first principal component is the vector along which the data varies the most.  The second principal component is the vector along which the data varies the second most and is orthogonal to the first component.  The third princpal component is the vector along which the data varies third most and is orthogonal to the first two, etc. "
   ]
  },
  {
   "cell_type": "markdown",
   "metadata": {},
   "source": [
    "![pca](img/pca.png)"
   ]
  },
  {
   "cell_type": "markdown",
   "metadata": {},
   "source": [
    "Eigenvalues, 𝜆, are stored in a matrix, the diagonal of which contain the eigenvalues: the specific values which apply to the equation in the first line. "
   ]
  },
  {
   "cell_type": "code",
   "execution_count": null,
   "metadata": {},
   "outputs": [],
   "source": []
  },
  {
   "cell_type": "markdown",
   "metadata": {},
   "source": []
  },
  {
   "cell_type": "markdown",
   "metadata": {},
   "source": [
    "#### Code"
   ]
  },
  {
   "cell_type": "code",
   "execution_count": 21,
   "metadata": {},
   "outputs": [],
   "source": [
    "import pandas as pd\n",
    "import numpy as np\n",
    "from sklearn.preprocessing import StandardScaler\n",
    "from sklearn.decomposition import PCA\n",
    "from sklearn.datasets import load_iris\n",
    "import matplotlib.pyplot as plt\n",
    "%matplotlib inline"
   ]
  },
  {
   "cell_type": "code",
   "execution_count": 22,
   "metadata": {},
   "outputs": [
    {
     "data": {
      "text/html": [
       "<div>\n",
       "<style scoped>\n",
       "    .dataframe tbody tr th:only-of-type {\n",
       "        vertical-align: middle;\n",
       "    }\n",
       "\n",
       "    .dataframe tbody tr th {\n",
       "        vertical-align: top;\n",
       "    }\n",
       "\n",
       "    .dataframe thead th {\n",
       "        text-align: right;\n",
       "    }\n",
       "</style>\n",
       "<table border=\"1\" class=\"dataframe\">\n",
       "  <thead>\n",
       "    <tr style=\"text-align: right;\">\n",
       "      <th></th>\n",
       "      <th>sepal length (cm)</th>\n",
       "      <th>sepal width (cm)</th>\n",
       "      <th>petal length (cm)</th>\n",
       "      <th>petal width (cm)</th>\n",
       "      <th>Target</th>\n",
       "    </tr>\n",
       "  </thead>\n",
       "  <tbody>\n",
       "    <tr>\n",
       "      <td>0</td>\n",
       "      <td>5.1</td>\n",
       "      <td>3.5</td>\n",
       "      <td>1.4</td>\n",
       "      <td>0.2</td>\n",
       "      <td>0</td>\n",
       "    </tr>\n",
       "    <tr>\n",
       "      <td>1</td>\n",
       "      <td>4.9</td>\n",
       "      <td>3.0</td>\n",
       "      <td>1.4</td>\n",
       "      <td>0.2</td>\n",
       "      <td>0</td>\n",
       "    </tr>\n",
       "    <tr>\n",
       "      <td>2</td>\n",
       "      <td>4.7</td>\n",
       "      <td>3.2</td>\n",
       "      <td>1.3</td>\n",
       "      <td>0.2</td>\n",
       "      <td>0</td>\n",
       "    </tr>\n",
       "    <tr>\n",
       "      <td>3</td>\n",
       "      <td>4.6</td>\n",
       "      <td>3.1</td>\n",
       "      <td>1.5</td>\n",
       "      <td>0.2</td>\n",
       "      <td>0</td>\n",
       "    </tr>\n",
       "    <tr>\n",
       "      <td>4</td>\n",
       "      <td>5.0</td>\n",
       "      <td>3.6</td>\n",
       "      <td>1.4</td>\n",
       "      <td>0.2</td>\n",
       "      <td>0</td>\n",
       "    </tr>\n",
       "  </tbody>\n",
       "</table>\n",
       "</div>"
      ],
      "text/plain": [
       "   sepal length (cm)  sepal width (cm)  petal length (cm)  petal width (cm)  \\\n",
       "0                5.1               3.5                1.4               0.2   \n",
       "1                4.9               3.0                1.4               0.2   \n",
       "2                4.7               3.2                1.3               0.2   \n",
       "3                4.6               3.1                1.5               0.2   \n",
       "4                5.0               3.6                1.4               0.2   \n",
       "\n",
       "   Target  \n",
       "0       0  \n",
       "1       0  \n",
       "2       0  \n",
       "3       0  \n",
       "4       0  "
      ]
     },
     "execution_count": 22,
     "metadata": {},
     "output_type": "execute_result"
    }
   ],
   "source": [
    "iris = load_iris()\n",
    "\n",
    "X = iris.data\n",
    "y = iris.target\n",
    "columns = iris.feature_names\n",
    "df = pd.DataFrame(X)\n",
    "df.columns = columns\n",
    "df['Target'] = y\n",
    "df.head()"
   ]
  },
  {
   "cell_type": "markdown",
   "metadata": {},
   "source": [
    "Before we apply PCA, let's take a look at how seperal the classes are based on the raw features present."
   ]
  },
  {
   "cell_type": "code",
   "execution_count": 5,
   "metadata": {},
   "outputs": [
    {
     "data": {
      "image/png": "[encoded data removed]",
      "text/plain": [
       "<Figure size 432x288 with 1 Axes>"
      ]
     },
     "metadata": {
      "needs_background": "light"
     },
     "output_type": "display_data"
    }
   ],
   "source": [
    "for target in df.Target.unique():\n",
    "    temp = df[df.Target == target]\n",
    "    plt.scatter(temp['sepal length (cm)'], temp['sepal width (cm)'])"
   ]
  },
  {
   "cell_type": "code",
   "execution_count": 6,
   "metadata": {},
   "outputs": [
    {
     "data": {
      "image/png": "[encoded data removed]",
      "text/plain": [
       "<Figure size 432x288 with 1 Axes>"
      ]
     },
     "metadata": {
      "needs_background": "light"
     },
     "output_type": "display_data"
    }
   ],
   "source": [
    "for target in df.Target.unique():\n",
    "    temp = df[df.Target == target]\n",
    "    plt.scatter(temp['petal length (cm)'], temp['petal width (cm)'])"
   ]
  },
  {
   "cell_type": "markdown",
   "metadata": {},
   "source": [
    "### Fitting a PCA Model"
   ]
  },
  {
   "cell_type": "code",
   "execution_count": 23,
   "metadata": {},
   "outputs": [
    {
     "data": {
      "text/plain": [
       "array([[-2.68412563e+00,  3.19397247e-01, -2.79148276e-02,\n",
       "        -2.26243707e-03],\n",
       "       [-2.71414169e+00, -1.77001225e-01, -2.10464272e-01,\n",
       "        -9.90265503e-02],\n",
       "       [-2.88899057e+00, -1.44949426e-01,  1.79002563e-02,\n",
       "        -1.99683897e-02],\n",
       "       [-2.74534286e+00, -3.18298979e-01,  3.15593736e-02,\n",
       "         7.55758166e-02],\n",
       "       [-2.72871654e+00,  3.26754513e-01,  9.00792406e-02,\n",
       "         6.12585926e-02],\n",
       "       [-2.28085963e+00,  7.41330449e-01,  1.68677658e-01,\n",
       "         2.42008576e-02],\n",
       "       [-2.82053775e+00, -8.94613845e-02,  2.57892158e-01,\n",
       "         4.81431065e-02],\n",
       "       [-2.62614497e+00,  1.63384960e-01, -2.18793179e-02,\n",
       "         4.52978706e-02],\n",
       "       [-2.88638273e+00, -5.78311754e-01,  2.07595703e-02,\n",
       "         2.67447358e-02],\n",
       "       [-2.67275580e+00, -1.13774246e-01, -1.97632725e-01,\n",
       "         5.62954013e-02]])"
      ]
     },
     "execution_count": 23,
     "metadata": {},
     "output_type": "execute_result"
    }
   ],
   "source": [
    "pca = PCA(n_components=4)\n",
    "X_transformed = pca.fit_transform(X)\n",
    "\n",
    "X_transformed[0:10]"
   ]
  },
  {
   "cell_type": "markdown",
   "metadata": {},
   "source": [
    "### Inspecting the Explained Variance of the Principal Components"
   ]
  },
  {
   "cell_type": "markdown",
   "metadata": {},
   "source": [
    "Remember that PCA decomposes the original dataset into principal components which attempt to encapsulate the maximum amount of information as defined by the maximum variance across observations. With this, it is useful to investigate how much variance in the dataset is accounted for in the first $n$ components. \n",
    "\n",
    "While you will have the same number of principal components as you have original features to account for all of the variance in a dataset (assuming you don't have redundant features), the first few principal components will typically account for the vast majority of the variance.\n",
    "\n",
    "sci-kit learn makes this very easy using the expalined_variance_ratio_ attribute of the instantiated PCA model object."
   ]
  },
  {
   "cell_type": "code",
   "execution_count": 8,
   "metadata": {},
   "outputs": [
    {
     "data": {
      "text/plain": [
       "array([0.92461872, 0.05306648, 0.01710261, 0.00521218])"
      ]
     },
     "execution_count": 8,
     "metadata": {},
     "output_type": "execute_result"
    }
   ],
   "source": [
    "pca.explained_variance_ratio_"
   ]
  },
  {
   "cell_type": "code",
   "execution_count": 10,
   "metadata": {},
   "outputs": [
    {
     "data": {
      "text/plain": [
       "array([0.92461872, 0.97768521, 0.99478782, 1.        ])"
      ]
     },
     "execution_count": 10,
     "metadata": {},
     "output_type": "execute_result"
    }
   ],
   "source": [
    "pca.explained_variance_ratio_.cumsum()"
   ]
  },
  {
   "cell_type": "markdown",
   "metadata": {},
   "source": [
    "Now, we want to make this into a dataframe and attach it to our original data"
   ]
  },
  {
   "cell_type": "code",
   "execution_count": 13,
   "metadata": {},
   "outputs": [
    {
     "data": {
      "text/html": [
       "<div>\n",
       "<style scoped>\n",
       "    .dataframe tbody tr th:only-of-type {\n",
       "        vertical-align: middle;\n",
       "    }\n",
       "\n",
       "    .dataframe tbody tr th {\n",
       "        vertical-align: top;\n",
       "    }\n",
       "\n",
       "    .dataframe thead th {\n",
       "        text-align: right;\n",
       "    }\n",
       "</style>\n",
       "<table border=\"1\" class=\"dataframe\">\n",
       "  <thead>\n",
       "    <tr style=\"text-align: right;\">\n",
       "      <th></th>\n",
       "      <th>PC1</th>\n",
       "      <th>PC2</th>\n",
       "      <th>PC3</th>\n",
       "      <th>PC4</th>\n",
       "    </tr>\n",
       "  </thead>\n",
       "  <tbody>\n",
       "    <tr>\n",
       "      <td>0</td>\n",
       "      <td>-2.684126</td>\n",
       "      <td>0.319397</td>\n",
       "      <td>-0.027915</td>\n",
       "      <td>-0.002262</td>\n",
       "    </tr>\n",
       "    <tr>\n",
       "      <td>1</td>\n",
       "      <td>-2.714142</td>\n",
       "      <td>-0.177001</td>\n",
       "      <td>-0.210464</td>\n",
       "      <td>-0.099027</td>\n",
       "    </tr>\n",
       "    <tr>\n",
       "      <td>2</td>\n",
       "      <td>-2.888991</td>\n",
       "      <td>-0.144949</td>\n",
       "      <td>0.017900</td>\n",
       "      <td>-0.019968</td>\n",
       "    </tr>\n",
       "    <tr>\n",
       "      <td>3</td>\n",
       "      <td>-2.745343</td>\n",
       "      <td>-0.318299</td>\n",
       "      <td>0.031559</td>\n",
       "      <td>0.075576</td>\n",
       "    </tr>\n",
       "    <tr>\n",
       "      <td>4</td>\n",
       "      <td>-2.728717</td>\n",
       "      <td>0.326755</td>\n",
       "      <td>0.090079</td>\n",
       "      <td>0.061259</td>\n",
       "    </tr>\n",
       "  </tbody>\n",
       "</table>\n",
       "</div>"
      ],
      "text/plain": [
       "        PC1       PC2       PC3       PC4\n",
       "0 -2.684126  0.319397 -0.027915 -0.002262\n",
       "1 -2.714142 -0.177001 -0.210464 -0.099027\n",
       "2 -2.888991 -0.144949  0.017900 -0.019968\n",
       "3 -2.745343 -0.318299  0.031559  0.075576\n",
       "4 -2.728717  0.326755  0.090079  0.061259"
      ]
     },
     "execution_count": 13,
     "metadata": {},
     "output_type": "execute_result"
    }
   ],
   "source": [
    "X_transformed = pd.DataFrame(X_transformed)\n",
    "X_transformed.columns = ['PC{}'.format(i+1) for i in range(len(X_transformed.columns))]\n",
    "X_transformed.head()"
   ]
  },
  {
   "cell_type": "code",
   "execution_count": 15,
   "metadata": {},
   "outputs": [
    {
     "data": {
      "text/html": [
       "<div>\n",
       "<style scoped>\n",
       "    .dataframe tbody tr th:only-of-type {\n",
       "        vertical-align: middle;\n",
       "    }\n",
       "\n",
       "    .dataframe tbody tr th {\n",
       "        vertical-align: top;\n",
       "    }\n",
       "\n",
       "    .dataframe thead th {\n",
       "        text-align: right;\n",
       "    }\n",
       "</style>\n",
       "<table border=\"1\" class=\"dataframe\">\n",
       "  <thead>\n",
       "    <tr style=\"text-align: right;\">\n",
       "      <th></th>\n",
       "      <th>sepal length (cm)</th>\n",
       "      <th>sepal width (cm)</th>\n",
       "      <th>petal length (cm)</th>\n",
       "      <th>petal width (cm)</th>\n",
       "      <th>Target</th>\n",
       "      <th>PC1</th>\n",
       "      <th>PC2</th>\n",
       "      <th>PC3</th>\n",
       "      <th>PC4</th>\n",
       "    </tr>\n",
       "  </thead>\n",
       "  <tbody>\n",
       "    <tr>\n",
       "      <td>0</td>\n",
       "      <td>5.1</td>\n",
       "      <td>3.5</td>\n",
       "      <td>1.4</td>\n",
       "      <td>0.2</td>\n",
       "      <td>0</td>\n",
       "      <td>-2.684126</td>\n",
       "      <td>0.319397</td>\n",
       "      <td>-0.027915</td>\n",
       "      <td>-0.002262</td>\n",
       "    </tr>\n",
       "    <tr>\n",
       "      <td>1</td>\n",
       "      <td>4.9</td>\n",
       "      <td>3.0</td>\n",
       "      <td>1.4</td>\n",
       "      <td>0.2</td>\n",
       "      <td>0</td>\n",
       "      <td>-2.714142</td>\n",
       "      <td>-0.177001</td>\n",
       "      <td>-0.210464</td>\n",
       "      <td>-0.099027</td>\n",
       "    </tr>\n",
       "    <tr>\n",
       "      <td>2</td>\n",
       "      <td>4.7</td>\n",
       "      <td>3.2</td>\n",
       "      <td>1.3</td>\n",
       "      <td>0.2</td>\n",
       "      <td>0</td>\n",
       "      <td>-2.888991</td>\n",
       "      <td>-0.144949</td>\n",
       "      <td>0.017900</td>\n",
       "      <td>-0.019968</td>\n",
       "    </tr>\n",
       "    <tr>\n",
       "      <td>3</td>\n",
       "      <td>4.6</td>\n",
       "      <td>3.1</td>\n",
       "      <td>1.5</td>\n",
       "      <td>0.2</td>\n",
       "      <td>0</td>\n",
       "      <td>-2.745343</td>\n",
       "      <td>-0.318299</td>\n",
       "      <td>0.031559</td>\n",
       "      <td>0.075576</td>\n",
       "    </tr>\n",
       "    <tr>\n",
       "      <td>4</td>\n",
       "      <td>5.0</td>\n",
       "      <td>3.6</td>\n",
       "      <td>1.4</td>\n",
       "      <td>0.2</td>\n",
       "      <td>0</td>\n",
       "      <td>-2.728717</td>\n",
       "      <td>0.326755</td>\n",
       "      <td>0.090079</td>\n",
       "      <td>0.061259</td>\n",
       "    </tr>\n",
       "  </tbody>\n",
       "</table>\n",
       "</div>"
      ],
      "text/plain": [
       "   sepal length (cm)  sepal width (cm)  petal length (cm)  petal width (cm)  \\\n",
       "0                5.1               3.5                1.4               0.2   \n",
       "1                4.9               3.0                1.4               0.2   \n",
       "2                4.7               3.2                1.3               0.2   \n",
       "3                4.6               3.1                1.5               0.2   \n",
       "4                5.0               3.6                1.4               0.2   \n",
       "\n",
       "   Target       PC1       PC2       PC3       PC4  \n",
       "0       0 -2.684126  0.319397 -0.027915 -0.002262  \n",
       "1       0 -2.714142 -0.177001 -0.210464 -0.099027  \n",
       "2       0 -2.888991 -0.144949  0.017900 -0.019968  \n",
       "3       0 -2.745343 -0.318299  0.031559  0.075576  \n",
       "4       0 -2.728717  0.326755  0.090079  0.061259  "
      ]
     },
     "execution_count": 15,
     "metadata": {},
     "output_type": "execute_result"
    }
   ],
   "source": [
    "df = pd.concat([df, X_transformed], axis=1)\n",
    "df.head()"
   ]
  },
  {
   "cell_type": "markdown",
   "metadata": {},
   "source": [
    "Now, we can create that same scatterplot of our decomposed data"
   ]
  },
  {
   "cell_type": "code",
   "execution_count": 16,
   "metadata": {},
   "outputs": [
    {
     "data": {
      "image/png": "[encoded data removed]",
      "text/plain": [
       "<Figure size 432x288 with 1 Axes>"
      ]
     },
     "metadata": {
      "needs_background": "light"
     },
     "output_type": "display_data"
    }
   ],
   "source": [
    "for target in df.Target.unique():\n",
    "    temp = df[df.Target == target]\n",
    "    plt.scatter(temp['PC1'], temp['PC2'])"
   ]
  },
  {
   "cell_type": "markdown",
   "metadata": {},
   "source": [
    "### For the interested, here's how to calculate principal components manually\n",
    "\n",
    "What follows is indebted to Sebastian Raschka (http://sebastianraschka.com/Articles/2015_pca_in_3_steps.html#pca-vs-lda)."
   ]
  },
  {
   "cell_type": "code",
   "execution_count": null,
   "metadata": {},
   "outputs": [],
   "source": [
    "# We'll start by producing the covariance matrix for the columns of X_tr_sc.\n",
    "\n",
    "cov_mat = np.cov(X_scaled, rowvar=False)\n",
    "cov_mat.shape"
   ]
  },
  {
   "cell_type": "code",
   "execution_count": null,
   "metadata": {},
   "outputs": [],
   "source": [
    "np.linalg.eig(cov_mat)"
   ]
  },
  {
   "cell_type": "code",
   "execution_count": null,
   "metadata": {},
   "outputs": [],
   "source": [
    "# Let's assign the results of eig(cov_mat) to a double of variables.\n",
    "\n",
    "eigvals, eigvecs = np.linalg.eig(cov_mat)"
   ]
  },
  {
   "cell_type": "code",
   "execution_count": null,
   "metadata": {},
   "outputs": [],
   "source": [
    "# The columns of \"eigvecs\" are the eigenvectors!\n",
    "\n",
    "eigvecs"
   ]
  },
  {
   "cell_type": "code",
   "execution_count": null,
   "metadata": {},
   "outputs": [],
   "source": [
    "# The eigenvectors of the covariance matrix are our principal components.\n",
    "# Let's look at the first three.\n",
    "\n",
    "pcabh = np.vstack([row[:3].reshape(1, 3) for row in eigvecs])"
   ]
  },
  {
   "cell_type": "markdown",
   "metadata": {},
   "source": [
    "Now, to transform our data points into the space defined by the principal components, we simply need to compute the dot-product of X_scaled with those principal components.\n",
    "\n",
    "Why? Think about what this matrix product looks like:\n",
    "\n",
    "We take a row of X_scaled and multiply it by a column of pcabh, pairwise. The row of X_scaled represents the values for the columns in the original space. The column of pcabh represents the weights we need on each of the original columns in order to transform a value into principal-component space. And so the product of these two matrices will be each row, transformed into principal-component space!"
   ]
  },
  {
   "cell_type": "code",
   "execution_count": null,
   "metadata": {},
   "outputs": [],
   "source": [
    "X_scaled.dot(pcabh)"
   ]
  },
  {
   "cell_type": "code",
   "execution_count": null,
   "metadata": {},
   "outputs": [],
   "source": [
    "# Naturally, sklearn has a shortcut for this!\n",
    "\n",
    "pca = PCA(n_components=3)                       # Check out how `n_components` works\n",
    "\n",
    "X_new = pca.fit_transform(X_scaled)"
   ]
  },
  {
   "cell_type": "code",
   "execution_count": null,
   "metadata": {},
   "outputs": [],
   "source": [
    "# Let's check out the explained variance\n",
    "\n",
    "pca.explained_variance_"
   ]
  },
  {
   "cell_type": "code",
   "execution_count": null,
   "metadata": {},
   "outputs": [],
   "source": [
    "# The ratio is often more informative\n",
    "\n",
    "pca.explained_variance_ratio_"
   ]
  },
  {
   "cell_type": "code",
   "execution_count": 20,
   "metadata": {},
   "outputs": [
    {
     "data": {
      "text/plain": [
       "array([[ 0.36138659, -0.08452251,  0.85667061,  0.3582892 ],\n",
       "       [ 0.65658877,  0.73016143, -0.17337266, -0.07548102],\n",
       "       [-0.58202985,  0.59791083,  0.07623608,  0.54583143],\n",
       "       [-0.31548719,  0.3197231 ,  0.47983899, -0.75365743]])"
      ]
     },
     "execution_count": 20,
     "metadata": {},
     "output_type": "execute_result"
    }
   ],
   "source": [
    "# We can also check out the Principal Components themselves\n",
    "\n",
    "pca.components_"
   ]
  },
  {
   "cell_type": "code",
   "execution_count": null,
   "metadata": {},
   "outputs": [],
   "source": []
  }
 ],
 "metadata": {
  "kernelspec": {
   "display_name": "Python 3",
   "language": "python",
   "name": "python3"
  },
  "language_info": {
   "codemirror_mode": {
    "name": "ipython",
    "version": 3
   },
   "file_extension": ".py",
   "mimetype": "text/x-python",
   "name": "python",
   "nbconvert_exporter": "python",
   "pygments_lexer": "ipython3",
   "version": "3.7.4"
  }
 },
 "nbformat": 4,
 "nbformat_minor": 4
}
