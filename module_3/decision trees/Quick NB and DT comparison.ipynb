{
 "cells": [
  {
   "cell_type": "code",
   "execution_count": null,
   "metadata": {},
   "outputs": [],
   "source": []
  },
  {
   "cell_type": "markdown",
   "metadata": {
    "slideshow": {
     "slide_type": "slide"
    }
   },
   "source": [
    "# Quick implementation and NB comparison"
   ]
  },
  {
   "cell_type": "code",
   "execution_count": 8,
   "metadata": {
    "slideshow": {
     "slide_type": "slide"
    }
   },
   "outputs": [],
   "source": [
    "#imports\n",
    "\n",
    "#data and data processing\n",
    "import pandas as pd\n",
    "import numpy as np\n",
    "\n",
    "#ML data manipulation\n",
    "from sklearn.datasets import make_hastie_10_2 \n",
    "from sklearn.model_selection import train_test_split\n",
    "from sklearn.model_selection import cross_validate\n",
    "from sklearn.preprocessing import StandardScaler\n",
    "from sklearn.model_selection import StratifiedKFold\n",
    "\n",
    "#ML algos\n",
    "from sklearn.tree import DecisionTreeClassifier\n",
    "from sklearn.naive_bayes import GaussianNB\n",
    "\n",
    "#ML algo metrics\n",
    "from sklearn.metrics import mean_squared_error\n",
    "from sklearn.metrics import confusion_matrix\n",
    "from sklearn.metrics import classification_report\n",
    "from sklearn.metrics import f1_score\n",
    "from sklearn.metrics import accuracy_score\n",
    "\n",
    "#viz\n",
    "import matplotlib.pyplot as plt\n",
    "import seaborn as sns\n",
    "\n",
    "#make the viz appear in jl\n",
    "%matplotlib inline"
   ]
  },
  {
   "cell_type": "code",
   "execution_count": 9,
   "metadata": {
    "slideshow": {
     "slide_type": "notes"
    }
   },
   "outputs": [
    {
     "name": "stdout",
     "output_type": "stream",
     "text": [
      "class balance of y\n",
      "\n",
      "1s in y:  4034.0\n",
      "0s in y:  3966.0\n"
     ]
    },
    {
     "data": {
      "text/html": [
       "<div>\n",
       "<style scoped>\n",
       "    .dataframe tbody tr th:only-of-type {\n",
       "        vertical-align: middle;\n",
       "    }\n",
       "\n",
       "    .dataframe tbody tr th {\n",
       "        vertical-align: top;\n",
       "    }\n",
       "\n",
       "    .dataframe thead th {\n",
       "        text-align: right;\n",
       "    }\n",
       "</style>\n",
       "<table border=\"1\" class=\"dataframe\">\n",
       "  <thead>\n",
       "    <tr style=\"text-align: right;\">\n",
       "      <th></th>\n",
       "      <th>0</th>\n",
       "      <th>1</th>\n",
       "      <th>2</th>\n",
       "      <th>3</th>\n",
       "      <th>4</th>\n",
       "      <th>5</th>\n",
       "      <th>6</th>\n",
       "      <th>7</th>\n",
       "      <th>8</th>\n",
       "      <th>9</th>\n",
       "    </tr>\n",
       "  </thead>\n",
       "  <tbody>\n",
       "    <tr>\n",
       "      <td>0</td>\n",
       "      <td>0.496714</td>\n",
       "      <td>-0.138264</td>\n",
       "      <td>0.647689</td>\n",
       "      <td>1.523030</td>\n",
       "      <td>-0.234153</td>\n",
       "      <td>-0.234137</td>\n",
       "      <td>1.579213</td>\n",
       "      <td>0.767435</td>\n",
       "      <td>-0.469474</td>\n",
       "      <td>0.542560</td>\n",
       "    </tr>\n",
       "    <tr>\n",
       "      <td>1</td>\n",
       "      <td>-0.463418</td>\n",
       "      <td>-0.465730</td>\n",
       "      <td>0.241962</td>\n",
       "      <td>-1.913280</td>\n",
       "      <td>-1.724918</td>\n",
       "      <td>-0.562288</td>\n",
       "      <td>-1.012831</td>\n",
       "      <td>0.314247</td>\n",
       "      <td>-0.908024</td>\n",
       "      <td>-1.412304</td>\n",
       "    </tr>\n",
       "    <tr>\n",
       "      <td>2</td>\n",
       "      <td>1.465649</td>\n",
       "      <td>-0.225776</td>\n",
       "      <td>0.067528</td>\n",
       "      <td>-1.424748</td>\n",
       "      <td>-0.544383</td>\n",
       "      <td>0.110923</td>\n",
       "      <td>-1.150994</td>\n",
       "      <td>0.375698</td>\n",
       "      <td>-0.600639</td>\n",
       "      <td>-0.291694</td>\n",
       "    </tr>\n",
       "    <tr>\n",
       "      <td>3</td>\n",
       "      <td>-0.601707</td>\n",
       "      <td>1.852278</td>\n",
       "      <td>-0.013497</td>\n",
       "      <td>-1.057711</td>\n",
       "      <td>0.822545</td>\n",
       "      <td>-1.220844</td>\n",
       "      <td>0.208864</td>\n",
       "      <td>-1.959670</td>\n",
       "      <td>-1.328186</td>\n",
       "      <td>0.196861</td>\n",
       "    </tr>\n",
       "    <tr>\n",
       "      <td>4</td>\n",
       "      <td>0.738467</td>\n",
       "      <td>0.171368</td>\n",
       "      <td>-0.115648</td>\n",
       "      <td>-0.301104</td>\n",
       "      <td>-1.478522</td>\n",
       "      <td>-0.719844</td>\n",
       "      <td>-0.460639</td>\n",
       "      <td>1.057122</td>\n",
       "      <td>0.343618</td>\n",
       "      <td>-1.763040</td>\n",
       "    </tr>\n",
       "  </tbody>\n",
       "</table>\n",
       "</div>"
      ],
      "text/plain": [
       "          0         1         2         3         4         5         6  \\\n",
       "0  0.496714 -0.138264  0.647689  1.523030 -0.234153 -0.234137  1.579213   \n",
       "1 -0.463418 -0.465730  0.241962 -1.913280 -1.724918 -0.562288 -1.012831   \n",
       "2  1.465649 -0.225776  0.067528 -1.424748 -0.544383  0.110923 -1.150994   \n",
       "3 -0.601707  1.852278 -0.013497 -1.057711  0.822545 -1.220844  0.208864   \n",
       "4  0.738467  0.171368 -0.115648 -0.301104 -1.478522 -0.719844 -0.460639   \n",
       "\n",
       "          7         8         9  \n",
       "0  0.767435 -0.469474  0.542560  \n",
       "1  0.314247 -0.908024 -1.412304  \n",
       "2  0.375698 -0.600639 -0.291694  \n",
       "3 -1.959670 -1.328186  0.196861  \n",
       "4  1.057122  0.343618 -1.763040  "
      ]
     },
     "execution_count": 9,
     "metadata": {},
     "output_type": "execute_result"
    }
   ],
   "source": [
    "#generate data and do some quick pre-processing\n",
    "X, y = make_hastie_10_2(n_samples=8000, random_state=42)\n",
    "\n",
    "y = [obs if obs==1 else 0 for obs in y]\n",
    "\n",
    "print('class balance of y')\n",
    "print()\n",
    "print('1s in y: ', np.sum(y))\n",
    "print('0s in y: ', len(y)-np.sum(y))\n",
    "\n",
    "df_features = pd.DataFrame(X)\n",
    "df_features.head()"
   ]
  },
  {
   "cell_type": "code",
   "execution_count": 15,
   "metadata": {},
   "outputs": [],
   "source": [
    "#train test split and scaling\n",
    "\n",
    "X_train, X_test, y_train, y_test = train_test_split(X, y, test_size=.2, random_state=42)\n",
    "\n",
    "ss = StandardScaler()\n",
    "X_train_sc = ss.fit_transform(X_train)\n",
    "X_test_sc = ss.transform(X_test)\n",
    "\n",
    "nb = GaussianNB()\n",
    "dt = DecisionTreeClassifier(criterion='entropy')"
   ]
  },
  {
   "cell_type": "markdown",
   "metadata": {},
   "source": [
    "Ok, here we go: fit the nb and dt models below"
   ]
  },
  {
   "cell_type": "code",
   "execution_count": 21,
   "metadata": {},
   "outputs": [],
   "source": [
    "#fit the nb object to the training data in the line below\n",
    "\n",
    "#fit the dt object to the training data in the line below"
   ]
  },
  {
   "cell_type": "markdown",
   "metadata": {},
   "source": [
    "Let's get the predictions on the training data each algo made\n",
    "\n",
    "take each classifier object and use .predict() with the appropriate arguments"
   ]
  },
  {
   "cell_type": "code",
   "execution_count": 13,
   "metadata": {},
   "outputs": [],
   "source": [
    "#take the nb object\n",
    "#add .predict()\n",
    "#and fill in .predict() with the appropraite argument\n",
    "\n",
    "nb_train_preds =  \n",
    "\n",
    "#take the dt object\n",
    "#add .predict()\n",
    "#and fill in .predict() with the appropraite argument\n",
    "dt_train_preds =  "
   ]
  },
  {
   "cell_type": "markdown",
   "metadata": {},
   "source": [
    "Let's fill out a confusion matrix for the training predicions"
   ]
  },
  {
   "cell_type": "code",
   "execution_count": 14,
   "metadata": {},
   "outputs": [
    {
     "name": "stdout",
     "output_type": "stream",
     "text": [
      "[[3038   27]\n",
      " [ 131 3204]]\n",
      "[[3169    0]\n",
      " [   0 3231]]\n"
     ]
    }
   ],
   "source": [
    "#create a confusion matrix here for the nb training preds\n",
    "nb_train_confusion_matrix = \n",
    "\n",
    "#create a confusion matrix here for the dt training preds\n",
    "dt_train_confustion_matrix =\n",
    "\n",
    "print(nb_train_confusion_matrix)\n",
    "print(dt_train_confustion_matrix)"
   ]
  },
  {
   "cell_type": "markdown",
   "metadata": {},
   "source": [
    "Let's do the same as above but for the test data:\n",
    "\n",
    "get predictions, and then make a confusion matrix\n",
    "\n",
    "so first, get predictions for the test data"
   ]
  },
  {
   "cell_type": "code",
   "execution_count": 16,
   "metadata": {},
   "outputs": [],
   "source": [
    "#take the nb object\n",
    "#add .predict()\n",
    "#and fill in .predict() with the appropraite argument\n",
    "nb_test_preds =  \n",
    "\n",
    "#take the dt object\n",
    "#add .predict()\n",
    "#and fill in .predict() with the appropraite argument\n",
    "dt_test_preds =  "
   ]
  },
  {
   "cell_type": "markdown",
   "metadata": {},
   "source": [
    "Aaaaaand the confusion matrices for the test predictions"
   ]
  },
  {
   "cell_type": "code",
   "execution_count": 19,
   "metadata": {},
   "outputs": [
    {
     "name": "stdout",
     "output_type": "stream",
     "text": [
      "[[754   3]\n",
      " [ 43 800]]\n",
      "[[652 188]\n",
      " [145 615]]\n"
     ]
    }
   ],
   "source": [
    "#create a confusion matrix here for the nb test preds\n",
    "nb_test_confusion_matrix = \n",
    "\n",
    "#create a confusion matrix here for the dt test preds\n",
    "dt_test_confustion_matrix = \n",
    "\n",
    "print(nb_test_confusion_matrix)\n",
    "print(dt_test_confustion_matrix)"
   ]
  },
  {
   "cell_type": "markdown",
   "metadata": {},
   "source": [
    "For each algo: \n",
    "\n",
    "  - compare their train and test matrices, and analyze in terms of bias and variance\n",
    "  - compare the test confusion matrices against each other.  Which algo is performing better and why?"
   ]
  },
  {
   "cell_type": "code",
   "execution_count": null,
   "metadata": {},
   "outputs": [],
   "source": []
  }
 ],
 "metadata": {
  "kernelspec": {
   "display_name": "Python 3",
   "language": "python",
   "name": "python3"
  },
  "language_info": {
   "codemirror_mode": {
    "name": "ipython",
    "version": 3
   },
   "file_extension": ".py",
   "mimetype": "text/x-python",
   "name": "python",
   "nbconvert_exporter": "python",
   "pygments_lexer": "ipython3",
   "version": "3.7.4"
  }
 },
 "nbformat": 4,
 "nbformat_minor": 4
}
