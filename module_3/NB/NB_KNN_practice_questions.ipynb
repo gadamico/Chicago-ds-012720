{
 "cells": [
  {
   "cell_type": "markdown",
   "metadata": {},
   "source": [
    "# NB and KNN practice\n",
    "\n",
    "We're going to implement the quick algos that you can use as baselines for more sophisticated ones\n",
    "\n",
    "Our goal is to implement a workflow of classification across two algos, consisting of:\n",
    "\n",
    "    - pre-split data cleaning\n",
    "    - train-test split\n",
    "    - pre-processing of data\n",
    "    - cross-validation to compare algo performance on the training set\n",
    "    - final model comparison on the test set"
   ]
  },
  {
   "cell_type": "code",
   "execution_count": 279,
   "metadata": {},
   "outputs": [],
   "source": [
    "#imports\n",
    "\n",
    "#data and data processing\n",
    "from sklearn.datasets import load_iris \n",
    "import pandas as pd\n",
    "import numpy as np\n",
    "\n",
    "#ML data manipulation\n",
    "from sklearn.model_selection import train_test_split\n",
    "from sklearn.model_selection import cross_validate\n",
    "from sklearn.preprocessing import StandardScaler\n",
    "from sklearn.model_selection import StratifiedKFold\n",
    "\n",
    "#ML algos\n",
    "from sklearn.neighbors import KNeighborsClassifier\n",
    "from sklearn.naive_bayes import GaussianNB\n",
    "\n",
    "#ML algo metrics\n",
    "from sklearn.metrics import mean_squared_error\n",
    "from sklearn.metrics import confusion_matrix\n",
    "from sklearn.metrics import classification_report\n",
    "from sklearn.metrics import f1_score\n",
    "from sklearn.metrics import accuracy_score\n",
    "\n",
    "#viz\n",
    "import matplotlib.pyplot as plt\n",
    "import seaborn as sns\n",
    "\n",
    "#make the viz appear in jl\n",
    "%matplotlib inline"
   ]
  },
  {
   "cell_type": "markdown",
   "metadata": {},
   "source": []
  },
  {
   "cell_type": "code",
   "execution_count": 313,
   "metadata": {},
   "outputs": [
    {
     "name": "stdout",
     "output_type": "stream",
     "text": [
      "class balance of y\n",
      "\n",
      "1s in y:  4034.0\n",
      "0s in y:  3966.0\n"
     ]
    },
    {
     "data": {
      "text/html": [
       "<div>\n",
       "<style scoped>\n",
       "    .dataframe tbody tr th:only-of-type {\n",
       "        vertical-align: middle;\n",
       "    }\n",
       "\n",
       "    .dataframe tbody tr th {\n",
       "        vertical-align: top;\n",
       "    }\n",
       "\n",
       "    .dataframe thead th {\n",
       "        text-align: right;\n",
       "    }\n",
       "</style>\n",
       "<table border=\"1\" class=\"dataframe\">\n",
       "  <thead>\n",
       "    <tr style=\"text-align: right;\">\n",
       "      <th></th>\n",
       "      <th>0</th>\n",
       "      <th>1</th>\n",
       "      <th>2</th>\n",
       "      <th>3</th>\n",
       "      <th>4</th>\n",
       "      <th>5</th>\n",
       "      <th>6</th>\n",
       "      <th>7</th>\n",
       "      <th>8</th>\n",
       "      <th>9</th>\n",
       "    </tr>\n",
       "  </thead>\n",
       "  <tbody>\n",
       "    <tr>\n",
       "      <td>0</td>\n",
       "      <td>0.496714</td>\n",
       "      <td>-0.138264</td>\n",
       "      <td>0.647689</td>\n",
       "      <td>1.523030</td>\n",
       "      <td>-0.234153</td>\n",
       "      <td>-0.234137</td>\n",
       "      <td>1.579213</td>\n",
       "      <td>0.767435</td>\n",
       "      <td>-0.469474</td>\n",
       "      <td>0.542560</td>\n",
       "    </tr>\n",
       "    <tr>\n",
       "      <td>1</td>\n",
       "      <td>-0.463418</td>\n",
       "      <td>-0.465730</td>\n",
       "      <td>0.241962</td>\n",
       "      <td>-1.913280</td>\n",
       "      <td>-1.724918</td>\n",
       "      <td>-0.562288</td>\n",
       "      <td>-1.012831</td>\n",
       "      <td>0.314247</td>\n",
       "      <td>-0.908024</td>\n",
       "      <td>-1.412304</td>\n",
       "    </tr>\n",
       "    <tr>\n",
       "      <td>2</td>\n",
       "      <td>1.465649</td>\n",
       "      <td>-0.225776</td>\n",
       "      <td>0.067528</td>\n",
       "      <td>-1.424748</td>\n",
       "      <td>-0.544383</td>\n",
       "      <td>0.110923</td>\n",
       "      <td>-1.150994</td>\n",
       "      <td>0.375698</td>\n",
       "      <td>-0.600639</td>\n",
       "      <td>-0.291694</td>\n",
       "    </tr>\n",
       "    <tr>\n",
       "      <td>3</td>\n",
       "      <td>-0.601707</td>\n",
       "      <td>1.852278</td>\n",
       "      <td>-0.013497</td>\n",
       "      <td>-1.057711</td>\n",
       "      <td>0.822545</td>\n",
       "      <td>-1.220844</td>\n",
       "      <td>0.208864</td>\n",
       "      <td>-1.959670</td>\n",
       "      <td>-1.328186</td>\n",
       "      <td>0.196861</td>\n",
       "    </tr>\n",
       "    <tr>\n",
       "      <td>4</td>\n",
       "      <td>0.738467</td>\n",
       "      <td>0.171368</td>\n",
       "      <td>-0.115648</td>\n",
       "      <td>-0.301104</td>\n",
       "      <td>-1.478522</td>\n",
       "      <td>-0.719844</td>\n",
       "      <td>-0.460639</td>\n",
       "      <td>1.057122</td>\n",
       "      <td>0.343618</td>\n",
       "      <td>-1.763040</td>\n",
       "    </tr>\n",
       "  </tbody>\n",
       "</table>\n",
       "</div>"
      ],
      "text/plain": [
       "          0         1         2         3         4         5         6  \\\n",
       "0  0.496714 -0.138264  0.647689  1.523030 -0.234153 -0.234137  1.579213   \n",
       "1 -0.463418 -0.465730  0.241962 -1.913280 -1.724918 -0.562288 -1.012831   \n",
       "2  1.465649 -0.225776  0.067528 -1.424748 -0.544383  0.110923 -1.150994   \n",
       "3 -0.601707  1.852278 -0.013497 -1.057711  0.822545 -1.220844  0.208864   \n",
       "4  0.738467  0.171368 -0.115648 -0.301104 -1.478522 -0.719844 -0.460639   \n",
       "\n",
       "          7         8         9  \n",
       "0  0.767435 -0.469474  0.542560  \n",
       "1  0.314247 -0.908024 -1.412304  \n",
       "2  0.375698 -0.600639 -0.291694  \n",
       "3 -1.959670 -1.328186  0.196861  \n",
       "4  1.057122  0.343618 -1.763040  "
      ]
     },
     "execution_count": 313,
     "metadata": {},
     "output_type": "execute_result"
    }
   ],
   "source": [
    "#generate data and do some quick pre-processing\n",
    "X, y = make_hastie_10_2(n_samples=8000, random_state=42)\n",
    "\n",
    "y = [obs if obs==1 else 0 for obs in y]\n",
    "\n",
    "print('class balance of y')\n",
    "print()\n",
    "print('1s in y: ', np.sum(y))\n",
    "print('0s in y: ', len(y)-np.sum(y))\n",
    "\n",
    "df_features = pd.DataFrame(X)\n",
    "df_features.head()"
   ]
  },
  {
   "cell_type": "code",
   "execution_count": 325,
   "metadata": {},
   "outputs": [
    {
     "name": "stdout",
     "output_type": "stream",
     "text": [
      "X_train obs:  6400\n",
      "y_train obs:  6400\n",
      "X_test obs:  1600\n",
      "y_test obs:  1600\n"
     ]
    }
   ],
   "source": [
    "#train-test split and check the rows\n",
    "\n",
    "\n",
    "\n",
    "\n"
   ]
  },
  {
   "cell_type": "code",
   "execution_count": 326,
   "metadata": {},
   "outputs": [],
   "source": [
    "#standard scale the data.  Why do we do it after the train-test split?\n",
    "X_train_sc = \n",
    "\n",
    "#create a list of strings of the metrics you want to use\n",
    "#look up in the sklearn docs what string goes with what metric\n",
    "metrics = "
   ]
  },
  {
   "cell_type": "markdown",
   "metadata": {},
   "source": [
    "### Cross Validation\n",
    "\n",
    "create a dictionary to store metric averages from crossval process\n",
    "\n",
    "loop through the number of ks from 3 to 18\n",
    "\n",
    "in each loop:\n",
    "  - create a knn object with n_neighbors=k\n",
    "  - using cross_validate(), get metrics for 4-fold cross-validation\n",
    "  - in the dictionary you created, with k as the key, store the means of the metric results as another dictionary"
   ]
  },
  {
   "cell_type": "code",
   "execution_count": 335,
   "metadata": {},
   "outputs": [],
   "source": [
    "\n",
    "\n",
    "\n",
    "\n",
    "\n",
    "\n",
    "\n",
    "\n"
   ]
  },
  {
   "cell_type": "markdown",
   "metadata": {},
   "source": [
    "Now plot the various metrics across the values of k"
   ]
  },
  {
   "cell_type": "code",
   "execution_count": 336,
   "metadata": {},
   "outputs": [
    {
     "data": {
      "image/png": "[encoded data removed]",
      "text/plain": [
       "<Figure size 432x288 with 1 Axes>"
      ]
     },
     "metadata": {
      "needs_background": "light"
     },
     "output_type": "display_data"
    }
   ],
   "source": [
    "\n",
    "\n",
    "\n",
    "\n",
    "\n",
    "\n",
    "\n",
    "\n",
    "\n"
   ]
  },
  {
   "cell_type": "markdown",
   "metadata": {},
   "source": [
    "Repeat the process for naive bayes, but this time you don't have to loop through a number of k's\n",
    "\n",
    "Just:\n",
    "\n",
    "  - create a naive bayes classification object\n",
    "  - get the results for each of your metrics in a 4-fold crossvalidation using cross_validate()\n",
    "  - store the mean of each metric in a dict, eg nb['accuracy'] = .67 \n",
    "  - since we don't really have anything to graph, let's print out the mean of each metric stored in our dict"
   ]
  },
  {
   "cell_type": "code",
   "execution_count": 301,
   "metadata": {},
   "outputs": [
    {
     "name": "stdout",
     "output_type": "stream",
     "text": [
      "NB accuracy: 0.9671761647904941\n",
      "NB precision: 0.9482758620689655\n",
      "NB recall: 0.9913312660262309\n",
      "NB f1: 0.9682579857953901\n",
      "NB roc_auc: 0.9980164247450147\n"
     ]
    }
   ],
   "source": [
    "\n",
    "\n",
    "\n",
    "\n",
    "\n",
    "\n",
    "\n",
    "    "
   ]
  },
  {
   "cell_type": "markdown",
   "metadata": {},
   "source": [
    "### from sklearn documentation:\n",
    "\n",
    "By definition a confusion matrix **C**\\\\(_{i,j}\\\\) is such that is equal to the number of observations known to be in group **i** and predicted to be in group **j**\n",
    "\n",
    "Thus in binary classification, the count of true negatives is **C**\\\\(_{0,0}\\\\), false negatives is **C**\\\\(_{1,0}\\\\), true positives is **C**\\\\(_{1,1}\\\\) and false positives is **C**\\\\(_{0,1}\\\\)."
   ]
  },
  {
   "cell_type": "markdown",
   "metadata": {},
   "source": [
    "### Final model comparisons"
   ]
  },
  {
   "cell_type": "markdown",
   "metadata": {},
   "source": [
    "Now that we've decided a value for k and have an idea of how the algos will do against new data from the crossval process, let's get the final model comparisons from the test set\n",
    "\n",
    "  - create a knn object w/ n_neighbors we decided on above\n",
    "  - fit on the training data, predict on the test\n",
    "  - print a numerical confusion matrix  \n",
    "  - calculate the final accuracy, precision, recall, f1 score\n",
    "  - graph a heatmap confusion matrix\n",
    "  - And repeat with a naive bayes classifier (minus the n_neighbors bit, of course)"
   ]
  },
  {
   "cell_type": "code",
   "execution_count": 334,
   "metadata": {},
   "outputs": [
    {
     "name": "stdout",
     "output_type": "stream",
     "text": [
      "[[761 412]\n",
      " [ 36 391]]\n"
     ]
    },
    {
     "data": {
      "image/png": "[encoded data removed]",
      "text/plain": [
       "<Figure size 432x288 with 2 Axes>"
      ]
     },
     "metadata": {
      "needs_background": "light"
     },
     "output_type": "display_data"
    }
   ],
   "source": []
  },
  {
   "cell_type": "code",
   "execution_count": null,
   "metadata": {},
   "outputs": [],
   "source": []
  },
  {
   "cell_type": "markdown",
   "metadata": {},
   "source": []
  },
  {
   "cell_type": "code",
   "execution_count": null,
   "metadata": {},
   "outputs": [],
   "source": []
  },
  {
   "cell_type": "code",
   "execution_count": null,
   "metadata": {},
   "outputs": [],
   "source": []
  },
  {
   "cell_type": "code",
   "execution_count": null,
   "metadata": {},
   "outputs": [],
   "source": []
  },
  {
   "cell_type": "code",
   "execution_count": null,
   "metadata": {},
   "outputs": [],
   "source": []
  },
  {
   "cell_type": "code",
   "execution_count": null,
   "metadata": {},
   "outputs": [],
   "source": []
  }
 ],
 "metadata": {
  "kernelspec": {
   "display_name": "Python 3",
   "language": "python",
   "name": "python3"
  },
  "language_info": {
   "codemirror_mode": {
    "name": "ipython",
    "version": 3
   },
   "file_extension": ".py",
   "mimetype": "text/x-python",
   "name": "python",
   "nbconvert_exporter": "python",
   "pygments_lexer": "ipython3",
   "version": "3.7.4"
  }
 },
 "nbformat": 4,
 "nbformat_minor": 4
}
